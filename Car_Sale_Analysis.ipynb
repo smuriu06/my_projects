{
  "nbformat": 4,
  "nbformat_minor": 0,
  "metadata": {
    "colab": {
      "provenance": [],
      "toc_visible": true,
      "authorship_tag": "ABX9TyPQqEelqw4jWGFbljdf0KYC",
      "include_colab_link": true
    },
    "kernelspec": {
      "name": "python3",
      "display_name": "Python 3"
    },
    "language_info": {
      "name": "python"
    }
  },
  "cells": [
    {
      "cell_type": "markdown",
      "metadata": {
        "id": "view-in-github",
        "colab_type": "text"
      },
      "source": [
        "<a href=\"https://colab.research.google.com/github/smuriu06/my_projects/blob/main/Car_Sale_Analysis.ipynb\" target=\"_parent\"><img src=\"https://colab.research.google.com/assets/colab-badge.svg\" alt=\"Open In Colab\"/></a>"
      ]
    },
    {
      "cell_type": "markdown",
      "source": [
        "#Background"
      ],
      "metadata": {
        "id": "ve-uVgFSaGFU"
      }
    },
    {
      "cell_type": "markdown",
      "source": [
        "This report analyzes car sales data to identify key trends, performance metrics, and insights that can drive business decisions. The dataset  includes details such as sales dates, car models, prices, engine type, and customer information. By examining this data, the aim is to uncover patterns in sales performance, regional preferences, and factors influencing revenue. The insights gained can help optimize inventory management, pricing strategies, and marketing efforts."
      ],
      "metadata": {
        "id": "LYSpSVZSaRiN"
      }
    },
    {
      "cell_type": "markdown",
      "source": [
        "#Importing Libraries"
      ],
      "metadata": {
        "id": "Ow1Ap5l5baD1"
      }
    },
    {
      "cell_type": "code",
      "source": [
        "import pandas as pd\n",
        "import numpy as np\n",
        "import matplotlib as plt\n",
        "import seaborn as sns\n",
        "import plotly.express as px\n",
        "import matplotlib.pyplot as plt"
      ],
      "metadata": {
        "id": "_Cfd3QSubv3u"
      },
      "execution_count": 62,
      "outputs": []
    },
    {
      "cell_type": "markdown",
      "source": [
        "#Loading and Inspecting Data"
      ],
      "metadata": {
        "id": "zBKDDt9HcFdx"
      }
    },
    {
      "cell_type": "code",
      "source": [
        "#loading data\n",
        "df=pd.read_excel('/content/Copy of Car Sales.xlsx')"
      ],
      "metadata": {
        "id": "IZi3p6dgcMBc"
      },
      "execution_count": 2,
      "outputs": []
    },
    {
      "cell_type": "code",
      "source": [
        "#data shape\n",
        "df.shape"
      ],
      "metadata": {
        "colab": {
          "base_uri": "https://localhost:8080/"
        },
        "id": "7caDmSayc57s",
        "outputId": "2e6ff33b-f9f8-4c14-caa0-23df88d47188"
      },
      "execution_count": 4,
      "outputs": [
        {
          "output_type": "execute_result",
          "data": {
            "text/plain": [
              "(23906, 16)"
            ]
          },
          "metadata": {},
          "execution_count": 4
        }
      ]
    },
    {
      "cell_type": "code",
      "source": [
        "#data head\n",
        "df.head()"
      ],
      "metadata": {
        "colab": {
          "base_uri": "https://localhost:8080/",
          "height": 365
        },
        "id": "w67b7tXRdEdk",
        "outputId": "74fb39f6-477e-4b3c-86d4-b3d61045e322"
      },
      "execution_count": 5,
      "outputs": [
        {
          "output_type": "execute_result",
          "data": {
            "text/plain": [
              "         Car_id       Date Customer Name Gender  Annual Income  \\\n",
              "0  C_CND_000001 2022-01-02     Geraldine   Male          13500   \n",
              "1  C_CND_000002 2022-01-02           Gia   Male        1480000   \n",
              "2  C_CND_000003 2022-01-02        Gianna   Male        1035000   \n",
              "3  C_CND_000004 2022-01-02       Giselle   Male          13500   \n",
              "4  C_CND_000005 2022-01-02         Grace   Male        1465000   \n",
              "\n",
              "                           Dealer_Name   Company       Model  \\\n",
              "0  Buddy Storbeck's Diesel Service Inc      Ford  Expedition   \n",
              "1                     C & M Motors Inc     Dodge     Durango   \n",
              "2                          Capitol KIA  Cadillac    Eldorado   \n",
              "3               Chrysler of Tri-Cities    Toyota      Celica   \n",
              "4                    Chrysler Plymouth     Acura          TL   \n",
              "\n",
              "                      Engine Transmission       Color  Price ($)  Dealer_No   \\\n",
              "0  DoubleÂ Overhead Camshaft         Auto       Black      26000  06457-3834   \n",
              "1  DoubleÂ Overhead Camshaft         Auto       Black      19000  60504-7114   \n",
              "2          Overhead Camshaft       Manual         Red      31500  38701-8047   \n",
              "3          Overhead Camshaft       Manual  Pale White      14000  99301-3882   \n",
              "4  DoubleÂ Overhead Camshaft         Auto         Red      24500  53546-9427   \n",
              "\n",
              "  Body Style    Phone Dealer_Region  \n",
              "0        SUV  8264678    Middletown  \n",
              "1        SUV  6848189        Aurora  \n",
              "2  Passenger  7298798    Greenville  \n",
              "3        SUV  6257557         Pasco  \n",
              "4  Hatchback  7081483    Janesville  "
            ],
            "text/html": [
              "\n",
              "  <div id=\"df-39776a9c-abd0-4c21-abd7-86d114b2d1b8\" class=\"colab-df-container\">\n",
              "    <div>\n",
              "<style scoped>\n",
              "    .dataframe tbody tr th:only-of-type {\n",
              "        vertical-align: middle;\n",
              "    }\n",
              "\n",
              "    .dataframe tbody tr th {\n",
              "        vertical-align: top;\n",
              "    }\n",
              "\n",
              "    .dataframe thead th {\n",
              "        text-align: right;\n",
              "    }\n",
              "</style>\n",
              "<table border=\"1\" class=\"dataframe\">\n",
              "  <thead>\n",
              "    <tr style=\"text-align: right;\">\n",
              "      <th></th>\n",
              "      <th>Car_id</th>\n",
              "      <th>Date</th>\n",
              "      <th>Customer Name</th>\n",
              "      <th>Gender</th>\n",
              "      <th>Annual Income</th>\n",
              "      <th>Dealer_Name</th>\n",
              "      <th>Company</th>\n",
              "      <th>Model</th>\n",
              "      <th>Engine</th>\n",
              "      <th>Transmission</th>\n",
              "      <th>Color</th>\n",
              "      <th>Price ($)</th>\n",
              "      <th>Dealer_No</th>\n",
              "      <th>Body Style</th>\n",
              "      <th>Phone</th>\n",
              "      <th>Dealer_Region</th>\n",
              "    </tr>\n",
              "  </thead>\n",
              "  <tbody>\n",
              "    <tr>\n",
              "      <th>0</th>\n",
              "      <td>C_CND_000001</td>\n",
              "      <td>2022-01-02</td>\n",
              "      <td>Geraldine</td>\n",
              "      <td>Male</td>\n",
              "      <td>13500</td>\n",
              "      <td>Buddy Storbeck's Diesel Service Inc</td>\n",
              "      <td>Ford</td>\n",
              "      <td>Expedition</td>\n",
              "      <td>DoubleÂ Overhead Camshaft</td>\n",
              "      <td>Auto</td>\n",
              "      <td>Black</td>\n",
              "      <td>26000</td>\n",
              "      <td>06457-3834</td>\n",
              "      <td>SUV</td>\n",
              "      <td>8264678</td>\n",
              "      <td>Middletown</td>\n",
              "    </tr>\n",
              "    <tr>\n",
              "      <th>1</th>\n",
              "      <td>C_CND_000002</td>\n",
              "      <td>2022-01-02</td>\n",
              "      <td>Gia</td>\n",
              "      <td>Male</td>\n",
              "      <td>1480000</td>\n",
              "      <td>C &amp; M Motors Inc</td>\n",
              "      <td>Dodge</td>\n",
              "      <td>Durango</td>\n",
              "      <td>DoubleÂ Overhead Camshaft</td>\n",
              "      <td>Auto</td>\n",
              "      <td>Black</td>\n",
              "      <td>19000</td>\n",
              "      <td>60504-7114</td>\n",
              "      <td>SUV</td>\n",
              "      <td>6848189</td>\n",
              "      <td>Aurora</td>\n",
              "    </tr>\n",
              "    <tr>\n",
              "      <th>2</th>\n",
              "      <td>C_CND_000003</td>\n",
              "      <td>2022-01-02</td>\n",
              "      <td>Gianna</td>\n",
              "      <td>Male</td>\n",
              "      <td>1035000</td>\n",
              "      <td>Capitol KIA</td>\n",
              "      <td>Cadillac</td>\n",
              "      <td>Eldorado</td>\n",
              "      <td>Overhead Camshaft</td>\n",
              "      <td>Manual</td>\n",
              "      <td>Red</td>\n",
              "      <td>31500</td>\n",
              "      <td>38701-8047</td>\n",
              "      <td>Passenger</td>\n",
              "      <td>7298798</td>\n",
              "      <td>Greenville</td>\n",
              "    </tr>\n",
              "    <tr>\n",
              "      <th>3</th>\n",
              "      <td>C_CND_000004</td>\n",
              "      <td>2022-01-02</td>\n",
              "      <td>Giselle</td>\n",
              "      <td>Male</td>\n",
              "      <td>13500</td>\n",
              "      <td>Chrysler of Tri-Cities</td>\n",
              "      <td>Toyota</td>\n",
              "      <td>Celica</td>\n",
              "      <td>Overhead Camshaft</td>\n",
              "      <td>Manual</td>\n",
              "      <td>Pale White</td>\n",
              "      <td>14000</td>\n",
              "      <td>99301-3882</td>\n",
              "      <td>SUV</td>\n",
              "      <td>6257557</td>\n",
              "      <td>Pasco</td>\n",
              "    </tr>\n",
              "    <tr>\n",
              "      <th>4</th>\n",
              "      <td>C_CND_000005</td>\n",
              "      <td>2022-01-02</td>\n",
              "      <td>Grace</td>\n",
              "      <td>Male</td>\n",
              "      <td>1465000</td>\n",
              "      <td>Chrysler Plymouth</td>\n",
              "      <td>Acura</td>\n",
              "      <td>TL</td>\n",
              "      <td>DoubleÂ Overhead Camshaft</td>\n",
              "      <td>Auto</td>\n",
              "      <td>Red</td>\n",
              "      <td>24500</td>\n",
              "      <td>53546-9427</td>\n",
              "      <td>Hatchback</td>\n",
              "      <td>7081483</td>\n",
              "      <td>Janesville</td>\n",
              "    </tr>\n",
              "  </tbody>\n",
              "</table>\n",
              "</div>\n",
              "    <div class=\"colab-df-buttons\">\n",
              "\n",
              "  <div class=\"colab-df-container\">\n",
              "    <button class=\"colab-df-convert\" onclick=\"convertToInteractive('df-39776a9c-abd0-4c21-abd7-86d114b2d1b8')\"\n",
              "            title=\"Convert this dataframe to an interactive table.\"\n",
              "            style=\"display:none;\">\n",
              "\n",
              "  <svg xmlns=\"http://www.w3.org/2000/svg\" height=\"24px\" viewBox=\"0 -960 960 960\">\n",
              "    <path d=\"M120-120v-720h720v720H120Zm60-500h600v-160H180v160Zm220 220h160v-160H400v160Zm0 220h160v-160H400v160ZM180-400h160v-160H180v160Zm440 0h160v-160H620v160ZM180-180h160v-160H180v160Zm440 0h160v-160H620v160Z\"/>\n",
              "  </svg>\n",
              "    </button>\n",
              "\n",
              "  <style>\n",
              "    .colab-df-container {\n",
              "      display:flex;\n",
              "      gap: 12px;\n",
              "    }\n",
              "\n",
              "    .colab-df-convert {\n",
              "      background-color: #E8F0FE;\n",
              "      border: none;\n",
              "      border-radius: 50%;\n",
              "      cursor: pointer;\n",
              "      display: none;\n",
              "      fill: #1967D2;\n",
              "      height: 32px;\n",
              "      padding: 0 0 0 0;\n",
              "      width: 32px;\n",
              "    }\n",
              "\n",
              "    .colab-df-convert:hover {\n",
              "      background-color: #E2EBFA;\n",
              "      box-shadow: 0px 1px 2px rgba(60, 64, 67, 0.3), 0px 1px 3px 1px rgba(60, 64, 67, 0.15);\n",
              "      fill: #174EA6;\n",
              "    }\n",
              "\n",
              "    .colab-df-buttons div {\n",
              "      margin-bottom: 4px;\n",
              "    }\n",
              "\n",
              "    [theme=dark] .colab-df-convert {\n",
              "      background-color: #3B4455;\n",
              "      fill: #D2E3FC;\n",
              "    }\n",
              "\n",
              "    [theme=dark] .colab-df-convert:hover {\n",
              "      background-color: #434B5C;\n",
              "      box-shadow: 0px 1px 3px 1px rgba(0, 0, 0, 0.15);\n",
              "      filter: drop-shadow(0px 1px 2px rgba(0, 0, 0, 0.3));\n",
              "      fill: #FFFFFF;\n",
              "    }\n",
              "  </style>\n",
              "\n",
              "    <script>\n",
              "      const buttonEl =\n",
              "        document.querySelector('#df-39776a9c-abd0-4c21-abd7-86d114b2d1b8 button.colab-df-convert');\n",
              "      buttonEl.style.display =\n",
              "        google.colab.kernel.accessAllowed ? 'block' : 'none';\n",
              "\n",
              "      async function convertToInteractive(key) {\n",
              "        const element = document.querySelector('#df-39776a9c-abd0-4c21-abd7-86d114b2d1b8');\n",
              "        const dataTable =\n",
              "          await google.colab.kernel.invokeFunction('convertToInteractive',\n",
              "                                                    [key], {});\n",
              "        if (!dataTable) return;\n",
              "\n",
              "        const docLinkHtml = 'Like what you see? Visit the ' +\n",
              "          '<a target=\"_blank\" href=https://colab.research.google.com/notebooks/data_table.ipynb>data table notebook</a>'\n",
              "          + ' to learn more about interactive tables.';\n",
              "        element.innerHTML = '';\n",
              "        dataTable['output_type'] = 'display_data';\n",
              "        await google.colab.output.renderOutput(dataTable, element);\n",
              "        const docLink = document.createElement('div');\n",
              "        docLink.innerHTML = docLinkHtml;\n",
              "        element.appendChild(docLink);\n",
              "      }\n",
              "    </script>\n",
              "  </div>\n",
              "\n",
              "\n",
              "<div id=\"df-ff3e36b9-09e2-4548-a59c-a7be97497905\">\n",
              "  <button class=\"colab-df-quickchart\" onclick=\"quickchart('df-ff3e36b9-09e2-4548-a59c-a7be97497905')\"\n",
              "            title=\"Suggest charts\"\n",
              "            style=\"display:none;\">\n",
              "\n",
              "<svg xmlns=\"http://www.w3.org/2000/svg\" height=\"24px\"viewBox=\"0 0 24 24\"\n",
              "     width=\"24px\">\n",
              "    <g>\n",
              "        <path d=\"M19 3H5c-1.1 0-2 .9-2 2v14c0 1.1.9 2 2 2h14c1.1 0 2-.9 2-2V5c0-1.1-.9-2-2-2zM9 17H7v-7h2v7zm4 0h-2V7h2v10zm4 0h-2v-4h2v4z\"/>\n",
              "    </g>\n",
              "</svg>\n",
              "  </button>\n",
              "\n",
              "<style>\n",
              "  .colab-df-quickchart {\n",
              "      --bg-color: #E8F0FE;\n",
              "      --fill-color: #1967D2;\n",
              "      --hover-bg-color: #E2EBFA;\n",
              "      --hover-fill-color: #174EA6;\n",
              "      --disabled-fill-color: #AAA;\n",
              "      --disabled-bg-color: #DDD;\n",
              "  }\n",
              "\n",
              "  [theme=dark] .colab-df-quickchart {\n",
              "      --bg-color: #3B4455;\n",
              "      --fill-color: #D2E3FC;\n",
              "      --hover-bg-color: #434B5C;\n",
              "      --hover-fill-color: #FFFFFF;\n",
              "      --disabled-bg-color: #3B4455;\n",
              "      --disabled-fill-color: #666;\n",
              "  }\n",
              "\n",
              "  .colab-df-quickchart {\n",
              "    background-color: var(--bg-color);\n",
              "    border: none;\n",
              "    border-radius: 50%;\n",
              "    cursor: pointer;\n",
              "    display: none;\n",
              "    fill: var(--fill-color);\n",
              "    height: 32px;\n",
              "    padding: 0;\n",
              "    width: 32px;\n",
              "  }\n",
              "\n",
              "  .colab-df-quickchart:hover {\n",
              "    background-color: var(--hover-bg-color);\n",
              "    box-shadow: 0 1px 2px rgba(60, 64, 67, 0.3), 0 1px 3px 1px rgba(60, 64, 67, 0.15);\n",
              "    fill: var(--button-hover-fill-color);\n",
              "  }\n",
              "\n",
              "  .colab-df-quickchart-complete:disabled,\n",
              "  .colab-df-quickchart-complete:disabled:hover {\n",
              "    background-color: var(--disabled-bg-color);\n",
              "    fill: var(--disabled-fill-color);\n",
              "    box-shadow: none;\n",
              "  }\n",
              "\n",
              "  .colab-df-spinner {\n",
              "    border: 2px solid var(--fill-color);\n",
              "    border-color: transparent;\n",
              "    border-bottom-color: var(--fill-color);\n",
              "    animation:\n",
              "      spin 1s steps(1) infinite;\n",
              "  }\n",
              "\n",
              "  @keyframes spin {\n",
              "    0% {\n",
              "      border-color: transparent;\n",
              "      border-bottom-color: var(--fill-color);\n",
              "      border-left-color: var(--fill-color);\n",
              "    }\n",
              "    20% {\n",
              "      border-color: transparent;\n",
              "      border-left-color: var(--fill-color);\n",
              "      border-top-color: var(--fill-color);\n",
              "    }\n",
              "    30% {\n",
              "      border-color: transparent;\n",
              "      border-left-color: var(--fill-color);\n",
              "      border-top-color: var(--fill-color);\n",
              "      border-right-color: var(--fill-color);\n",
              "    }\n",
              "    40% {\n",
              "      border-color: transparent;\n",
              "      border-right-color: var(--fill-color);\n",
              "      border-top-color: var(--fill-color);\n",
              "    }\n",
              "    60% {\n",
              "      border-color: transparent;\n",
              "      border-right-color: var(--fill-color);\n",
              "    }\n",
              "    80% {\n",
              "      border-color: transparent;\n",
              "      border-right-color: var(--fill-color);\n",
              "      border-bottom-color: var(--fill-color);\n",
              "    }\n",
              "    90% {\n",
              "      border-color: transparent;\n",
              "      border-bottom-color: var(--fill-color);\n",
              "    }\n",
              "  }\n",
              "</style>\n",
              "\n",
              "  <script>\n",
              "    async function quickchart(key) {\n",
              "      const quickchartButtonEl =\n",
              "        document.querySelector('#' + key + ' button');\n",
              "      quickchartButtonEl.disabled = true;  // To prevent multiple clicks.\n",
              "      quickchartButtonEl.classList.add('colab-df-spinner');\n",
              "      try {\n",
              "        const charts = await google.colab.kernel.invokeFunction(\n",
              "            'suggestCharts', [key], {});\n",
              "      } catch (error) {\n",
              "        console.error('Error during call to suggestCharts:', error);\n",
              "      }\n",
              "      quickchartButtonEl.classList.remove('colab-df-spinner');\n",
              "      quickchartButtonEl.classList.add('colab-df-quickchart-complete');\n",
              "    }\n",
              "    (() => {\n",
              "      let quickchartButtonEl =\n",
              "        document.querySelector('#df-ff3e36b9-09e2-4548-a59c-a7be97497905 button');\n",
              "      quickchartButtonEl.style.display =\n",
              "        google.colab.kernel.accessAllowed ? 'block' : 'none';\n",
              "    })();\n",
              "  </script>\n",
              "</div>\n",
              "\n",
              "    </div>\n",
              "  </div>\n"
            ],
            "application/vnd.google.colaboratory.intrinsic+json": {
              "type": "dataframe",
              "variable_name": "df",
              "summary": "{\n  \"name\": \"df\",\n  \"rows\": 23906,\n  \"fields\": [\n    {\n      \"column\": \"Car_id\",\n      \"properties\": {\n        \"dtype\": \"string\",\n        \"num_unique_values\": 23906,\n        \"samples\": [\n          \"C_CND_003394\",\n          \"C_CND_000517\",\n          \"C_CND_000537\"\n        ],\n        \"semantic_type\": \"\",\n        \"description\": \"\"\n      }\n    },\n    {\n      \"column\": \"Date\",\n      \"properties\": {\n        \"dtype\": \"date\",\n        \"min\": \"2022-01-02 00:00:00\",\n        \"max\": \"2023-12-31 00:00:00\",\n        \"num_unique_values\": 612,\n        \"samples\": [\n          \"2022-04-25 00:00:00\",\n          \"2022-10-15 00:00:00\",\n          \"2022-03-24 00:00:00\"\n        ],\n        \"semantic_type\": \"\",\n        \"description\": \"\"\n      }\n    },\n    {\n      \"column\": \"Customer Name\",\n      \"properties\": {\n        \"dtype\": \"category\",\n        \"num_unique_values\": 3021,\n        \"samples\": [\n          \"Albertine\",\n          \"Orlane\",\n          \"Kelly\"\n        ],\n        \"semantic_type\": \"\",\n        \"description\": \"\"\n      }\n    },\n    {\n      \"column\": \"Gender\",\n      \"properties\": {\n        \"dtype\": \"category\",\n        \"num_unique_values\": 2,\n        \"samples\": [\n          \"Female\",\n          \"Male\"\n        ],\n        \"semantic_type\": \"\",\n        \"description\": \"\"\n      }\n    },\n    {\n      \"column\": \"Annual Income\",\n      \"properties\": {\n        \"dtype\": \"number\",\n        \"std\": 720006,\n        \"min\": 10080,\n        \"max\": 11200000,\n        \"num_unique_values\": 2508,\n        \"samples\": [\n          5355000,\n          542000\n        ],\n        \"semantic_type\": \"\",\n        \"description\": \"\"\n      }\n    },\n    {\n      \"column\": \"Dealer_Name\",\n      \"properties\": {\n        \"dtype\": \"category\",\n        \"num_unique_values\": 28,\n        \"samples\": [\n          \"Race Car Help\",\n          \"New Castle Ford Lincoln Mercury\"\n        ],\n        \"semantic_type\": \"\",\n        \"description\": \"\"\n      }\n    },\n    {\n      \"column\": \"Company\",\n      \"properties\": {\n        \"dtype\": \"category\",\n        \"num_unique_values\": 30,\n        \"samples\": [\n          \"Plymouth\",\n          \"Audi\"\n        ],\n        \"semantic_type\": \"\",\n        \"description\": \"\"\n      }\n    },\n    {\n      \"column\": \"Model\",\n      \"properties\": {\n        \"dtype\": \"category\",\n        \"num_unique_values\": 154,\n        \"samples\": [\n          \"Forester\",\n          \"Breeze\"\n        ],\n        \"semantic_type\": \"\",\n        \"description\": \"\"\n      }\n    },\n    {\n      \"column\": \"Engine\",\n      \"properties\": {\n        \"dtype\": \"category\",\n        \"num_unique_values\": 2,\n        \"samples\": [\n          \"Overhead Camshaft\",\n          \"Double\\u00c2\\u00a0Overhead Camshaft\"\n        ],\n        \"semantic_type\": \"\",\n        \"description\": \"\"\n      }\n    },\n    {\n      \"column\": \"Transmission\",\n      \"properties\": {\n        \"dtype\": \"category\",\n        \"num_unique_values\": 2,\n        \"samples\": [\n          \"Manual\",\n          \"Auto\"\n        ],\n        \"semantic_type\": \"\",\n        \"description\": \"\"\n      }\n    },\n    {\n      \"column\": \"Color\",\n      \"properties\": {\n        \"dtype\": \"category\",\n        \"num_unique_values\": 3,\n        \"samples\": [\n          \"Black\",\n          \"Red\"\n        ],\n        \"semantic_type\": \"\",\n        \"description\": \"\"\n      }\n    },\n    {\n      \"column\": \"Price ($)\",\n      \"properties\": {\n        \"dtype\": \"number\",\n        \"std\": 14788,\n        \"min\": 1200,\n        \"max\": 85800,\n        \"num_unique_values\": 870,\n        \"samples\": [\n          13100,\n          44000\n        ],\n        \"semantic_type\": \"\",\n        \"description\": \"\"\n      }\n    },\n    {\n      \"column\": \"Dealer_No \",\n      \"properties\": {\n        \"dtype\": \"category\",\n        \"num_unique_values\": 7,\n        \"samples\": [\n          \"06457-3834\",\n          \"60504-7114\"\n        ],\n        \"semantic_type\": \"\",\n        \"description\": \"\"\n      }\n    },\n    {\n      \"column\": \"Body Style\",\n      \"properties\": {\n        \"dtype\": \"category\",\n        \"num_unique_values\": 5,\n        \"samples\": [\n          \"Passenger\",\n          \"Sedan\"\n        ],\n        \"semantic_type\": \"\",\n        \"description\": \"\"\n      }\n    },\n    {\n      \"column\": \"Phone\",\n      \"properties\": {\n        \"dtype\": \"number\",\n        \"std\": 867491,\n        \"min\": 6000101,\n        \"max\": 8999579,\n        \"num_unique_values\": 23804,\n        \"samples\": [\n          8955220,\n          8396717\n        ],\n        \"semantic_type\": \"\",\n        \"description\": \"\"\n      }\n    },\n    {\n      \"column\": \"Dealer_Region\",\n      \"properties\": {\n        \"dtype\": \"category\",\n        \"num_unique_values\": 7,\n        \"samples\": [\n          \"Middletown\",\n          \"Aurora\"\n        ],\n        \"semantic_type\": \"\",\n        \"description\": \"\"\n      }\n    }\n  ]\n}"
            }
          },
          "metadata": {},
          "execution_count": 5
        }
      ]
    },
    {
      "cell_type": "code",
      "source": [
        "#data distribution\n",
        "df.describe()"
      ],
      "metadata": {
        "colab": {
          "base_uri": "https://localhost:8080/",
          "height": 300
        },
        "id": "k58grD00dQ2A",
        "outputId": "49ac5dda-a38f-4bc1-c60b-9329fc31eadf"
      },
      "execution_count": 6,
      "outputs": [
        {
          "output_type": "execute_result",
          "data": {
            "text/plain": [
              "                                Date  Annual Income     Price ($)  \\\n",
              "count                          23906   2.390600e+04  23906.000000   \n",
              "mean   2023-03-01 14:28:10.822387456   8.308403e+05  28090.247846   \n",
              "min              2022-01-02 00:00:00   1.008000e+04   1200.000000   \n",
              "25%              2022-09-20 00:00:00   3.860000e+05  18001.000000   \n",
              "50%              2023-03-13 00:00:00   7.350000e+05  23000.000000   \n",
              "75%              2023-09-08 00:00:00   1.175750e+06  34000.000000   \n",
              "max              2023-12-31 00:00:00   1.120000e+07  85800.000000   \n",
              "std                              NaN   7.200064e+05  14788.687608   \n",
              "\n",
              "              Phone  \n",
              "count  2.390600e+04  \n",
              "mean   7.497741e+06  \n",
              "min    6.000101e+06  \n",
              "25%    6.746495e+06  \n",
              "50%    7.496198e+06  \n",
              "75%    8.248146e+06  \n",
              "max    8.999579e+06  \n",
              "std    8.674920e+05  "
            ],
            "text/html": [
              "\n",
              "  <div id=\"df-f661fd56-0282-4816-a341-7b9db6ca8c52\" class=\"colab-df-container\">\n",
              "    <div>\n",
              "<style scoped>\n",
              "    .dataframe tbody tr th:only-of-type {\n",
              "        vertical-align: middle;\n",
              "    }\n",
              "\n",
              "    .dataframe tbody tr th {\n",
              "        vertical-align: top;\n",
              "    }\n",
              "\n",
              "    .dataframe thead th {\n",
              "        text-align: right;\n",
              "    }\n",
              "</style>\n",
              "<table border=\"1\" class=\"dataframe\">\n",
              "  <thead>\n",
              "    <tr style=\"text-align: right;\">\n",
              "      <th></th>\n",
              "      <th>Date</th>\n",
              "      <th>Annual Income</th>\n",
              "      <th>Price ($)</th>\n",
              "      <th>Phone</th>\n",
              "    </tr>\n",
              "  </thead>\n",
              "  <tbody>\n",
              "    <tr>\n",
              "      <th>count</th>\n",
              "      <td>23906</td>\n",
              "      <td>2.390600e+04</td>\n",
              "      <td>23906.000000</td>\n",
              "      <td>2.390600e+04</td>\n",
              "    </tr>\n",
              "    <tr>\n",
              "      <th>mean</th>\n",
              "      <td>2023-03-01 14:28:10.822387456</td>\n",
              "      <td>8.308403e+05</td>\n",
              "      <td>28090.247846</td>\n",
              "      <td>7.497741e+06</td>\n",
              "    </tr>\n",
              "    <tr>\n",
              "      <th>min</th>\n",
              "      <td>2022-01-02 00:00:00</td>\n",
              "      <td>1.008000e+04</td>\n",
              "      <td>1200.000000</td>\n",
              "      <td>6.000101e+06</td>\n",
              "    </tr>\n",
              "    <tr>\n",
              "      <th>25%</th>\n",
              "      <td>2022-09-20 00:00:00</td>\n",
              "      <td>3.860000e+05</td>\n",
              "      <td>18001.000000</td>\n",
              "      <td>6.746495e+06</td>\n",
              "    </tr>\n",
              "    <tr>\n",
              "      <th>50%</th>\n",
              "      <td>2023-03-13 00:00:00</td>\n",
              "      <td>7.350000e+05</td>\n",
              "      <td>23000.000000</td>\n",
              "      <td>7.496198e+06</td>\n",
              "    </tr>\n",
              "    <tr>\n",
              "      <th>75%</th>\n",
              "      <td>2023-09-08 00:00:00</td>\n",
              "      <td>1.175750e+06</td>\n",
              "      <td>34000.000000</td>\n",
              "      <td>8.248146e+06</td>\n",
              "    </tr>\n",
              "    <tr>\n",
              "      <th>max</th>\n",
              "      <td>2023-12-31 00:00:00</td>\n",
              "      <td>1.120000e+07</td>\n",
              "      <td>85800.000000</td>\n",
              "      <td>8.999579e+06</td>\n",
              "    </tr>\n",
              "    <tr>\n",
              "      <th>std</th>\n",
              "      <td>NaN</td>\n",
              "      <td>7.200064e+05</td>\n",
              "      <td>14788.687608</td>\n",
              "      <td>8.674920e+05</td>\n",
              "    </tr>\n",
              "  </tbody>\n",
              "</table>\n",
              "</div>\n",
              "    <div class=\"colab-df-buttons\">\n",
              "\n",
              "  <div class=\"colab-df-container\">\n",
              "    <button class=\"colab-df-convert\" onclick=\"convertToInteractive('df-f661fd56-0282-4816-a341-7b9db6ca8c52')\"\n",
              "            title=\"Convert this dataframe to an interactive table.\"\n",
              "            style=\"display:none;\">\n",
              "\n",
              "  <svg xmlns=\"http://www.w3.org/2000/svg\" height=\"24px\" viewBox=\"0 -960 960 960\">\n",
              "    <path d=\"M120-120v-720h720v720H120Zm60-500h600v-160H180v160Zm220 220h160v-160H400v160Zm0 220h160v-160H400v160ZM180-400h160v-160H180v160Zm440 0h160v-160H620v160ZM180-180h160v-160H180v160Zm440 0h160v-160H620v160Z\"/>\n",
              "  </svg>\n",
              "    </button>\n",
              "\n",
              "  <style>\n",
              "    .colab-df-container {\n",
              "      display:flex;\n",
              "      gap: 12px;\n",
              "    }\n",
              "\n",
              "    .colab-df-convert {\n",
              "      background-color: #E8F0FE;\n",
              "      border: none;\n",
              "      border-radius: 50%;\n",
              "      cursor: pointer;\n",
              "      display: none;\n",
              "      fill: #1967D2;\n",
              "      height: 32px;\n",
              "      padding: 0 0 0 0;\n",
              "      width: 32px;\n",
              "    }\n",
              "\n",
              "    .colab-df-convert:hover {\n",
              "      background-color: #E2EBFA;\n",
              "      box-shadow: 0px 1px 2px rgba(60, 64, 67, 0.3), 0px 1px 3px 1px rgba(60, 64, 67, 0.15);\n",
              "      fill: #174EA6;\n",
              "    }\n",
              "\n",
              "    .colab-df-buttons div {\n",
              "      margin-bottom: 4px;\n",
              "    }\n",
              "\n",
              "    [theme=dark] .colab-df-convert {\n",
              "      background-color: #3B4455;\n",
              "      fill: #D2E3FC;\n",
              "    }\n",
              "\n",
              "    [theme=dark] .colab-df-convert:hover {\n",
              "      background-color: #434B5C;\n",
              "      box-shadow: 0px 1px 3px 1px rgba(0, 0, 0, 0.15);\n",
              "      filter: drop-shadow(0px 1px 2px rgba(0, 0, 0, 0.3));\n",
              "      fill: #FFFFFF;\n",
              "    }\n",
              "  </style>\n",
              "\n",
              "    <script>\n",
              "      const buttonEl =\n",
              "        document.querySelector('#df-f661fd56-0282-4816-a341-7b9db6ca8c52 button.colab-df-convert');\n",
              "      buttonEl.style.display =\n",
              "        google.colab.kernel.accessAllowed ? 'block' : 'none';\n",
              "\n",
              "      async function convertToInteractive(key) {\n",
              "        const element = document.querySelector('#df-f661fd56-0282-4816-a341-7b9db6ca8c52');\n",
              "        const dataTable =\n",
              "          await google.colab.kernel.invokeFunction('convertToInteractive',\n",
              "                                                    [key], {});\n",
              "        if (!dataTable) return;\n",
              "\n",
              "        const docLinkHtml = 'Like what you see? Visit the ' +\n",
              "          '<a target=\"_blank\" href=https://colab.research.google.com/notebooks/data_table.ipynb>data table notebook</a>'\n",
              "          + ' to learn more about interactive tables.';\n",
              "        element.innerHTML = '';\n",
              "        dataTable['output_type'] = 'display_data';\n",
              "        await google.colab.output.renderOutput(dataTable, element);\n",
              "        const docLink = document.createElement('div');\n",
              "        docLink.innerHTML = docLinkHtml;\n",
              "        element.appendChild(docLink);\n",
              "      }\n",
              "    </script>\n",
              "  </div>\n",
              "\n",
              "\n",
              "<div id=\"df-6d7218cd-1fe7-4089-b947-dd8029dc2ec3\">\n",
              "  <button class=\"colab-df-quickchart\" onclick=\"quickchart('df-6d7218cd-1fe7-4089-b947-dd8029dc2ec3')\"\n",
              "            title=\"Suggest charts\"\n",
              "            style=\"display:none;\">\n",
              "\n",
              "<svg xmlns=\"http://www.w3.org/2000/svg\" height=\"24px\"viewBox=\"0 0 24 24\"\n",
              "     width=\"24px\">\n",
              "    <g>\n",
              "        <path d=\"M19 3H5c-1.1 0-2 .9-2 2v14c0 1.1.9 2 2 2h14c1.1 0 2-.9 2-2V5c0-1.1-.9-2-2-2zM9 17H7v-7h2v7zm4 0h-2V7h2v10zm4 0h-2v-4h2v4z\"/>\n",
              "    </g>\n",
              "</svg>\n",
              "  </button>\n",
              "\n",
              "<style>\n",
              "  .colab-df-quickchart {\n",
              "      --bg-color: #E8F0FE;\n",
              "      --fill-color: #1967D2;\n",
              "      --hover-bg-color: #E2EBFA;\n",
              "      --hover-fill-color: #174EA6;\n",
              "      --disabled-fill-color: #AAA;\n",
              "      --disabled-bg-color: #DDD;\n",
              "  }\n",
              "\n",
              "  [theme=dark] .colab-df-quickchart {\n",
              "      --bg-color: #3B4455;\n",
              "      --fill-color: #D2E3FC;\n",
              "      --hover-bg-color: #434B5C;\n",
              "      --hover-fill-color: #FFFFFF;\n",
              "      --disabled-bg-color: #3B4455;\n",
              "      --disabled-fill-color: #666;\n",
              "  }\n",
              "\n",
              "  .colab-df-quickchart {\n",
              "    background-color: var(--bg-color);\n",
              "    border: none;\n",
              "    border-radius: 50%;\n",
              "    cursor: pointer;\n",
              "    display: none;\n",
              "    fill: var(--fill-color);\n",
              "    height: 32px;\n",
              "    padding: 0;\n",
              "    width: 32px;\n",
              "  }\n",
              "\n",
              "  .colab-df-quickchart:hover {\n",
              "    background-color: var(--hover-bg-color);\n",
              "    box-shadow: 0 1px 2px rgba(60, 64, 67, 0.3), 0 1px 3px 1px rgba(60, 64, 67, 0.15);\n",
              "    fill: var(--button-hover-fill-color);\n",
              "  }\n",
              "\n",
              "  .colab-df-quickchart-complete:disabled,\n",
              "  .colab-df-quickchart-complete:disabled:hover {\n",
              "    background-color: var(--disabled-bg-color);\n",
              "    fill: var(--disabled-fill-color);\n",
              "    box-shadow: none;\n",
              "  }\n",
              "\n",
              "  .colab-df-spinner {\n",
              "    border: 2px solid var(--fill-color);\n",
              "    border-color: transparent;\n",
              "    border-bottom-color: var(--fill-color);\n",
              "    animation:\n",
              "      spin 1s steps(1) infinite;\n",
              "  }\n",
              "\n",
              "  @keyframes spin {\n",
              "    0% {\n",
              "      border-color: transparent;\n",
              "      border-bottom-color: var(--fill-color);\n",
              "      border-left-color: var(--fill-color);\n",
              "    }\n",
              "    20% {\n",
              "      border-color: transparent;\n",
              "      border-left-color: var(--fill-color);\n",
              "      border-top-color: var(--fill-color);\n",
              "    }\n",
              "    30% {\n",
              "      border-color: transparent;\n",
              "      border-left-color: var(--fill-color);\n",
              "      border-top-color: var(--fill-color);\n",
              "      border-right-color: var(--fill-color);\n",
              "    }\n",
              "    40% {\n",
              "      border-color: transparent;\n",
              "      border-right-color: var(--fill-color);\n",
              "      border-top-color: var(--fill-color);\n",
              "    }\n",
              "    60% {\n",
              "      border-color: transparent;\n",
              "      border-right-color: var(--fill-color);\n",
              "    }\n",
              "    80% {\n",
              "      border-color: transparent;\n",
              "      border-right-color: var(--fill-color);\n",
              "      border-bottom-color: var(--fill-color);\n",
              "    }\n",
              "    90% {\n",
              "      border-color: transparent;\n",
              "      border-bottom-color: var(--fill-color);\n",
              "    }\n",
              "  }\n",
              "</style>\n",
              "\n",
              "  <script>\n",
              "    async function quickchart(key) {\n",
              "      const quickchartButtonEl =\n",
              "        document.querySelector('#' + key + ' button');\n",
              "      quickchartButtonEl.disabled = true;  // To prevent multiple clicks.\n",
              "      quickchartButtonEl.classList.add('colab-df-spinner');\n",
              "      try {\n",
              "        const charts = await google.colab.kernel.invokeFunction(\n",
              "            'suggestCharts', [key], {});\n",
              "      } catch (error) {\n",
              "        console.error('Error during call to suggestCharts:', error);\n",
              "      }\n",
              "      quickchartButtonEl.classList.remove('colab-df-spinner');\n",
              "      quickchartButtonEl.classList.add('colab-df-quickchart-complete');\n",
              "    }\n",
              "    (() => {\n",
              "      let quickchartButtonEl =\n",
              "        document.querySelector('#df-6d7218cd-1fe7-4089-b947-dd8029dc2ec3 button');\n",
              "      quickchartButtonEl.style.display =\n",
              "        google.colab.kernel.accessAllowed ? 'block' : 'none';\n",
              "    })();\n",
              "  </script>\n",
              "</div>\n",
              "\n",
              "    </div>\n",
              "  </div>\n"
            ],
            "application/vnd.google.colaboratory.intrinsic+json": {
              "type": "dataframe",
              "summary": "{\n  \"name\": \"df\",\n  \"rows\": 8,\n  \"fields\": [\n    {\n      \"column\": \"Date\",\n      \"properties\": {\n        \"dtype\": \"date\",\n        \"min\": \"1970-01-01 00:00:00.000023906\",\n        \"max\": \"2023-12-31 00:00:00\",\n        \"num_unique_values\": 7,\n        \"samples\": [\n          \"23906\",\n          \"2023-03-01 14:28:10.822387456\",\n          \"2023-09-08 00:00:00\"\n        ],\n        \"semantic_type\": \"\",\n        \"description\": \"\"\n      }\n    },\n    {\n      \"column\": \"Annual Income\",\n      \"properties\": {\n        \"dtype\": \"number\",\n        \"std\": 3785106.5268250704,\n        \"min\": 10080.0,\n        \"max\": 11200000.0,\n        \"num_unique_values\": 8,\n        \"samples\": [\n          830840.2851167071,\n          1175750.0,\n          23906.0\n        ],\n        \"semantic_type\": \"\",\n        \"description\": \"\"\n      }\n    },\n    {\n      \"column\": \"Price ($)\",\n      \"properties\": {\n        \"dtype\": \"number\",\n        \"std\": 25095.544879316505,\n        \"min\": 1200.0,\n        \"max\": 85800.0,\n        \"num_unique_values\": 8,\n        \"samples\": [\n          28090.247845729107,\n          34000.0,\n          23906.0\n        ],\n        \"semantic_type\": \"\",\n        \"description\": \"\"\n      }\n    },\n    {\n      \"column\": \"Phone\",\n      \"properties\": {\n        \"dtype\": \"number\",\n        \"std\": 3392956.5851413403,\n        \"min\": 23906.0,\n        \"max\": 8999579.0,\n        \"num_unique_values\": 8,\n        \"samples\": [\n          7497740.609344934,\n          8248146.25,\n          23906.0\n        ],\n        \"semantic_type\": \"\",\n        \"description\": \"\"\n      }\n    }\n  ]\n}"
            }
          },
          "metadata": {},
          "execution_count": 6
        }
      ]
    },
    {
      "cell_type": "code",
      "source": [
        "#checking columns\n",
        "df.columns"
      ],
      "metadata": {
        "colab": {
          "base_uri": "https://localhost:8080/"
        },
        "id": "g0WwvE2QdtZ9",
        "outputId": "e0d218d9-6418-42ab-f43f-d22b319c6090"
      },
      "execution_count": 7,
      "outputs": [
        {
          "output_type": "execute_result",
          "data": {
            "text/plain": [
              "Index(['Car_id', 'Date', 'Customer Name', 'Gender', 'Annual Income',\n",
              "       'Dealer_Name', 'Company', 'Model', 'Engine', 'Transmission', 'Color',\n",
              "       'Price ($)', 'Dealer_No ', 'Body Style', 'Phone', 'Dealer_Region'],\n",
              "      dtype='object')"
            ]
          },
          "metadata": {},
          "execution_count": 7
        }
      ]
    },
    {
      "cell_type": "code",
      "source": [
        "#checking data types\n",
        "df.dtypes"
      ],
      "metadata": {
        "colab": {
          "base_uri": "https://localhost:8080/",
          "height": 585
        },
        "id": "EJZ_v9yveNxc",
        "outputId": "157d3952-02ce-4b0e-9376-90ce1d01e4ca"
      },
      "execution_count": 8,
      "outputs": [
        {
          "output_type": "execute_result",
          "data": {
            "text/plain": [
              "Car_id                   object\n",
              "Date             datetime64[ns]\n",
              "Customer Name            object\n",
              "Gender                   object\n",
              "Annual Income             int64\n",
              "Dealer_Name              object\n",
              "Company                  object\n",
              "Model                    object\n",
              "Engine                   object\n",
              "Transmission             object\n",
              "Color                    object\n",
              "Price ($)                 int64\n",
              "Dealer_No                object\n",
              "Body Style               object\n",
              "Phone                     int64\n",
              "Dealer_Region            object\n",
              "dtype: object"
            ],
            "text/html": [
              "<div>\n",
              "<style scoped>\n",
              "    .dataframe tbody tr th:only-of-type {\n",
              "        vertical-align: middle;\n",
              "    }\n",
              "\n",
              "    .dataframe tbody tr th {\n",
              "        vertical-align: top;\n",
              "    }\n",
              "\n",
              "    .dataframe thead th {\n",
              "        text-align: right;\n",
              "    }\n",
              "</style>\n",
              "<table border=\"1\" class=\"dataframe\">\n",
              "  <thead>\n",
              "    <tr style=\"text-align: right;\">\n",
              "      <th></th>\n",
              "      <th>0</th>\n",
              "    </tr>\n",
              "  </thead>\n",
              "  <tbody>\n",
              "    <tr>\n",
              "      <th>Car_id</th>\n",
              "      <td>object</td>\n",
              "    </tr>\n",
              "    <tr>\n",
              "      <th>Date</th>\n",
              "      <td>datetime64[ns]</td>\n",
              "    </tr>\n",
              "    <tr>\n",
              "      <th>Customer Name</th>\n",
              "      <td>object</td>\n",
              "    </tr>\n",
              "    <tr>\n",
              "      <th>Gender</th>\n",
              "      <td>object</td>\n",
              "    </tr>\n",
              "    <tr>\n",
              "      <th>Annual Income</th>\n",
              "      <td>int64</td>\n",
              "    </tr>\n",
              "    <tr>\n",
              "      <th>Dealer_Name</th>\n",
              "      <td>object</td>\n",
              "    </tr>\n",
              "    <tr>\n",
              "      <th>Company</th>\n",
              "      <td>object</td>\n",
              "    </tr>\n",
              "    <tr>\n",
              "      <th>Model</th>\n",
              "      <td>object</td>\n",
              "    </tr>\n",
              "    <tr>\n",
              "      <th>Engine</th>\n",
              "      <td>object</td>\n",
              "    </tr>\n",
              "    <tr>\n",
              "      <th>Transmission</th>\n",
              "      <td>object</td>\n",
              "    </tr>\n",
              "    <tr>\n",
              "      <th>Color</th>\n",
              "      <td>object</td>\n",
              "    </tr>\n",
              "    <tr>\n",
              "      <th>Price ($)</th>\n",
              "      <td>int64</td>\n",
              "    </tr>\n",
              "    <tr>\n",
              "      <th>Dealer_No</th>\n",
              "      <td>object</td>\n",
              "    </tr>\n",
              "    <tr>\n",
              "      <th>Body Style</th>\n",
              "      <td>object</td>\n",
              "    </tr>\n",
              "    <tr>\n",
              "      <th>Phone</th>\n",
              "      <td>int64</td>\n",
              "    </tr>\n",
              "    <tr>\n",
              "      <th>Dealer_Region</th>\n",
              "      <td>object</td>\n",
              "    </tr>\n",
              "  </tbody>\n",
              "</table>\n",
              "</div><br><label><b>dtype:</b> object</label>"
            ]
          },
          "metadata": {},
          "execution_count": 8
        }
      ]
    },
    {
      "cell_type": "markdown",
      "source": [
        "Data types for all the columns are correct"
      ],
      "metadata": {
        "id": "i2cdnfgEfRRP"
      }
    },
    {
      "cell_type": "code",
      "source": [
        "#missing values\n",
        "df.isnull().sum()"
      ],
      "metadata": {
        "colab": {
          "base_uri": "https://localhost:8080/",
          "height": 585
        },
        "id": "KgPcbEh9fZ6g",
        "outputId": "35a531a5-ef32-4fa7-ecb2-f989a5a1e61a"
      },
      "execution_count": 9,
      "outputs": [
        {
          "output_type": "execute_result",
          "data": {
            "text/plain": [
              "Car_id           0\n",
              "Date             0\n",
              "Customer Name    1\n",
              "Gender           0\n",
              "Annual Income    0\n",
              "Dealer_Name      0\n",
              "Company          0\n",
              "Model            0\n",
              "Engine           0\n",
              "Transmission     0\n",
              "Color            0\n",
              "Price ($)        0\n",
              "Dealer_No        0\n",
              "Body Style       0\n",
              "Phone            0\n",
              "Dealer_Region    0\n",
              "dtype: int64"
            ],
            "text/html": [
              "<div>\n",
              "<style scoped>\n",
              "    .dataframe tbody tr th:only-of-type {\n",
              "        vertical-align: middle;\n",
              "    }\n",
              "\n",
              "    .dataframe tbody tr th {\n",
              "        vertical-align: top;\n",
              "    }\n",
              "\n",
              "    .dataframe thead th {\n",
              "        text-align: right;\n",
              "    }\n",
              "</style>\n",
              "<table border=\"1\" class=\"dataframe\">\n",
              "  <thead>\n",
              "    <tr style=\"text-align: right;\">\n",
              "      <th></th>\n",
              "      <th>0</th>\n",
              "    </tr>\n",
              "  </thead>\n",
              "  <tbody>\n",
              "    <tr>\n",
              "      <th>Car_id</th>\n",
              "      <td>0</td>\n",
              "    </tr>\n",
              "    <tr>\n",
              "      <th>Date</th>\n",
              "      <td>0</td>\n",
              "    </tr>\n",
              "    <tr>\n",
              "      <th>Customer Name</th>\n",
              "      <td>1</td>\n",
              "    </tr>\n",
              "    <tr>\n",
              "      <th>Gender</th>\n",
              "      <td>0</td>\n",
              "    </tr>\n",
              "    <tr>\n",
              "      <th>Annual Income</th>\n",
              "      <td>0</td>\n",
              "    </tr>\n",
              "    <tr>\n",
              "      <th>Dealer_Name</th>\n",
              "      <td>0</td>\n",
              "    </tr>\n",
              "    <tr>\n",
              "      <th>Company</th>\n",
              "      <td>0</td>\n",
              "    </tr>\n",
              "    <tr>\n",
              "      <th>Model</th>\n",
              "      <td>0</td>\n",
              "    </tr>\n",
              "    <tr>\n",
              "      <th>Engine</th>\n",
              "      <td>0</td>\n",
              "    </tr>\n",
              "    <tr>\n",
              "      <th>Transmission</th>\n",
              "      <td>0</td>\n",
              "    </tr>\n",
              "    <tr>\n",
              "      <th>Color</th>\n",
              "      <td>0</td>\n",
              "    </tr>\n",
              "    <tr>\n",
              "      <th>Price ($)</th>\n",
              "      <td>0</td>\n",
              "    </tr>\n",
              "    <tr>\n",
              "      <th>Dealer_No</th>\n",
              "      <td>0</td>\n",
              "    </tr>\n",
              "    <tr>\n",
              "      <th>Body Style</th>\n",
              "      <td>0</td>\n",
              "    </tr>\n",
              "    <tr>\n",
              "      <th>Phone</th>\n",
              "      <td>0</td>\n",
              "    </tr>\n",
              "    <tr>\n",
              "      <th>Dealer_Region</th>\n",
              "      <td>0</td>\n",
              "    </tr>\n",
              "  </tbody>\n",
              "</table>\n",
              "</div><br><label><b>dtype:</b> int64</label>"
            ]
          },
          "metadata": {},
          "execution_count": 9
        }
      ]
    },
    {
      "cell_type": "markdown",
      "source": [],
      "metadata": {
        "id": "P8jYeBaSfzMs"
      }
    },
    {
      "cell_type": "markdown",
      "source": [
        "One missing value found (customer column)"
      ],
      "metadata": {
        "id": "o4BeFwV6fl_f"
      }
    },
    {
      "cell_type": "code",
      "source": [
        "#duplicates\n",
        "df.duplicated().sum()"
      ],
      "metadata": {
        "colab": {
          "base_uri": "https://localhost:8080/"
        },
        "id": "RqNK6k5Ffr0T",
        "outputId": "3e964fff-1619-4694-9f7c-a801c1c083ef"
      },
      "execution_count": 10,
      "outputs": [
        {
          "output_type": "execute_result",
          "data": {
            "text/plain": [
              "0"
            ]
          },
          "metadata": {},
          "execution_count": 10
        }
      ]
    },
    {
      "cell_type": "markdown",
      "source": [
        "no duplicates"
      ],
      "metadata": {
        "id": "z_OvWURGfxhh"
      }
    },
    {
      "cell_type": "markdown",
      "source": [
        "#Data Cleaning"
      ],
      "metadata": {
        "id": "GjUSZ09-htRi"
      }
    },
    {
      "cell_type": "markdown",
      "source": [
        "##Handling the Missing Value"
      ],
      "metadata": {
        "id": "NZ-vk7_chwxv"
      }
    },
    {
      "cell_type": "code",
      "source": [
        "#checking missing value customer name column\n",
        "df[df['Customer Name'].isnull()]"
      ],
      "metadata": {
        "colab": {
          "base_uri": "https://localhost:8080/",
          "height": 135
        },
        "id": "iphZKxXUh0xt",
        "outputId": "5b344015-052d-4b81-e7b5-13d765d7c059"
      },
      "execution_count": 11,
      "outputs": [
        {
          "output_type": "execute_result",
          "data": {
            "text/plain": [
              "            Car_id       Date Customer Name Gender  Annual Income  \\\n",
              "7564  C_CND_007565 2022-11-05           NaN   Male         680000   \n",
              "\n",
              "           Dealer_Name Company       Model                     Engine  \\\n",
              "7564  Saab-Belle Dodge   Dodge  Ram Pickup  DoubleÂ Overhead Camshaft   \n",
              "\n",
              "     Transmission       Color  Price ($)  Dealer_No  Body Style    Phone  \\\n",
              "7564         Auto  Pale White      45000  60504-7114    Hardtop  7203103   \n",
              "\n",
              "     Dealer_Region  \n",
              "7564        Aurora  "
            ],
            "text/html": [
              "\n",
              "  <div id=\"df-7011c3e4-56b3-4120-b9dd-653bea449adc\" class=\"colab-df-container\">\n",
              "    <div>\n",
              "<style scoped>\n",
              "    .dataframe tbody tr th:only-of-type {\n",
              "        vertical-align: middle;\n",
              "    }\n",
              "\n",
              "    .dataframe tbody tr th {\n",
              "        vertical-align: top;\n",
              "    }\n",
              "\n",
              "    .dataframe thead th {\n",
              "        text-align: right;\n",
              "    }\n",
              "</style>\n",
              "<table border=\"1\" class=\"dataframe\">\n",
              "  <thead>\n",
              "    <tr style=\"text-align: right;\">\n",
              "      <th></th>\n",
              "      <th>Car_id</th>\n",
              "      <th>Date</th>\n",
              "      <th>Customer Name</th>\n",
              "      <th>Gender</th>\n",
              "      <th>Annual Income</th>\n",
              "      <th>Dealer_Name</th>\n",
              "      <th>Company</th>\n",
              "      <th>Model</th>\n",
              "      <th>Engine</th>\n",
              "      <th>Transmission</th>\n",
              "      <th>Color</th>\n",
              "      <th>Price ($)</th>\n",
              "      <th>Dealer_No</th>\n",
              "      <th>Body Style</th>\n",
              "      <th>Phone</th>\n",
              "      <th>Dealer_Region</th>\n",
              "    </tr>\n",
              "  </thead>\n",
              "  <tbody>\n",
              "    <tr>\n",
              "      <th>7564</th>\n",
              "      <td>C_CND_007565</td>\n",
              "      <td>2022-11-05</td>\n",
              "      <td>NaN</td>\n",
              "      <td>Male</td>\n",
              "      <td>680000</td>\n",
              "      <td>Saab-Belle Dodge</td>\n",
              "      <td>Dodge</td>\n",
              "      <td>Ram Pickup</td>\n",
              "      <td>DoubleÂ Overhead Camshaft</td>\n",
              "      <td>Auto</td>\n",
              "      <td>Pale White</td>\n",
              "      <td>45000</td>\n",
              "      <td>60504-7114</td>\n",
              "      <td>Hardtop</td>\n",
              "      <td>7203103</td>\n",
              "      <td>Aurora</td>\n",
              "    </tr>\n",
              "  </tbody>\n",
              "</table>\n",
              "</div>\n",
              "    <div class=\"colab-df-buttons\">\n",
              "\n",
              "  <div class=\"colab-df-container\">\n",
              "    <button class=\"colab-df-convert\" onclick=\"convertToInteractive('df-7011c3e4-56b3-4120-b9dd-653bea449adc')\"\n",
              "            title=\"Convert this dataframe to an interactive table.\"\n",
              "            style=\"display:none;\">\n",
              "\n",
              "  <svg xmlns=\"http://www.w3.org/2000/svg\" height=\"24px\" viewBox=\"0 -960 960 960\">\n",
              "    <path d=\"M120-120v-720h720v720H120Zm60-500h600v-160H180v160Zm220 220h160v-160H400v160Zm0 220h160v-160H400v160ZM180-400h160v-160H180v160Zm440 0h160v-160H620v160ZM180-180h160v-160H180v160Zm440 0h160v-160H620v160Z\"/>\n",
              "  </svg>\n",
              "    </button>\n",
              "\n",
              "  <style>\n",
              "    .colab-df-container {\n",
              "      display:flex;\n",
              "      gap: 12px;\n",
              "    }\n",
              "\n",
              "    .colab-df-convert {\n",
              "      background-color: #E8F0FE;\n",
              "      border: none;\n",
              "      border-radius: 50%;\n",
              "      cursor: pointer;\n",
              "      display: none;\n",
              "      fill: #1967D2;\n",
              "      height: 32px;\n",
              "      padding: 0 0 0 0;\n",
              "      width: 32px;\n",
              "    }\n",
              "\n",
              "    .colab-df-convert:hover {\n",
              "      background-color: #E2EBFA;\n",
              "      box-shadow: 0px 1px 2px rgba(60, 64, 67, 0.3), 0px 1px 3px 1px rgba(60, 64, 67, 0.15);\n",
              "      fill: #174EA6;\n",
              "    }\n",
              "\n",
              "    .colab-df-buttons div {\n",
              "      margin-bottom: 4px;\n",
              "    }\n",
              "\n",
              "    [theme=dark] .colab-df-convert {\n",
              "      background-color: #3B4455;\n",
              "      fill: #D2E3FC;\n",
              "    }\n",
              "\n",
              "    [theme=dark] .colab-df-convert:hover {\n",
              "      background-color: #434B5C;\n",
              "      box-shadow: 0px 1px 3px 1px rgba(0, 0, 0, 0.15);\n",
              "      filter: drop-shadow(0px 1px 2px rgba(0, 0, 0, 0.3));\n",
              "      fill: #FFFFFF;\n",
              "    }\n",
              "  </style>\n",
              "\n",
              "    <script>\n",
              "      const buttonEl =\n",
              "        document.querySelector('#df-7011c3e4-56b3-4120-b9dd-653bea449adc button.colab-df-convert');\n",
              "      buttonEl.style.display =\n",
              "        google.colab.kernel.accessAllowed ? 'block' : 'none';\n",
              "\n",
              "      async function convertToInteractive(key) {\n",
              "        const element = document.querySelector('#df-7011c3e4-56b3-4120-b9dd-653bea449adc');\n",
              "        const dataTable =\n",
              "          await google.colab.kernel.invokeFunction('convertToInteractive',\n",
              "                                                    [key], {});\n",
              "        if (!dataTable) return;\n",
              "\n",
              "        const docLinkHtml = 'Like what you see? Visit the ' +\n",
              "          '<a target=\"_blank\" href=https://colab.research.google.com/notebooks/data_table.ipynb>data table notebook</a>'\n",
              "          + ' to learn more about interactive tables.';\n",
              "        element.innerHTML = '';\n",
              "        dataTable['output_type'] = 'display_data';\n",
              "        await google.colab.output.renderOutput(dataTable, element);\n",
              "        const docLink = document.createElement('div');\n",
              "        docLink.innerHTML = docLinkHtml;\n",
              "        element.appendChild(docLink);\n",
              "      }\n",
              "    </script>\n",
              "  </div>\n",
              "\n",
              "\n",
              "    </div>\n",
              "  </div>\n"
            ],
            "application/vnd.google.colaboratory.intrinsic+json": {
              "type": "dataframe",
              "repr_error": "0"
            }
          },
          "metadata": {},
          "execution_count": 11
        }
      ]
    },
    {
      "cell_type": "code",
      "source": [
        "#fill the missing customer name with a placeholder\n",
        "df['Customer Name'].fillna('Unknown',inplace=True)"
      ],
      "metadata": {
        "colab": {
          "base_uri": "https://localhost:8080/"
        },
        "id": "h5OfEsDWlMkt",
        "outputId": "b2db0751-054c-41ed-8018-cbc0f61c805a"
      },
      "execution_count": 12,
      "outputs": [
        {
          "output_type": "stream",
          "name": "stderr",
          "text": [
            "<ipython-input-12-9f2cc1fe7608>:2: FutureWarning: A value is trying to be set on a copy of a DataFrame or Series through chained assignment using an inplace method.\n",
            "The behavior will change in pandas 3.0. This inplace method will never work because the intermediate object on which we are setting values always behaves as a copy.\n",
            "\n",
            "For example, when doing 'df[col].method(value, inplace=True)', try using 'df.method({col: value}, inplace=True)' or df[col] = df[col].method(value) instead, to perform the operation inplace on the original object.\n",
            "\n",
            "\n",
            "  df['Customer Name'].fillna('Unknown',inplace=True)\n"
          ]
        }
      ]
    },
    {
      "cell_type": "markdown",
      "source": [
        "Since the customer name is not critical in the data-frame, a placeholder has been used to remove the null"
      ],
      "metadata": {
        "id": "i70T6T59lepP"
      }
    },
    {
      "cell_type": "code",
      "source": [
        "#rechecking nulls\n",
        "df.isnull().sum()"
      ],
      "metadata": {
        "colab": {
          "base_uri": "https://localhost:8080/",
          "height": 585
        },
        "id": "dDK2T37_lpdB",
        "outputId": "dcc9916a-af54-44ce-b8aa-596530fd1366"
      },
      "execution_count": 13,
      "outputs": [
        {
          "output_type": "execute_result",
          "data": {
            "text/plain": [
              "Car_id           0\n",
              "Date             0\n",
              "Customer Name    0\n",
              "Gender           0\n",
              "Annual Income    0\n",
              "Dealer_Name      0\n",
              "Company          0\n",
              "Model            0\n",
              "Engine           0\n",
              "Transmission     0\n",
              "Color            0\n",
              "Price ($)        0\n",
              "Dealer_No        0\n",
              "Body Style       0\n",
              "Phone            0\n",
              "Dealer_Region    0\n",
              "dtype: int64"
            ],
            "text/html": [
              "<div>\n",
              "<style scoped>\n",
              "    .dataframe tbody tr th:only-of-type {\n",
              "        vertical-align: middle;\n",
              "    }\n",
              "\n",
              "    .dataframe tbody tr th {\n",
              "        vertical-align: top;\n",
              "    }\n",
              "\n",
              "    .dataframe thead th {\n",
              "        text-align: right;\n",
              "    }\n",
              "</style>\n",
              "<table border=\"1\" class=\"dataframe\">\n",
              "  <thead>\n",
              "    <tr style=\"text-align: right;\">\n",
              "      <th></th>\n",
              "      <th>0</th>\n",
              "    </tr>\n",
              "  </thead>\n",
              "  <tbody>\n",
              "    <tr>\n",
              "      <th>Car_id</th>\n",
              "      <td>0</td>\n",
              "    </tr>\n",
              "    <tr>\n",
              "      <th>Date</th>\n",
              "      <td>0</td>\n",
              "    </tr>\n",
              "    <tr>\n",
              "      <th>Customer Name</th>\n",
              "      <td>0</td>\n",
              "    </tr>\n",
              "    <tr>\n",
              "      <th>Gender</th>\n",
              "      <td>0</td>\n",
              "    </tr>\n",
              "    <tr>\n",
              "      <th>Annual Income</th>\n",
              "      <td>0</td>\n",
              "    </tr>\n",
              "    <tr>\n",
              "      <th>Dealer_Name</th>\n",
              "      <td>0</td>\n",
              "    </tr>\n",
              "    <tr>\n",
              "      <th>Company</th>\n",
              "      <td>0</td>\n",
              "    </tr>\n",
              "    <tr>\n",
              "      <th>Model</th>\n",
              "      <td>0</td>\n",
              "    </tr>\n",
              "    <tr>\n",
              "      <th>Engine</th>\n",
              "      <td>0</td>\n",
              "    </tr>\n",
              "    <tr>\n",
              "      <th>Transmission</th>\n",
              "      <td>0</td>\n",
              "    </tr>\n",
              "    <tr>\n",
              "      <th>Color</th>\n",
              "      <td>0</td>\n",
              "    </tr>\n",
              "    <tr>\n",
              "      <th>Price ($)</th>\n",
              "      <td>0</td>\n",
              "    </tr>\n",
              "    <tr>\n",
              "      <th>Dealer_No</th>\n",
              "      <td>0</td>\n",
              "    </tr>\n",
              "    <tr>\n",
              "      <th>Body Style</th>\n",
              "      <td>0</td>\n",
              "    </tr>\n",
              "    <tr>\n",
              "      <th>Phone</th>\n",
              "      <td>0</td>\n",
              "    </tr>\n",
              "    <tr>\n",
              "      <th>Dealer_Region</th>\n",
              "      <td>0</td>\n",
              "    </tr>\n",
              "  </tbody>\n",
              "</table>\n",
              "</div><br><label><b>dtype:</b> int64</label>"
            ]
          },
          "metadata": {},
          "execution_count": 13
        }
      ]
    },
    {
      "cell_type": "markdown",
      "source": [
        "#Exploratory Data Analysis (EDA)"
      ],
      "metadata": {
        "id": "SXUujAYLm2Ha"
      }
    },
    {
      "cell_type": "markdown",
      "source": [
        "## Customer Demographics"
      ],
      "metadata": {
        "id": "RgW8QEV8O3qi"
      }
    },
    {
      "cell_type": "code",
      "source": [
        "#total number of customers\n",
        "total_customers=df['Customer Name'].nunique()\n",
        "print(total_customers)"
      ],
      "metadata": {
        "colab": {
          "base_uri": "https://localhost:8080/"
        },
        "id": "fvlB4jTHO7yB",
        "outputId": "b86b9c95-b940-4418-d4c1-54335e9026c2"
      },
      "execution_count": 14,
      "outputs": [
        {
          "output_type": "stream",
          "name": "stdout",
          "text": [
            "3022\n"
          ]
        }
      ]
    },
    {
      "cell_type": "code",
      "source": [
        "#gender distribution\n",
        "gender_distribution=df['Gender'].value_counts()\n",
        "print(gender_distribution)"
      ],
      "metadata": {
        "colab": {
          "base_uri": "https://localhost:8080/"
        },
        "id": "Xxb39z1rPDjd",
        "outputId": "a6c0329d-3c01-412f-eadd-57207914caaf"
      },
      "execution_count": 15,
      "outputs": [
        {
          "output_type": "stream",
          "name": "stdout",
          "text": [
            "Gender\n",
            "Male      18798\n",
            "Female     5108\n",
            "Name: count, dtype: int64\n"
          ]
        }
      ]
    },
    {
      "cell_type": "code",
      "source": [
        "#customer average annual income\n",
        "average_income=df['Annual Income'].mean()\n",
        "print(average_income)\n"
      ],
      "metadata": {
        "colab": {
          "base_uri": "https://localhost:8080/"
        },
        "id": "QWI6j9nUPMAp",
        "outputId": "0efd05a1-9fa3-48aa-ffd7-5d3a5ad82b9b"
      },
      "execution_count": 16,
      "outputs": [
        {
          "output_type": "stream",
          "name": "stdout",
          "text": [
            "830840.2851167071\n"
          ]
        }
      ]
    },
    {
      "cell_type": "markdown",
      "source": [
        "## Companies and Dealers Demographics"
      ],
      "metadata": {
        "id": "lC8zf8kWNbUq"
      }
    },
    {
      "cell_type": "code",
      "source": [
        "#total number of dealers\n",
        "total_dealers=df['Dealer_Name'].nunique()\n",
        "print(total_dealers)"
      ],
      "metadata": {
        "colab": {
          "base_uri": "https://localhost:8080/"
        },
        "id": "lE8B-N9hNjUT",
        "outputId": "5ca298d9-40eb-4972-9def-387bd67b41e0"
      },
      "execution_count": 17,
      "outputs": [
        {
          "output_type": "stream",
          "name": "stdout",
          "text": [
            "28\n"
          ]
        }
      ]
    },
    {
      "cell_type": "code",
      "source": [
        "#total number of companies\n",
        "total_companies=df['Company'].nunique()\n",
        "print(total_companies)"
      ],
      "metadata": {
        "colab": {
          "base_uri": "https://localhost:8080/"
        },
        "id": "B77e17kGNqMl",
        "outputId": "961730ab-6e99-4102-9e30-6ccf52a0d171"
      },
      "execution_count": 18,
      "outputs": [
        {
          "output_type": "stream",
          "name": "stdout",
          "text": [
            "30\n"
          ]
        }
      ]
    },
    {
      "cell_type": "code",
      "source": [
        "#total number of models\n",
        "total_models=df['Model'].nunique()\n",
        "print(total_models)"
      ],
      "metadata": {
        "colab": {
          "base_uri": "https://localhost:8080/"
        },
        "id": "xSEyp9r1NzD1",
        "outputId": "d24ca09a-cfcc-4ceb-a4ec-4087ca2b3048"
      },
      "execution_count": 19,
      "outputs": [
        {
          "output_type": "stream",
          "name": "stdout",
          "text": [
            "154\n"
          ]
        }
      ]
    },
    {
      "cell_type": "code",
      "source": [
        "#top engine\n",
        "top_engine=df['Engine'].value_counts().head()\n",
        "print(top_engine)"
      ],
      "metadata": {
        "colab": {
          "base_uri": "https://localhost:8080/"
        },
        "id": "s6EcANVQQLAz",
        "outputId": "195a26d5-9598-46e1-94dc-b98c9ab49c29"
      },
      "execution_count": 20,
      "outputs": [
        {
          "output_type": "stream",
          "name": "stdout",
          "text": [
            "Engine\n",
            "DoubleÂ Overhead Camshaft    12571\n",
            "Overhead Camshaft            11335\n",
            "Name: count, dtype: int64\n"
          ]
        }
      ]
    },
    {
      "cell_type": "code",
      "source": [
        "#top transmission\n",
        "top_transmission=df['Transmission'].value_counts().head()\n",
        "print(top_transmission)"
      ],
      "metadata": {
        "colab": {
          "base_uri": "https://localhost:8080/"
        },
        "id": "2V6Qhg77QiAt",
        "outputId": "37f70ff4-34d2-4ae4-8208-aa3c06cc275c"
      },
      "execution_count": 21,
      "outputs": [
        {
          "output_type": "stream",
          "name": "stdout",
          "text": [
            "Transmission\n",
            "Auto      12571\n",
            "Manual    11335\n",
            "Name: count, dtype: int64\n"
          ]
        }
      ]
    },
    {
      "cell_type": "code",
      "source": [
        "#top car color\n",
        "top_color=df['Color'].value_counts().head()\n",
        "print(top_color)"
      ],
      "metadata": {
        "colab": {
          "base_uri": "https://localhost:8080/"
        },
        "id": "FAQDdVn9QwcJ",
        "outputId": "edc77861-3604-45a9-e471-74d2513f2514"
      },
      "execution_count": 22,
      "outputs": [
        {
          "output_type": "stream",
          "name": "stdout",
          "text": [
            "Color\n",
            "Pale White    11256\n",
            "Black          7857\n",
            "Red            4793\n",
            "Name: count, dtype: int64\n"
          ]
        }
      ]
    },
    {
      "cell_type": "code",
      "source": [
        "#top body style\n",
        "top_body_type=df['Body Style'].value_counts().head()\n",
        "print(top_body_type)"
      ],
      "metadata": {
        "colab": {
          "base_uri": "https://localhost:8080/"
        },
        "id": "Hl2GeFtUCn1T",
        "outputId": "23755152-e5f1-4340-a7d3-b1a2be4281ba"
      },
      "execution_count": 36,
      "outputs": [
        {
          "output_type": "stream",
          "name": "stdout",
          "text": [
            "Body Style\n",
            "SUV          6374\n",
            "Hatchback    6128\n",
            "Sedan        4488\n",
            "Passenger    3945\n",
            "Hardtop      2971\n",
            "Name: count, dtype: int64\n"
          ]
        }
      ]
    },
    {
      "cell_type": "markdown",
      "source": [
        "##Sales Trend Over Time"
      ],
      "metadata": {
        "id": "8Z5cKuJam9B8"
      }
    },
    {
      "cell_type": "markdown",
      "source": [
        "###Checking sales distribution by month and year"
      ],
      "metadata": {
        "id": "WgIdYeLooZ9a"
      }
    },
    {
      "cell_type": "code",
      "source": [
        "#creating a month column\n",
        "df['Month'] = df['Date'].dt.strftime('%b')"
      ],
      "metadata": {
        "id": "98GPblWYndkx"
      },
      "execution_count": 23,
      "outputs": []
    },
    {
      "cell_type": "code",
      "source": [
        "#sales distribution by month (units) group by year\n",
        "monthly_sales = df.groupby([df['Date'].dt.year, df['Date'].dt.month]).size()\n",
        "\n",
        "# Format the output for better readability\n",
        "monthly_sales = monthly_sales.unstack(level=0)  # Years as columns, months as rows\n",
        "monthly_sales.index = monthly_sales.index.map(lambda x: pd.to_datetime(str(x), format='%m').strftime('%b'))  # Convert month numbers to names\n",
        "\n",
        "print(monthly_sales)\n",
        "\n"
      ],
      "metadata": {
        "colab": {
          "base_uri": "https://localhost:8080/"
        },
        "id": "YJ8vwni7nEx0",
        "outputId": "8c040495-bbf1-4160-b072-6707838d3575"
      },
      "execution_count": 24,
      "outputs": [
        {
          "output_type": "stream",
          "name": "stdout",
          "text": [
            "Date  2022  2023\n",
            "Date            \n",
            "Jan    315   475\n",
            "Feb    320   415\n",
            "Mar    705   830\n",
            "Apr    800   855\n",
            "May    750  1145\n",
            "Jun    690  1025\n",
            "Jul    700  1025\n",
            "Aug    810   895\n",
            "Sep   1475  1830\n",
            "Oct    835   995\n",
            "Nov   1620  1850\n",
            "Dec   1625  1921\n"
          ]
        }
      ]
    },
    {
      "cell_type": "markdown",
      "source": [
        "clearly illustrates the number of units sold every month for the two years."
      ],
      "metadata": {
        "id": "k0iQfjqUGn4y"
      }
    },
    {
      "cell_type": "code",
      "source": [
        "#sales distribution (units) by year\n",
        "yearly_sales = df.groupby(df['Date'].dt.year).size()\n",
        "yearly_sales.sort_values(ascending=False)"
      ],
      "metadata": {
        "colab": {
          "base_uri": "https://localhost:8080/",
          "height": 178
        },
        "id": "uLoXnXvRC0BI",
        "outputId": "28aa5dfd-7f7a-4922-a0d4-44ec4fd54f51"
      },
      "execution_count": 25,
      "outputs": [
        {
          "output_type": "execute_result",
          "data": {
            "text/plain": [
              "Date\n",
              "2023    13261\n",
              "2022    10645\n",
              "dtype: int64"
            ],
            "text/html": [
              "<div>\n",
              "<style scoped>\n",
              "    .dataframe tbody tr th:only-of-type {\n",
              "        vertical-align: middle;\n",
              "    }\n",
              "\n",
              "    .dataframe tbody tr th {\n",
              "        vertical-align: top;\n",
              "    }\n",
              "\n",
              "    .dataframe thead th {\n",
              "        text-align: right;\n",
              "    }\n",
              "</style>\n",
              "<table border=\"1\" class=\"dataframe\">\n",
              "  <thead>\n",
              "    <tr style=\"text-align: right;\">\n",
              "      <th></th>\n",
              "      <th>0</th>\n",
              "    </tr>\n",
              "    <tr>\n",
              "      <th>Date</th>\n",
              "      <th></th>\n",
              "    </tr>\n",
              "  </thead>\n",
              "  <tbody>\n",
              "    <tr>\n",
              "      <th>2023</th>\n",
              "      <td>13261</td>\n",
              "    </tr>\n",
              "    <tr>\n",
              "      <th>2022</th>\n",
              "      <td>10645</td>\n",
              "    </tr>\n",
              "  </tbody>\n",
              "</table>\n",
              "</div><br><label><b>dtype:</b> int64</label>"
            ]
          },
          "metadata": {},
          "execution_count": 25
        }
      ]
    },
    {
      "cell_type": "markdown",
      "source": [
        "total number of sold units in 2022 and 2023"
      ],
      "metadata": {
        "id": "JWHI9sRNHQPY"
      }
    },
    {
      "cell_type": "markdown",
      "source": [
        "### Top Selling Car Models, Companies, Dealers"
      ],
      "metadata": {
        "id": "e2cIdesAHsYL"
      }
    },
    {
      "cell_type": "code",
      "source": [
        "#top 10 most expensive models\n",
        "top_expensive_models = (\n",
        "    df.groupby('Model')['Price ($)']\n",
        "    .max()  # Calculate the maximum price for each model\n",
        "    .sort_values(ascending=False)\n",
        "    .head(10)\n",
        ")\n",
        "print(top_expensive_models)\n"
      ],
      "metadata": {
        "colab": {
          "base_uri": "https://localhost:8080/"
        },
        "id": "mtrIk07qE2OI",
        "outputId": "0984a99c-dbba-4416-9241-fa7a7c9a55b4"
      },
      "execution_count": 54,
      "outputs": [
        {
          "output_type": "stream",
          "name": "stdout",
          "text": [
            "Model\n",
            "Eldorado       85800\n",
            "RAV4           85600\n",
            "A6             85500\n",
            "S-Class        85250\n",
            "Malibu         82800\n",
            "Tacoma         82750\n",
            "C70            82600\n",
            "Continental    82500\n",
            "Pathfinder     75700\n",
            "Catera         75600\n",
            "Name: Price ($), dtype: int64\n"
          ]
        }
      ]
    },
    {
      "cell_type": "code",
      "source": [
        "#best selling dealer\n",
        "best_selling_dealer = df['Dealer_Name'].value_counts().head(10)\n",
        "print(best_selling_dealer)"
      ],
      "metadata": {
        "colab": {
          "base_uri": "https://localhost:8080/"
        },
        "id": "jzVXk-R9J101",
        "outputId": "fbdbdf6c-0048-4bce-9fcd-d1ecb41662f1"
      },
      "execution_count": 27,
      "outputs": [
        {
          "output_type": "stream",
          "name": "stdout",
          "text": [
            "Dealer_Name\n",
            "Progressive Shippers Cooperative Association No    1318\n",
            "Rabun Used Car Sales                               1313\n",
            "Race Car Help                                      1253\n",
            "Saab-Belle Dodge                                   1251\n",
            "Star Enterprises Inc                               1249\n",
            "Tri-State Mack Inc                                 1249\n",
            "Ryder Truck Rental and Leasing                     1248\n",
            "U-Haul CO                                          1247\n",
            "Scrivener Performance Engineering                  1246\n",
            "Suburban Ford                                      1243\n",
            "Name: count, dtype: int64\n"
          ]
        }
      ]
    },
    {
      "cell_type": "code",
      "source": [
        "#Top selling companies\n",
        "top_selling_companies = df['Company'].value_counts().head(10)\n",
        "print(top_selling_companies)"
      ],
      "metadata": {
        "colab": {
          "base_uri": "https://localhost:8080/"
        },
        "id": "NoavoPoIJhhu",
        "outputId": "b609e57e-5a8a-4619-9cc1-a2a9c931c756"
      },
      "execution_count": 28,
      "outputs": [
        {
          "output_type": "stream",
          "name": "stdout",
          "text": [
            "Company\n",
            "Chevrolet     1819\n",
            "Dodge         1671\n",
            "Ford          1614\n",
            "Volkswagen    1333\n",
            "Mercedes-B    1285\n",
            "Mitsubishi    1277\n",
            "Chrysler      1120\n",
            "Oldsmobile    1111\n",
            "Toyota        1110\n",
            "Nissan         886\n",
            "Name: count, dtype: int64\n"
          ]
        }
      ]
    },
    {
      "cell_type": "markdown",
      "source": [
        "###Revenue Analysis"
      ],
      "metadata": {
        "id": "pnXzX_h9MVSG"
      }
    },
    {
      "cell_type": "markdown",
      "source": [
        "####Dealer Performace"
      ],
      "metadata": {
        "id": "dQoHQbCTRkG5"
      }
    },
    {
      "cell_type": "code",
      "source": [
        "#total sales per dealer\n",
        "total_sales_per_dealer = df.groupby('Dealer_Name')['Price ($)'].sum().sort_values(ascending=False)\n",
        "print(total_sales_per_dealer)"
      ],
      "metadata": {
        "colab": {
          "base_uri": "https://localhost:8080/"
        },
        "id": "_qCGOfF3MbeL",
        "outputId": "561f1aef-21aa-4c85-a24a-d6b26b3ab2e2"
      },
      "execution_count": 29,
      "outputs": [
        {
          "output_type": "stream",
          "name": "stdout",
          "text": [
            "Dealer_Name\n",
            "Rabun Used Car Sales                               37456655\n",
            "Progressive Shippers Cooperative Association No    36751460\n",
            "U-Haul CO                                          35876089\n",
            "Race Car Help                                      35288706\n",
            "Saab-Belle Dodge                                   35265865\n",
            "Scrivener Performance Engineering                  35258525\n",
            "Star Enterprises Inc                               35113206\n",
            "Tri-State Mack Inc                                 35091357\n",
            "Suburban Ford                                      34943473\n",
            "Ryder Truck Rental and Leasing                     34837906\n",
            "Iceberg Rentals                                    17883895\n",
            "Classic Chevy                                      17819055\n",
            "Gartner Buick Hyundai Saab                         17739506\n",
            "Capitol KIA                                        17703134\n",
            "Enterprise Rent A Car                              17695363\n",
            "Pars Auto Sales                                    17648228\n",
            "Nebo Chevrolet                                     17609357\n",
            "Chrysler of Tri-Cities                             17605055\n",
            "C & M Motors Inc                                   17569847\n",
            "New Castle Ford Lincoln Mercury                    17528426\n",
            "Hatfield Volkswagen                                17519985\n",
            "Motor Vehicle Branch Office                        17500919\n",
            "Diehl Motor CO Inc                                 17468212\n",
            "Clay Johnson Auto Sales                            17440649\n",
            "McKinney Dodge Chrysler Jeep                       17413297\n",
            "Chrysler Plymouth                                  17222204\n",
            "Pitre Buick-Pontiac-Gmc of Scottsdale              17209868\n",
            "Buddy Storbeck's Diesel Service Inc                17065223\n",
            "Name: Price ($), dtype: int64\n"
          ]
        }
      ]
    },
    {
      "cell_type": "code",
      "source": [
        "#total sales per model\n",
        "total_sales_per_model = df.groupby('Model')['Price ($)'].sum().sort_values(ascending=False)\n",
        "print(total_sales_per_model)"
      ],
      "metadata": {
        "colab": {
          "base_uri": "https://localhost:8080/"
        },
        "id": "1OKRhJAkOTGP",
        "outputId": "43186162-20d4-416c-87af-13c3346bf9c6"
      },
      "execution_count": 37,
      "outputs": [
        {
          "output_type": "stream",
          "name": "stdout",
          "text": [
            "Model\n",
            "LS400            14263424\n",
            "Jetta            12287736\n",
            "Silhouette       12271849\n",
            "Montero Sport    11472231\n",
            "Ram Pickup       10655391\n",
            "                   ...   \n",
            "Alero              307302\n",
            "RX300              270302\n",
            "Avalon             270002\n",
            "Mirage             172204\n",
            "Sebring Conv.      162501\n",
            "Name: Price ($), Length: 154, dtype: int64\n"
          ]
        }
      ]
    },
    {
      "cell_type": "code",
      "source": [
        "#total sales per region\n",
        "total_sales_per_region = df.groupby('Dealer_Region')['Price ($)'].sum().sort_values(ascending=False)\n",
        "print(total_sales_per_region)"
      ],
      "metadata": {
        "colab": {
          "base_uri": "https://localhost:8080/"
        },
        "id": "pffngK_gOgkR",
        "outputId": "689f2897-82eb-482c-c311-e499a54e90d4"
      },
      "execution_count": 31,
      "outputs": [
        {
          "output_type": "stream",
          "name": "stdout",
          "text": [
            "Dealer_Region\n",
            "Austin        117192531\n",
            "Janesville    106351234\n",
            "Scottsdale     95969374\n",
            "Aurora         88687382\n",
            "Greenville     88149602\n",
            "Pasco          88040714\n",
            "Middletown     87134628\n",
            "Name: Price ($), dtype: int64\n"
          ]
        }
      ]
    },
    {
      "cell_type": "markdown",
      "source": [
        "####Car Preference"
      ],
      "metadata": {
        "id": "Bc4qL_V4SChU"
      }
    },
    {
      "cell_type": "code",
      "source": [
        "#total sales per company\n",
        "total_sales_per_company = df.groupby('Company')['Price ($)'].sum().sort_values(ascending=False)\n",
        "print(total_sales_per_company)"
      ],
      "metadata": {
        "colab": {
          "base_uri": "https://localhost:8080/"
        },
        "id": "51Jl1EBDOL78",
        "outputId": "950c002f-c04e-41bf-cc50-cbd8261e67a5"
      },
      "execution_count": 32,
      "outputs": [
        {
          "output_type": "stream",
          "name": "stdout",
          "text": [
            "Company\n",
            "Chevrolet     47655265\n",
            "Ford          47231583\n",
            "Dodge         44124996\n",
            "Oldsmobile    35434512\n",
            "Mercedes-B    34624123\n",
            "Volkswagen    34082881\n",
            "Mitsubishi    34062466\n",
            "Toyota        32759564\n",
            "Chrysler      29141873\n",
            "Lexus         27287703\n",
            "Cadillac      26713805\n",
            "Mercury       24939733\n",
            "Nissan        23964095\n",
            "Pontiac       23369207\n",
            "Volvo         21925200\n",
            "Honda         19882735\n",
            "BMW           19821592\n",
            "Saturn        18220269\n",
            "Plymouth      18142873\n",
            "Acura         17058649\n",
            "Lincoln       15452262\n",
            "Buick         14765485\n",
            "Subaru        11312193\n",
            "Audi          10694638\n",
            "Porsche        8185637\n",
            "Saab           7668431\n",
            "Jeep           7643814\n",
            "Infiniti       5717040\n",
            "Hyundai        5117966\n",
            "Jaguar         4524875\n",
            "Name: Price ($), dtype: int64\n"
          ]
        }
      ]
    },
    {
      "cell_type": "code",
      "source": [
        "#sales by car color\n",
        "sales_by_color = df.groupby('Color')['Price ($)'].sum().sort_values(ascending=False)\n",
        "print(sales_by_color)"
      ],
      "metadata": {
        "colab": {
          "base_uri": "https://localhost:8080/"
        },
        "id": "gA7RwbCVQ7bn",
        "outputId": "7f941b26-dc4c-45c3-b7e8-0ebb94871409"
      },
      "execution_count": 33,
      "outputs": [
        {
          "output_type": "stream",
          "name": "stdout",
          "text": [
            "Color\n",
            "Pale White    309358670\n",
            "Black         224433618\n",
            "Red           137733177\n",
            "Name: Price ($), dtype: int64\n"
          ]
        }
      ]
    },
    {
      "cell_type": "code",
      "source": [
        "#price distribution by region\n",
        "price_distribution_by_region = df.groupby('Dealer_Region')['Price ($)'].mean()\n",
        "print(price_distribution_by_region)"
      ],
      "metadata": {
        "colab": {
          "base_uri": "https://localhost:8080/"
        },
        "id": "vXHdsKESSfV_",
        "outputId": "dd753e6c-19ff-42d3-ae85-c14edf8cb5c9"
      },
      "execution_count": 34,
      "outputs": [
        {
          "output_type": "stream",
          "name": "stdout",
          "text": [
            "Dealer_Region\n",
            "Aurora        28334.626837\n",
            "Austin        28341.603628\n",
            "Greenville    28180.819054\n",
            "Janesville    27833.350955\n",
            "Middletown    27856.338875\n",
            "Pasco         28119.039923\n",
            "Scottsdale    27954.958928\n",
            "Name: Price ($), dtype: float64\n"
          ]
        }
      ]
    },
    {
      "cell_type": "markdown",
      "source": [
        "#Data Visualization"
      ],
      "metadata": {
        "id": "E04xRgozSvRn"
      }
    },
    {
      "cell_type": "markdown",
      "source": [
        "Customers' Gender Distribution"
      ],
      "metadata": {
        "id": "RAcXHINEPWDU"
      }
    },
    {
      "cell_type": "code",
      "source": [
        "#plot gender distribution\n",
        "gender_distribution.plot(kind='pie', figsize=(10, 6))\n",
        "plt.title('Gender Distribution')\n",
        "plt.show()"
      ],
      "metadata": {
        "colab": {
          "base_uri": "https://localhost:8080/",
          "height": 521
        },
        "id": "q1n9ZukZMCNI",
        "outputId": "607c52e3-b823-4d0b-e17d-5552607fa712"
      },
      "execution_count": 59,
      "outputs": [
        {
          "output_type": "display_data",
          "data": {
            "text/plain": [
              "<Figure size 1000x600 with 1 Axes>"
            ],
            "image/png": "[encoded data removed]"
          },
          "metadata": {}
        }
      ]
    },
    {
      "cell_type": "markdown",
      "source": [
        "Monthly Sales Grouped by Years"
      ],
      "metadata": {
        "id": "Y1Y4pgHPPM1H"
      }
    },
    {
      "cell_type": "code",
      "source": [
        "#plot sales distribution by month (units) group by year\n",
        "monthly_sales.plot(kind='bar', figsize=(10, 6))\n"
      ],
      "metadata": {
        "colab": {
          "base_uri": "https://localhost:8080/",
          "height": 575
        },
        "id": "48TFO2D5IViQ",
        "outputId": "28bb1b1f-bdc6-4aaa-cabb-492749f2008f"
      },
      "execution_count": 45,
      "outputs": [
        {
          "output_type": "execute_result",
          "data": {
            "text/plain": [
              "<Axes: xlabel='Date'>"
            ]
          },
          "metadata": {},
          "execution_count": 45
        },
        {
          "output_type": "display_data",
          "data": {
            "text/plain": [
              "<Figure size 1000x600 with 1 Axes>"
            ],
            "image/png": "[encoded data removed]"
          },
          "metadata": {}
        }
      ]
    },
    {
      "cell_type": "markdown",
      "source": [
        "Total Sales in 2022 and 2023"
      ],
      "metadata": {
        "id": "OtUFicDoPdvV"
      }
    },
    {
      "cell_type": "code",
      "source": [
        "#plot sales distribution (units) by year pie chart\n",
        "yearly_sales.plot(kind='pie', figsize=(10, 6))\n",
        "plt.title('Yearly Sales Distribution')"
      ],
      "metadata": {
        "colab": {
          "base_uri": "https://localhost:8080/",
          "height": 538
        },
        "id": "j373yTPHJNdQ",
        "outputId": "03b47e59-7d02-42f9-cc36-db17f5c0f436"
      },
      "execution_count": 50,
      "outputs": [
        {
          "output_type": "execute_result",
          "data": {
            "text/plain": [
              "Text(0.5, 1.0, 'Yearly Sales Distribution')"
            ]
          },
          "metadata": {},
          "execution_count": 50
        },
        {
          "output_type": "display_data",
          "data": {
            "text/plain": [
              "<Figure size 1000x600 with 1 Axes>"
            ],
            "image/png": "[encoded data removed]"
          },
          "metadata": {}
        }
      ]
    },
    {
      "cell_type": "markdown",
      "source": [
        "Top Selling Companies by Unit Solds"
      ],
      "metadata": {
        "id": "ziQ2EtgBPna0"
      }
    },
    {
      "cell_type": "code",
      "source": [
        "#plot top selling companies\n",
        "top_selling_companies.plot(kind='bar', figsize=(10, 6))\n",
        "plt.title('Top Selling Companies')\n",
        "plt.xlabel('Company')\n",
        "plt.ylabel('Number of Sales')\n",
        "plt.show()"
      ],
      "metadata": {
        "colab": {
          "base_uri": "https://localhost:8080/",
          "height": 632
        },
        "id": "haToRdgJLqav",
        "outputId": "0931058e-86c0-403f-a247-1ffd9c3b2a38"
      },
      "execution_count": 56,
      "outputs": [
        {
          "output_type": "display_data",
          "data": {
            "text/plain": [
              "<Figure size 1000x600 with 1 Axes>"
            ],
            "image/png": "[encoded data removed]"
          },
          "metadata": {}
        }
      ]
    },
    {
      "cell_type": "markdown",
      "source": [
        "Unit Sold by Car Color"
      ],
      "metadata": {
        "id": "AKvTCkDwPz8s"
      }
    },
    {
      "cell_type": "code",
      "source": [
        "#plot sale by color\n",
        "sales_by_color.plot(kind='bar', figsize=(10, 6))\n",
        "plt.title('Sales by Color')\n",
        "plt.xlabel('Color')\n",
        "plt.ylabel('Total Sales')\n",
        "plt.show()"
      ],
      "metadata": {
        "colab": {
          "base_uri": "https://localhost:8080/",
          "height": 624
        },
        "id": "ltolHYEkOeVb",
        "outputId": "c383d7c8-450f-48ef-8e1f-028f0031e0cc"
      },
      "execution_count": 65,
      "outputs": [
        {
          "output_type": "display_data",
          "data": {
            "text/plain": [
              "<Figure size 1000x600 with 1 Axes>"
            ],
            "image/png": "[encoded data removed]"
          },
          "metadata": {}
        }
      ]
    },
    {
      "cell_type": "markdown",
      "source": [
        "#Insights and Recommendations"
      ],
      "metadata": {
        "id": "L8C4hP4FO4pV"
      }
    },
    {
      "cell_type": "markdown",
      "source": [
        "##Insights"
      ],
      "metadata": {
        "id": "v8qvG7g-RNfk"
      }
    },
    {
      "cell_type": "markdown",
      "source": [
        "These are the Key insights from the data\n",
        "1. Most of the customers are male\n",
        "2. Sales are high towards end of the year, (Nov,Dec) and low at the start of the year (Jan, Feb)\n",
        "3. Sales progressively increase from January towards December.\n",
        "4. More Sales were made in 2023 as compared to 2022\n",
        "5. Top Selling Brands are Chevrolet, Dodge, and Ford\n",
        "6. Pale white color leads in sales, then black.\n",
        "Color Red has the lowest sales"
      ],
      "metadata": {
        "id": "CKI_XJ4eTS--"
      }
    },
    {
      "cell_type": "markdown",
      "source": [
        "##Recommendations"
      ],
      "metadata": {
        "id": "bn8KleB0RybG"
      }
    },
    {
      "cell_type": "markdown",
      "source": [
        "1. Targeted Marketing for Male Customers\n",
        "Since most customers are male, dealerships should tailor marketing campaigns, promotions, and advertisements to appeal to male buyers.\n",
        "To boost female buyers sales, consider female-Centric Marketing Campaigns, such as using female influencers and brand ambassadors\n",
        "\n",
        "2. Seasonal sales strategy\n",
        "Boost Promotions in Low Sales Months: Since sales are low in January and February, introduce discounts, financing options, or promotional campaigns to attract buyers.\n",
        "Maximize Peak Sales in Q4 (Nov, Dec): Stock up on high-demand models before the year-end surge and introduce limited-time offers to increase sales further.\n",
        "\n",
        "3. Increase Inventory for High-Demand Models\n",
        "Prioritize stocking more Chevrolet, Dodge, and Ford models, as they are the best-selling brands.\n",
        "Conduct further analysis to see which specific models drive sales and focus marketing efforts on them.\n",
        "\n",
        "4. Optimize Color Inventory\n",
        "Since pale white and black cars sell the most, dealerships should prioritize these colors in inventory.\n",
        "Reduce the stock of red cars or introduce special discounts to clear slow-moving inventory.\n",
        "\n",
        "5. Enhance Sales Strategies for 2024\n",
        "Since 2023 had higher sales than 2022, apply successful strategies from 2023 (e.g., pricing, marketing, promotions) to maintain the growth trend in 2024.\n",
        "Expand customer engagement through social media, online ads, and referral programs to sustain the upward sales trajectory."
      ],
      "metadata": {
        "id": "ABymUickR44T"
      }
    }
  ]
}