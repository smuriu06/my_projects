{
  "nbformat": 4,
  "nbformat_minor": 0,
  "metadata": {
    "colab": {
      "provenance": [],
      "toc_visible": true,
      "include_colab_link": true
    },
    "kernelspec": {
      "name": "python3",
      "display_name": "Python 3"
    },
    "language_info": {
      "name": "python"
    }
  },
  "cells": [
    {
      "cell_type": "markdown",
      "metadata": {
        "id": "view-in-github",
        "colab_type": "text"
      },
      "source": [
        "<a href=\"https://colab.research.google.com/github/smuriu06/my_projects/blob/main/Anonymized_Data_Assessment.ipynb\" target=\"_parent\"><img src=\"https://colab.research.google.com/assets/colab-badge.svg\" alt=\"Open In Colab\"/></a>"
      ]
    },
    {
      "cell_type": "markdown",
      "source": [
        "#Background"
      ],
      "metadata": {
        "id": "wpBB70qCM4ru"
      }
    },
    {
      "cell_type": "markdown",
      "source": [
        "The report provides a comprehensive analysis of sales data, focusing on data quality, trends, and customer segmentation to derive actionable insights. The analysis begins with data cleaning and preparation, ensuring accuracy by handling missing values, duplicates, and inconsistent data types. Key features such as “Month-Year” were engineered to facilitate trend analysis.\n",
        "\n",
        "Through exploratory data analysis, sales performance was examined across different categories and businesses, supported by visualizations. Advanced techniques, including customer segmentation, forecasting, and anomaly detection, were applied to uncover purchasing patterns and predict future trends.\n",
        "\n",
        "Finally, strategic recommendations were made to optimize product strategy, enhance customer retention, and improve operational efficiency.\n",
        "A dynamic Power BI dashboard summarizes key findings for better decision-making."
      ],
      "metadata": {
        "id": "Dn8VsTL1p-1s"
      }
    },
    {
      "cell_type": "markdown",
      "source": [
        "## Retrieving the Data from SQL\n",
        "\n",
        "\n",
        "```\n",
        "SELECT *\n",
        "FROM your_table_name\n",
        "WHERE Date BETWEEN '2024-01-01' AND '2024-12-31';\n",
        "```\n",
        "or\n",
        "\n",
        "\n",
        "```\n",
        "SELECT *\n",
        "FROM your_table_name\n",
        "WHERE YEAR(Date) = 2024;\n",
        "```\n",
        "\n",
        "\n",
        "```\n",
        "# If date is stored as text\n",
        "SELECT *\n",
        "FROM your_table_name\n",
        "WHERE Date LIKE '2024-%';\n",
        "```\n",
        "\n",
        "For SQL Server, you can:\n",
        "\n",
        "* Run the query to get 2024 data.\n",
        "* Click \"Results to File\" (CTRL+SHIFT+F).\n",
        "* Save as .csv or .txt.\n",
        "\n",
        "\n",
        "\n",
        "\n"
      ],
      "metadata": {
        "id": "2IffHKFme-ZX"
      }
    },
    {
      "cell_type": "code",
      "execution_count": null,
      "metadata": {
        "id": "SviFUKV2k0-b"
      },
      "outputs": [],
      "source": [
        "#import libraries\n",
        "import pandas as pd\n",
        "import numpy as np\n",
        "import matplotlib.pyplot as plt\n",
        "import seaborn as sns"
      ]
    },
    {
      "cell_type": "code",
      "source": [
        "# Reading the Data\n",
        "data=pd.read_csv('/content/Case_Study_Data.csv')\n"
      ],
      "metadata": {
        "id": "C7fV0Y6DMUXC"
      },
      "execution_count": null,
      "outputs": []
    },
    {
      "cell_type": "code",
      "source": [
        "#Viewing the shape of data\n",
        "data.shape"
      ],
      "metadata": {
        "colab": {
          "base_uri": "https://localhost:8080/"
        },
        "id": "DjZuUy8nNKZL",
        "outputId": "1918dbb1-1145-4d22-b32f-531d3bc9e458"
      },
      "execution_count": null,
      "outputs": [
        {
          "output_type": "execute_result",
          "data": {
            "text/plain": [
              "(333405, 7)"
            ]
          },
          "metadata": {},
          "execution_count": 35
        }
      ]
    },
    {
      "cell_type": "markdown",
      "source": [
        "The dataset has 33405 rows and 7 columns"
      ],
      "metadata": {
        "id": "kDIhSzS_rWN5"
      }
    },
    {
      "cell_type": "code",
      "source": [
        "#Viewing the 7 specific columns of data\n",
        "data.columns"
      ],
      "metadata": {
        "colab": {
          "base_uri": "https://localhost:8080/"
        },
        "id": "LbpgUFUkrfuq",
        "outputId": "7146b2bd-1be5-47e6-ccfc-c1078307a061"
      },
      "execution_count": null,
      "outputs": [
        {
          "output_type": "execute_result",
          "data": {
            "text/plain": [
              "Index(['DATE', 'ANONYMIZED CATEGORY', 'ANONYMIZED PRODUCT',\n",
              "       'ANONYMIZED BUSINESS', 'ANONYMIZED LOCATION', 'QUANTITY', 'UNIT PRICE'],\n",
              "      dtype='object')"
            ]
          },
          "metadata": {},
          "execution_count": 36
        }
      ]
    },
    {
      "cell_type": "code",
      "source": [
        "#Viewing a few rows of the data\n",
        "data.head(10)"
      ],
      "metadata": {
        "colab": {
          "base_uri": "https://localhost:8080/",
          "height": 363
        },
        "id": "JmuIvmBPOHJB",
        "outputId": "39b85ae7-3320-4f75-a2fc-6de599e07ba9"
      },
      "execution_count": null,
      "outputs": [
        {
          "output_type": "execute_result",
          "data": {
            "text/plain": [
              "                       DATE ANONYMIZED CATEGORY ANONYMIZED PRODUCT  \\\n",
              "0  August 18, 2024, 9:32 PM        Category-106       Product-21f4   \n",
              "1  August 18, 2024, 9:32 PM        Category-120       Product-4156   \n",
              "2  August 18, 2024, 9:32 PM        Category-121       Product-49bd   \n",
              "3  August 18, 2024, 9:32 PM         Category-76       Product-61dd   \n",
              "4  August 18, 2024, 9:32 PM        Category-119       Product-66e0   \n",
              "5  August 18, 2024, 9:32 PM         Category-76       Product-6e9c   \n",
              "6  August 18, 2024, 9:32 PM        Category-120       Product-7864   \n",
              "7  August 18, 2024, 9:32 PM        Category-119       Product-7940   \n",
              "8  August 18, 2024, 9:32 PM         Category-96       Product-87b2   \n",
              "9  August 18, 2024, 9:32 PM        Category-106       Product-c14c   \n",
              "\n",
              "  ANONYMIZED BUSINESS ANONYMIZED LOCATION  QUANTITY UNIT PRICE  \n",
              "0       Business-de42       Location-1ba8         1        850  \n",
              "1       Business-de42       Location-1ba8         2      1,910  \n",
              "2       Business-de42       Location-1ba8         1      3,670  \n",
              "3       Business-de42       Location-1ba8         1      2,605  \n",
              "4       Business-de42       Location-1ba8         5      1,480  \n",
              "5       Business-de42       Location-1ba8         1      2,605  \n",
              "6       Business-de42       Location-1ba8         1      1,940  \n",
              "7       Business-de42       Location-1ba8         4      1,460  \n",
              "8       Business-de42       Location-1ba8         1        805  \n",
              "9       Business-de42       Location-1ba8         1      1,350  "
            ],
            "text/html": [
              "\n",
              "  <div id=\"df-87ecd64b-e758-418e-836c-6c896a013883\" class=\"colab-df-container\">\n",
              "    <div>\n",
              "<style scoped>\n",
              "    .dataframe tbody tr th:only-of-type {\n",
              "        vertical-align: middle;\n",
              "    }\n",
              "\n",
              "    .dataframe tbody tr th {\n",
              "        vertical-align: top;\n",
              "    }\n",
              "\n",
              "    .dataframe thead th {\n",
              "        text-align: right;\n",
              "    }\n",
              "</style>\n",
              "<table border=\"1\" class=\"dataframe\">\n",
              "  <thead>\n",
              "    <tr style=\"text-align: right;\">\n",
              "      <th></th>\n",
              "      <th>DATE</th>\n",
              "      <th>ANONYMIZED CATEGORY</th>\n",
              "      <th>ANONYMIZED PRODUCT</th>\n",
              "      <th>ANONYMIZED BUSINESS</th>\n",
              "      <th>ANONYMIZED LOCATION</th>\n",
              "      <th>QUANTITY</th>\n",
              "      <th>UNIT PRICE</th>\n",
              "    </tr>\n",
              "  </thead>\n",
              "  <tbody>\n",
              "    <tr>\n",
              "      <th>0</th>\n",
              "      <td>August 18, 2024, 9:32 PM</td>\n",
              "      <td>Category-106</td>\n",
              "      <td>Product-21f4</td>\n",
              "      <td>Business-de42</td>\n",
              "      <td>Location-1ba8</td>\n",
              "      <td>1</td>\n",
              "      <td>850</td>\n",
              "    </tr>\n",
              "    <tr>\n",
              "      <th>1</th>\n",
              "      <td>August 18, 2024, 9:32 PM</td>\n",
              "      <td>Category-120</td>\n",
              "      <td>Product-4156</td>\n",
              "      <td>Business-de42</td>\n",
              "      <td>Location-1ba8</td>\n",
              "      <td>2</td>\n",
              "      <td>1,910</td>\n",
              "    </tr>\n",
              "    <tr>\n",
              "      <th>2</th>\n",
              "      <td>August 18, 2024, 9:32 PM</td>\n",
              "      <td>Category-121</td>\n",
              "      <td>Product-49bd</td>\n",
              "      <td>Business-de42</td>\n",
              "      <td>Location-1ba8</td>\n",
              "      <td>1</td>\n",
              "      <td>3,670</td>\n",
              "    </tr>\n",
              "    <tr>\n",
              "      <th>3</th>\n",
              "      <td>August 18, 2024, 9:32 PM</td>\n",
              "      <td>Category-76</td>\n",
              "      <td>Product-61dd</td>\n",
              "      <td>Business-de42</td>\n",
              "      <td>Location-1ba8</td>\n",
              "      <td>1</td>\n",
              "      <td>2,605</td>\n",
              "    </tr>\n",
              "    <tr>\n",
              "      <th>4</th>\n",
              "      <td>August 18, 2024, 9:32 PM</td>\n",
              "      <td>Category-119</td>\n",
              "      <td>Product-66e0</td>\n",
              "      <td>Business-de42</td>\n",
              "      <td>Location-1ba8</td>\n",
              "      <td>5</td>\n",
              "      <td>1,480</td>\n",
              "    </tr>\n",
              "    <tr>\n",
              "      <th>5</th>\n",
              "      <td>August 18, 2024, 9:32 PM</td>\n",
              "      <td>Category-76</td>\n",
              "      <td>Product-6e9c</td>\n",
              "      <td>Business-de42</td>\n",
              "      <td>Location-1ba8</td>\n",
              "      <td>1</td>\n",
              "      <td>2,605</td>\n",
              "    </tr>\n",
              "    <tr>\n",
              "      <th>6</th>\n",
              "      <td>August 18, 2024, 9:32 PM</td>\n",
              "      <td>Category-120</td>\n",
              "      <td>Product-7864</td>\n",
              "      <td>Business-de42</td>\n",
              "      <td>Location-1ba8</td>\n",
              "      <td>1</td>\n",
              "      <td>1,940</td>\n",
              "    </tr>\n",
              "    <tr>\n",
              "      <th>7</th>\n",
              "      <td>August 18, 2024, 9:32 PM</td>\n",
              "      <td>Category-119</td>\n",
              "      <td>Product-7940</td>\n",
              "      <td>Business-de42</td>\n",
              "      <td>Location-1ba8</td>\n",
              "      <td>4</td>\n",
              "      <td>1,460</td>\n",
              "    </tr>\n",
              "    <tr>\n",
              "      <th>8</th>\n",
              "      <td>August 18, 2024, 9:32 PM</td>\n",
              "      <td>Category-96</td>\n",
              "      <td>Product-87b2</td>\n",
              "      <td>Business-de42</td>\n",
              "      <td>Location-1ba8</td>\n",
              "      <td>1</td>\n",
              "      <td>805</td>\n",
              "    </tr>\n",
              "    <tr>\n",
              "      <th>9</th>\n",
              "      <td>August 18, 2024, 9:32 PM</td>\n",
              "      <td>Category-106</td>\n",
              "      <td>Product-c14c</td>\n",
              "      <td>Business-de42</td>\n",
              "      <td>Location-1ba8</td>\n",
              "      <td>1</td>\n",
              "      <td>1,350</td>\n",
              "    </tr>\n",
              "  </tbody>\n",
              "</table>\n",
              "</div>\n",
              "    <div class=\"colab-df-buttons\">\n",
              "\n",
              "  <div class=\"colab-df-container\">\n",
              "    <button class=\"colab-df-convert\" onclick=\"convertToInteractive('df-87ecd64b-e758-418e-836c-6c896a013883')\"\n",
              "            title=\"Convert this dataframe to an interactive table.\"\n",
              "            style=\"display:none;\">\n",
              "\n",
              "  <svg xmlns=\"http://www.w3.org/2000/svg\" height=\"24px\" viewBox=\"0 -960 960 960\">\n",
              "    <path d=\"M120-120v-720h720v720H120Zm60-500h600v-160H180v160Zm220 220h160v-160H400v160Zm0 220h160v-160H400v160ZM180-400h160v-160H180v160Zm440 0h160v-160H620v160ZM180-180h160v-160H180v160Zm440 0h160v-160H620v160Z\"/>\n",
              "  </svg>\n",
              "    </button>\n",
              "\n",
              "  <style>\n",
              "    .colab-df-container {\n",
              "      display:flex;\n",
              "      gap: 12px;\n",
              "    }\n",
              "\n",
              "    .colab-df-convert {\n",
              "      background-color: #E8F0FE;\n",
              "      border: none;\n",
              "      border-radius: 50%;\n",
              "      cursor: pointer;\n",
              "      display: none;\n",
              "      fill: #1967D2;\n",
              "      height: 32px;\n",
              "      padding: 0 0 0 0;\n",
              "      width: 32px;\n",
              "    }\n",
              "\n",
              "    .colab-df-convert:hover {\n",
              "      background-color: #E2EBFA;\n",
              "      box-shadow: 0px 1px 2px rgba(60, 64, 67, 0.3), 0px 1px 3px 1px rgba(60, 64, 67, 0.15);\n",
              "      fill: #174EA6;\n",
              "    }\n",
              "\n",
              "    .colab-df-buttons div {\n",
              "      margin-bottom: 4px;\n",
              "    }\n",
              "\n",
              "    [theme=dark] .colab-df-convert {\n",
              "      background-color: #3B4455;\n",
              "      fill: #D2E3FC;\n",
              "    }\n",
              "\n",
              "    [theme=dark] .colab-df-convert:hover {\n",
              "      background-color: #434B5C;\n",
              "      box-shadow: 0px 1px 3px 1px rgba(0, 0, 0, 0.15);\n",
              "      filter: drop-shadow(0px 1px 2px rgba(0, 0, 0, 0.3));\n",
              "      fill: #FFFFFF;\n",
              "    }\n",
              "  </style>\n",
              "\n",
              "    <script>\n",
              "      const buttonEl =\n",
              "        document.querySelector('#df-87ecd64b-e758-418e-836c-6c896a013883 button.colab-df-convert');\n",
              "      buttonEl.style.display =\n",
              "        google.colab.kernel.accessAllowed ? 'block' : 'none';\n",
              "\n",
              "      async function convertToInteractive(key) {\n",
              "        const element = document.querySelector('#df-87ecd64b-e758-418e-836c-6c896a013883');\n",
              "        const dataTable =\n",
              "          await google.colab.kernel.invokeFunction('convertToInteractive',\n",
              "                                                    [key], {});\n",
              "        if (!dataTable) return;\n",
              "\n",
              "        const docLinkHtml = 'Like what you see? Visit the ' +\n",
              "          '<a target=\"_blank\" href=https://colab.research.google.com/notebooks/data_table.ipynb>data table notebook</a>'\n",
              "          + ' to learn more about interactive tables.';\n",
              "        element.innerHTML = '';\n",
              "        dataTable['output_type'] = 'display_data';\n",
              "        await google.colab.output.renderOutput(dataTable, element);\n",
              "        const docLink = document.createElement('div');\n",
              "        docLink.innerHTML = docLinkHtml;\n",
              "        element.appendChild(docLink);\n",
              "      }\n",
              "    </script>\n",
              "  </div>\n",
              "\n",
              "\n",
              "<div id=\"df-21eace68-668f-4949-814e-6faa7b131661\">\n",
              "  <button class=\"colab-df-quickchart\" onclick=\"quickchart('df-21eace68-668f-4949-814e-6faa7b131661')\"\n",
              "            title=\"Suggest charts\"\n",
              "            style=\"display:none;\">\n",
              "\n",
              "<svg xmlns=\"http://www.w3.org/2000/svg\" height=\"24px\"viewBox=\"0 0 24 24\"\n",
              "     width=\"24px\">\n",
              "    <g>\n",
              "        <path d=\"M19 3H5c-1.1 0-2 .9-2 2v14c0 1.1.9 2 2 2h14c1.1 0 2-.9 2-2V5c0-1.1-.9-2-2-2zM9 17H7v-7h2v7zm4 0h-2V7h2v10zm4 0h-2v-4h2v4z\"/>\n",
              "    </g>\n",
              "</svg>\n",
              "  </button>\n",
              "\n",
              "<style>\n",
              "  .colab-df-quickchart {\n",
              "      --bg-color: #E8F0FE;\n",
              "      --fill-color: #1967D2;\n",
              "      --hover-bg-color: #E2EBFA;\n",
              "      --hover-fill-color: #174EA6;\n",
              "      --disabled-fill-color: #AAA;\n",
              "      --disabled-bg-color: #DDD;\n",
              "  }\n",
              "\n",
              "  [theme=dark] .colab-df-quickchart {\n",
              "      --bg-color: #3B4455;\n",
              "      --fill-color: #D2E3FC;\n",
              "      --hover-bg-color: #434B5C;\n",
              "      --hover-fill-color: #FFFFFF;\n",
              "      --disabled-bg-color: #3B4455;\n",
              "      --disabled-fill-color: #666;\n",
              "  }\n",
              "\n",
              "  .colab-df-quickchart {\n",
              "    background-color: var(--bg-color);\n",
              "    border: none;\n",
              "    border-radius: 50%;\n",
              "    cursor: pointer;\n",
              "    display: none;\n",
              "    fill: var(--fill-color);\n",
              "    height: 32px;\n",
              "    padding: 0;\n",
              "    width: 32px;\n",
              "  }\n",
              "\n",
              "  .colab-df-quickchart:hover {\n",
              "    background-color: var(--hover-bg-color);\n",
              "    box-shadow: 0 1px 2px rgba(60, 64, 67, 0.3), 0 1px 3px 1px rgba(60, 64, 67, 0.15);\n",
              "    fill: var(--button-hover-fill-color);\n",
              "  }\n",
              "\n",
              "  .colab-df-quickchart-complete:disabled,\n",
              "  .colab-df-quickchart-complete:disabled:hover {\n",
              "    background-color: var(--disabled-bg-color);\n",
              "    fill: var(--disabled-fill-color);\n",
              "    box-shadow: none;\n",
              "  }\n",
              "\n",
              "  .colab-df-spinner {\n",
              "    border: 2px solid var(--fill-color);\n",
              "    border-color: transparent;\n",
              "    border-bottom-color: var(--fill-color);\n",
              "    animation:\n",
              "      spin 1s steps(1) infinite;\n",
              "  }\n",
              "\n",
              "  @keyframes spin {\n",
              "    0% {\n",
              "      border-color: transparent;\n",
              "      border-bottom-color: var(--fill-color);\n",
              "      border-left-color: var(--fill-color);\n",
              "    }\n",
              "    20% {\n",
              "      border-color: transparent;\n",
              "      border-left-color: var(--fill-color);\n",
              "      border-top-color: var(--fill-color);\n",
              "    }\n",
              "    30% {\n",
              "      border-color: transparent;\n",
              "      border-left-color: var(--fill-color);\n",
              "      border-top-color: var(--fill-color);\n",
              "      border-right-color: var(--fill-color);\n",
              "    }\n",
              "    40% {\n",
              "      border-color: transparent;\n",
              "      border-right-color: var(--fill-color);\n",
              "      border-top-color: var(--fill-color);\n",
              "    }\n",
              "    60% {\n",
              "      border-color: transparent;\n",
              "      border-right-color: var(--fill-color);\n",
              "    }\n",
              "    80% {\n",
              "      border-color: transparent;\n",
              "      border-right-color: var(--fill-color);\n",
              "      border-bottom-color: var(--fill-color);\n",
              "    }\n",
              "    90% {\n",
              "      border-color: transparent;\n",
              "      border-bottom-color: var(--fill-color);\n",
              "    }\n",
              "  }\n",
              "</style>\n",
              "\n",
              "  <script>\n",
              "    async function quickchart(key) {\n",
              "      const quickchartButtonEl =\n",
              "        document.querySelector('#' + key + ' button');\n",
              "      quickchartButtonEl.disabled = true;  // To prevent multiple clicks.\n",
              "      quickchartButtonEl.classList.add('colab-df-spinner');\n",
              "      try {\n",
              "        const charts = await google.colab.kernel.invokeFunction(\n",
              "            'suggestCharts', [key], {});\n",
              "      } catch (error) {\n",
              "        console.error('Error during call to suggestCharts:', error);\n",
              "      }\n",
              "      quickchartButtonEl.classList.remove('colab-df-spinner');\n",
              "      quickchartButtonEl.classList.add('colab-df-quickchart-complete');\n",
              "    }\n",
              "    (() => {\n",
              "      let quickchartButtonEl =\n",
              "        document.querySelector('#df-21eace68-668f-4949-814e-6faa7b131661 button');\n",
              "      quickchartButtonEl.style.display =\n",
              "        google.colab.kernel.accessAllowed ? 'block' : 'none';\n",
              "    })();\n",
              "  </script>\n",
              "</div>\n",
              "\n",
              "    </div>\n",
              "  </div>\n"
            ],
            "application/vnd.google.colaboratory.intrinsic+json": {
              "type": "dataframe",
              "variable_name": "data"
            }
          },
          "metadata": {},
          "execution_count": 37
        }
      ]
    },
    {
      "cell_type": "markdown",
      "source": [
        "#1. Data Cleaning & Preparation"
      ],
      "metadata": {
        "id": "HPhsYaJhNBCI"
      }
    },
    {
      "cell_type": "markdown",
      "source": [
        "## Handling Data Types"
      ],
      "metadata": {
        "id": "th8PC1jmQg1i"
      }
    },
    {
      "cell_type": "code",
      "source": [
        "#check data type\n",
        "data.dtypes"
      ],
      "metadata": {
        "colab": {
          "base_uri": "https://localhost:8080/",
          "height": 304
        },
        "id": "EMsa9KRRQBo0",
        "outputId": "f233831b-58a0-41db-a69a-6467dac92050"
      },
      "execution_count": null,
      "outputs": [
        {
          "output_type": "execute_result",
          "data": {
            "text/plain": [
              "DATE                   object\n",
              "ANONYMIZED CATEGORY    object\n",
              "ANONYMIZED PRODUCT     object\n",
              "ANONYMIZED BUSINESS    object\n",
              "ANONYMIZED LOCATION    object\n",
              "QUANTITY                int64\n",
              "UNIT PRICE             object\n",
              "dtype: object"
            ],
            "text/html": [
              "<div>\n",
              "<style scoped>\n",
              "    .dataframe tbody tr th:only-of-type {\n",
              "        vertical-align: middle;\n",
              "    }\n",
              "\n",
              "    .dataframe tbody tr th {\n",
              "        vertical-align: top;\n",
              "    }\n",
              "\n",
              "    .dataframe thead th {\n",
              "        text-align: right;\n",
              "    }\n",
              "</style>\n",
              "<table border=\"1\" class=\"dataframe\">\n",
              "  <thead>\n",
              "    <tr style=\"text-align: right;\">\n",
              "      <th></th>\n",
              "      <th>0</th>\n",
              "    </tr>\n",
              "  </thead>\n",
              "  <tbody>\n",
              "    <tr>\n",
              "      <th>DATE</th>\n",
              "      <td>object</td>\n",
              "    </tr>\n",
              "    <tr>\n",
              "      <th>ANONYMIZED CATEGORY</th>\n",
              "      <td>object</td>\n",
              "    </tr>\n",
              "    <tr>\n",
              "      <th>ANONYMIZED PRODUCT</th>\n",
              "      <td>object</td>\n",
              "    </tr>\n",
              "    <tr>\n",
              "      <th>ANONYMIZED BUSINESS</th>\n",
              "      <td>object</td>\n",
              "    </tr>\n",
              "    <tr>\n",
              "      <th>ANONYMIZED LOCATION</th>\n",
              "      <td>object</td>\n",
              "    </tr>\n",
              "    <tr>\n",
              "      <th>QUANTITY</th>\n",
              "      <td>int64</td>\n",
              "    </tr>\n",
              "    <tr>\n",
              "      <th>UNIT PRICE</th>\n",
              "      <td>object</td>\n",
              "    </tr>\n",
              "  </tbody>\n",
              "</table>\n",
              "</div><br><label><b>dtype:</b> object</label>"
            ]
          },
          "metadata": {},
          "execution_count": 38
        }
      ]
    },
    {
      "cell_type": "markdown",
      "source": [
        "2 rows do not have correct data types:\n",
        "1. DATE\n",
        "2. UNIT PRICE"
      ],
      "metadata": {
        "id": "vTrTnR2EdUVp"
      }
    },
    {
      "cell_type": "code",
      "source": [
        "#change Date Date and Unit Price data type\n",
        "data['DATE'] = pd.to_datetime(data['DATE'])\n",
        "data['UNIT PRICE'] = data['UNIT PRICE'].str.replace(',', '').astype(float)\n"
      ],
      "metadata": {
        "colab": {
          "base_uri": "https://localhost:8080/"
        },
        "id": "LfnBtor0dcbw",
        "outputId": "8fada097-f898-4bb0-aee5-97b86b7f312e"
      },
      "execution_count": null,
      "outputs": [
        {
          "output_type": "stream",
          "name": "stderr",
          "text": [
            "<ipython-input-39-9f97e18fcc40>:2: UserWarning: Could not infer format, so each element will be parsed individually, falling back to `dateutil`. To ensure parsing is consistent and as-expected, please specify a format.\n",
            "  data['DATE'] = pd.to_datetime(data['DATE'])\n"
          ]
        }
      ]
    },
    {
      "cell_type": "code",
      "source": [
        "#confirming the transformation of the data types\n",
        "data.dtypes"
      ],
      "metadata": {
        "colab": {
          "base_uri": "https://localhost:8080/",
          "height": 304
        },
        "id": "vsG5QiI8d78J",
        "outputId": "74e1b29a-b6f8-4158-d6dd-939b78e3206c"
      },
      "execution_count": null,
      "outputs": [
        {
          "output_type": "execute_result",
          "data": {
            "text/plain": [
              "DATE                   datetime64[ns]\n",
              "ANONYMIZED CATEGORY            object\n",
              "ANONYMIZED PRODUCT             object\n",
              "ANONYMIZED BUSINESS            object\n",
              "ANONYMIZED LOCATION            object\n",
              "QUANTITY                        int64\n",
              "UNIT PRICE                    float64\n",
              "dtype: object"
            ],
            "text/html": [
              "<div>\n",
              "<style scoped>\n",
              "    .dataframe tbody tr th:only-of-type {\n",
              "        vertical-align: middle;\n",
              "    }\n",
              "\n",
              "    .dataframe tbody tr th {\n",
              "        vertical-align: top;\n",
              "    }\n",
              "\n",
              "    .dataframe thead th {\n",
              "        text-align: right;\n",
              "    }\n",
              "</style>\n",
              "<table border=\"1\" class=\"dataframe\">\n",
              "  <thead>\n",
              "    <tr style=\"text-align: right;\">\n",
              "      <th></th>\n",
              "      <th>0</th>\n",
              "    </tr>\n",
              "  </thead>\n",
              "  <tbody>\n",
              "    <tr>\n",
              "      <th>DATE</th>\n",
              "      <td>datetime64[ns]</td>\n",
              "    </tr>\n",
              "    <tr>\n",
              "      <th>ANONYMIZED CATEGORY</th>\n",
              "      <td>object</td>\n",
              "    </tr>\n",
              "    <tr>\n",
              "      <th>ANONYMIZED PRODUCT</th>\n",
              "      <td>object</td>\n",
              "    </tr>\n",
              "    <tr>\n",
              "      <th>ANONYMIZED BUSINESS</th>\n",
              "      <td>object</td>\n",
              "    </tr>\n",
              "    <tr>\n",
              "      <th>ANONYMIZED LOCATION</th>\n",
              "      <td>object</td>\n",
              "    </tr>\n",
              "    <tr>\n",
              "      <th>QUANTITY</th>\n",
              "      <td>int64</td>\n",
              "    </tr>\n",
              "    <tr>\n",
              "      <th>UNIT PRICE</th>\n",
              "      <td>float64</td>\n",
              "    </tr>\n",
              "  </tbody>\n",
              "</table>\n",
              "</div><br><label><b>dtype:</b> object</label>"
            ]
          },
          "metadata": {},
          "execution_count": 40
        }
      ]
    },
    {
      "cell_type": "markdown",
      "source": [
        "We see that the data types have been successfully updated."
      ],
      "metadata": {
        "id": "BX2PuxiKlFg4"
      }
    },
    {
      "cell_type": "markdown",
      "source": [
        "## Handling Missing Values"
      ],
      "metadata": {
        "id": "ZjWGjpSlPS_5"
      }
    },
    {
      "cell_type": "code",
      "source": [
        "#Getting a more comprehensive view of the data\n",
        "data.info()"
      ],
      "metadata": {
        "colab": {
          "base_uri": "https://localhost:8080/"
        },
        "id": "TERxVfrHNfRu",
        "outputId": "99904cb2-c1f6-46cf-d323-6604f1240132"
      },
      "execution_count": null,
      "outputs": [
        {
          "output_type": "stream",
          "name": "stdout",
          "text": [
            "<class 'pandas.core.frame.DataFrame'>\n",
            "RangeIndex: 333405 entries, 0 to 333404\n",
            "Data columns (total 7 columns):\n",
            " #   Column               Non-Null Count   Dtype         \n",
            "---  ------               --------------   -----         \n",
            " 0   DATE                 333405 non-null  datetime64[ns]\n",
            " 1   ANONYMIZED CATEGORY  333405 non-null  object        \n",
            " 2   ANONYMIZED PRODUCT   333405 non-null  object        \n",
            " 3   ANONYMIZED BUSINESS  333405 non-null  object        \n",
            " 4   ANONYMIZED LOCATION  333405 non-null  object        \n",
            " 5   QUANTITY             333405 non-null  int64         \n",
            " 6   UNIT PRICE           333397 non-null  float64       \n",
            "dtypes: datetime64[ns](1), float64(1), int64(1), object(4)\n",
            "memory usage: 17.8+ MB\n"
          ]
        }
      ]
    },
    {
      "cell_type": "markdown",
      "source": [
        "Above, we see:\n",
        "* 8 rows are null, in the UNIT PRICE column\n",
        "* further confirmation of the change in data types for DATE and UNIT PRICE"
      ],
      "metadata": {
        "id": "KIkTNlJkkp_h"
      }
    },
    {
      "cell_type": "code",
      "source": [
        "#Confirming number of missing values\n",
        "data.isnull().sum()"
      ],
      "metadata": {
        "colab": {
          "base_uri": "https://localhost:8080/",
          "height": 304
        },
        "id": "OopDqLrFOgsj",
        "outputId": "dc6628b5-c36b-4926-b758-02125e3d0e3d"
      },
      "execution_count": null,
      "outputs": [
        {
          "output_type": "execute_result",
          "data": {
            "text/plain": [
              "DATE                   0\n",
              "ANONYMIZED CATEGORY    0\n",
              "ANONYMIZED PRODUCT     0\n",
              "ANONYMIZED BUSINESS    0\n",
              "ANONYMIZED LOCATION    0\n",
              "QUANTITY               0\n",
              "UNIT PRICE             8\n",
              "dtype: int64"
            ],
            "text/html": [
              "<div>\n",
              "<style scoped>\n",
              "    .dataframe tbody tr th:only-of-type {\n",
              "        vertical-align: middle;\n",
              "    }\n",
              "\n",
              "    .dataframe tbody tr th {\n",
              "        vertical-align: top;\n",
              "    }\n",
              "\n",
              "    .dataframe thead th {\n",
              "        text-align: right;\n",
              "    }\n",
              "</style>\n",
              "<table border=\"1\" class=\"dataframe\">\n",
              "  <thead>\n",
              "    <tr style=\"text-align: right;\">\n",
              "      <th></th>\n",
              "      <th>0</th>\n",
              "    </tr>\n",
              "  </thead>\n",
              "  <tbody>\n",
              "    <tr>\n",
              "      <th>DATE</th>\n",
              "      <td>0</td>\n",
              "    </tr>\n",
              "    <tr>\n",
              "      <th>ANONYMIZED CATEGORY</th>\n",
              "      <td>0</td>\n",
              "    </tr>\n",
              "    <tr>\n",
              "      <th>ANONYMIZED PRODUCT</th>\n",
              "      <td>0</td>\n",
              "    </tr>\n",
              "    <tr>\n",
              "      <th>ANONYMIZED BUSINESS</th>\n",
              "      <td>0</td>\n",
              "    </tr>\n",
              "    <tr>\n",
              "      <th>ANONYMIZED LOCATION</th>\n",
              "      <td>0</td>\n",
              "    </tr>\n",
              "    <tr>\n",
              "      <th>QUANTITY</th>\n",
              "      <td>0</td>\n",
              "    </tr>\n",
              "    <tr>\n",
              "      <th>UNIT PRICE</th>\n",
              "      <td>8</td>\n",
              "    </tr>\n",
              "  </tbody>\n",
              "</table>\n",
              "</div><br><label><b>dtype:</b> int64</label>"
            ]
          },
          "metadata": {},
          "execution_count": 42
        }
      ]
    },
    {
      "cell_type": "markdown",
      "source": [
        "Above, we confirm that the last row named UNIT PRICE, there are 8 rows with missing values.\n",
        "\n",
        "As the data also contains the ANONYMIZED PRODUCT COLUMN, it is possible to impute the unit price for these 8 products by using the mean value of other similar products for each product with a missing unit price."
      ],
      "metadata": {
        "id": "OgVWiOWMOT6Z"
      }
    },
    {
      "cell_type": "code",
      "source": [
        "#Imputing the missing Unit Price values given in other rows with the same Product code\n",
        "if data['UNIT PRICE'].isnull().any():\n",
        "    data['UNIT PRICE'].fillna(data.groupby('ANONYMIZED PRODUCT')['UNIT PRICE'].transform('mean'), inplace=True)"
      ],
      "metadata": {
        "colab": {
          "base_uri": "https://localhost:8080/"
        },
        "id": "iVkuKwxYtF5U",
        "outputId": "45a5e15d-9f33-4452-afd1-196866a4795a"
      },
      "execution_count": null,
      "outputs": [
        {
          "output_type": "stream",
          "name": "stderr",
          "text": [
            "<ipython-input-43-eb852d60d170>:3: FutureWarning: A value is trying to be set on a copy of a DataFrame or Series through chained assignment using an inplace method.\n",
            "The behavior will change in pandas 3.0. This inplace method will never work because the intermediate object on which we are setting values always behaves as a copy.\n",
            "\n",
            "For example, when doing 'df[col].method(value, inplace=True)', try using 'df.method({col: value}, inplace=True)' or df[col] = df[col].method(value) instead, to perform the operation inplace on the original object.\n",
            "\n",
            "\n",
            "  data['UNIT PRICE'].fillna(data.groupby('ANONYMIZED PRODUCT')['UNIT PRICE'].transform('mean'), inplace=True)\n"
          ]
        }
      ]
    },
    {
      "cell_type": "code",
      "source": [
        "#Reviewing the data again to confirm that null values have been filled\n",
        "data.isnull().sum()"
      ],
      "metadata": {
        "colab": {
          "base_uri": "https://localhost:8080/",
          "height": 304
        },
        "id": "wzm2dW43PFxD",
        "outputId": "abeafac8-d4c6-4354-dc53-fe76e692ab9c"
      },
      "execution_count": null,
      "outputs": [
        {
          "output_type": "execute_result",
          "data": {
            "text/plain": [
              "DATE                   0\n",
              "ANONYMIZED CATEGORY    0\n",
              "ANONYMIZED PRODUCT     0\n",
              "ANONYMIZED BUSINESS    0\n",
              "ANONYMIZED LOCATION    0\n",
              "QUANTITY               0\n",
              "UNIT PRICE             3\n",
              "dtype: int64"
            ],
            "text/html": [
              "<div>\n",
              "<style scoped>\n",
              "    .dataframe tbody tr th:only-of-type {\n",
              "        vertical-align: middle;\n",
              "    }\n",
              "\n",
              "    .dataframe tbody tr th {\n",
              "        vertical-align: top;\n",
              "    }\n",
              "\n",
              "    .dataframe thead th {\n",
              "        text-align: right;\n",
              "    }\n",
              "</style>\n",
              "<table border=\"1\" class=\"dataframe\">\n",
              "  <thead>\n",
              "    <tr style=\"text-align: right;\">\n",
              "      <th></th>\n",
              "      <th>0</th>\n",
              "    </tr>\n",
              "  </thead>\n",
              "  <tbody>\n",
              "    <tr>\n",
              "      <th>DATE</th>\n",
              "      <td>0</td>\n",
              "    </tr>\n",
              "    <tr>\n",
              "      <th>ANONYMIZED CATEGORY</th>\n",
              "      <td>0</td>\n",
              "    </tr>\n",
              "    <tr>\n",
              "      <th>ANONYMIZED PRODUCT</th>\n",
              "      <td>0</td>\n",
              "    </tr>\n",
              "    <tr>\n",
              "      <th>ANONYMIZED BUSINESS</th>\n",
              "      <td>0</td>\n",
              "    </tr>\n",
              "    <tr>\n",
              "      <th>ANONYMIZED LOCATION</th>\n",
              "      <td>0</td>\n",
              "    </tr>\n",
              "    <tr>\n",
              "      <th>QUANTITY</th>\n",
              "      <td>0</td>\n",
              "    </tr>\n",
              "    <tr>\n",
              "      <th>UNIT PRICE</th>\n",
              "      <td>3</td>\n",
              "    </tr>\n",
              "  </tbody>\n",
              "</table>\n",
              "</div><br><label><b>dtype:</b> int64</label>"
            ]
          },
          "metadata": {},
          "execution_count": 44
        }
      ]
    },
    {
      "cell_type": "markdown",
      "source": [
        "We can see that we still have 3 rows that still have a null unit price"
      ],
      "metadata": {
        "id": "kXoj1ICkw1Ji"
      }
    },
    {
      "cell_type": "code",
      "source": [
        "#View the 3 rows with null values\n",
        "data[data['UNIT PRICE'].isnull()]"
      ],
      "metadata": {
        "colab": {
          "base_uri": "https://localhost:8080/",
          "height": 144
        },
        "id": "edJG4Clhwe7f",
        "outputId": "aae40fc8-837c-4505-98a2-cdb36a281897"
      },
      "execution_count": null,
      "outputs": [
        {
          "output_type": "execute_result",
          "data": {
            "text/plain": [
              "                      DATE ANONYMIZED CATEGORY ANONYMIZED PRODUCT  \\\n",
              "150961 2024-12-16 18:33:00         Category-79       Product-dfc8   \n",
              "278384 2024-12-30 14:17:00         Category-95       Product-15f3   \n",
              "310385 2024-03-31 14:03:00        Category-114       Product-9204   \n",
              "\n",
              "       ANONYMIZED BUSINESS ANONYMIZED LOCATION  QUANTITY  UNIT PRICE  \n",
              "150961       Business-8bbf       Location-3fc0         1         NaN  \n",
              "278384       Business-1a74       Location-f37d         1         NaN  \n",
              "310385       Business-c9dc       Location-689f         1         NaN  "
            ],
            "text/html": [
              "\n",
              "  <div id=\"df-0bf23d89-aa13-4e7f-bc40-7d7f07ce1dd8\" class=\"colab-df-container\">\n",
              "    <div>\n",
              "<style scoped>\n",
              "    .dataframe tbody tr th:only-of-type {\n",
              "        vertical-align: middle;\n",
              "    }\n",
              "\n",
              "    .dataframe tbody tr th {\n",
              "        vertical-align: top;\n",
              "    }\n",
              "\n",
              "    .dataframe thead th {\n",
              "        text-align: right;\n",
              "    }\n",
              "</style>\n",
              "<table border=\"1\" class=\"dataframe\">\n",
              "  <thead>\n",
              "    <tr style=\"text-align: right;\">\n",
              "      <th></th>\n",
              "      <th>DATE</th>\n",
              "      <th>ANONYMIZED CATEGORY</th>\n",
              "      <th>ANONYMIZED PRODUCT</th>\n",
              "      <th>ANONYMIZED BUSINESS</th>\n",
              "      <th>ANONYMIZED LOCATION</th>\n",
              "      <th>QUANTITY</th>\n",
              "      <th>UNIT PRICE</th>\n",
              "    </tr>\n",
              "  </thead>\n",
              "  <tbody>\n",
              "    <tr>\n",
              "      <th>150961</th>\n",
              "      <td>2024-12-16 18:33:00</td>\n",
              "      <td>Category-79</td>\n",
              "      <td>Product-dfc8</td>\n",
              "      <td>Business-8bbf</td>\n",
              "      <td>Location-3fc0</td>\n",
              "      <td>1</td>\n",
              "      <td>NaN</td>\n",
              "    </tr>\n",
              "    <tr>\n",
              "      <th>278384</th>\n",
              "      <td>2024-12-30 14:17:00</td>\n",
              "      <td>Category-95</td>\n",
              "      <td>Product-15f3</td>\n",
              "      <td>Business-1a74</td>\n",
              "      <td>Location-f37d</td>\n",
              "      <td>1</td>\n",
              "      <td>NaN</td>\n",
              "    </tr>\n",
              "    <tr>\n",
              "      <th>310385</th>\n",
              "      <td>2024-03-31 14:03:00</td>\n",
              "      <td>Category-114</td>\n",
              "      <td>Product-9204</td>\n",
              "      <td>Business-c9dc</td>\n",
              "      <td>Location-689f</td>\n",
              "      <td>1</td>\n",
              "      <td>NaN</td>\n",
              "    </tr>\n",
              "  </tbody>\n",
              "</table>\n",
              "</div>\n",
              "    <div class=\"colab-df-buttons\">\n",
              "\n",
              "  <div class=\"colab-df-container\">\n",
              "    <button class=\"colab-df-convert\" onclick=\"convertToInteractive('df-0bf23d89-aa13-4e7f-bc40-7d7f07ce1dd8')\"\n",
              "            title=\"Convert this dataframe to an interactive table.\"\n",
              "            style=\"display:none;\">\n",
              "\n",
              "  <svg xmlns=\"http://www.w3.org/2000/svg\" height=\"24px\" viewBox=\"0 -960 960 960\">\n",
              "    <path d=\"M120-120v-720h720v720H120Zm60-500h600v-160H180v160Zm220 220h160v-160H400v160Zm0 220h160v-160H400v160ZM180-400h160v-160H180v160Zm440 0h160v-160H620v160ZM180-180h160v-160H180v160Zm440 0h160v-160H620v160Z\"/>\n",
              "  </svg>\n",
              "    </button>\n",
              "\n",
              "  <style>\n",
              "    .colab-df-container {\n",
              "      display:flex;\n",
              "      gap: 12px;\n",
              "    }\n",
              "\n",
              "    .colab-df-convert {\n",
              "      background-color: #E8F0FE;\n",
              "      border: none;\n",
              "      border-radius: 50%;\n",
              "      cursor: pointer;\n",
              "      display: none;\n",
              "      fill: #1967D2;\n",
              "      height: 32px;\n",
              "      padding: 0 0 0 0;\n",
              "      width: 32px;\n",
              "    }\n",
              "\n",
              "    .colab-df-convert:hover {\n",
              "      background-color: #E2EBFA;\n",
              "      box-shadow: 0px 1px 2px rgba(60, 64, 67, 0.3), 0px 1px 3px 1px rgba(60, 64, 67, 0.15);\n",
              "      fill: #174EA6;\n",
              "    }\n",
              "\n",
              "    .colab-df-buttons div {\n",
              "      margin-bottom: 4px;\n",
              "    }\n",
              "\n",
              "    [theme=dark] .colab-df-convert {\n",
              "      background-color: #3B4455;\n",
              "      fill: #D2E3FC;\n",
              "    }\n",
              "\n",
              "    [theme=dark] .colab-df-convert:hover {\n",
              "      background-color: #434B5C;\n",
              "      box-shadow: 0px 1px 3px 1px rgba(0, 0, 0, 0.15);\n",
              "      filter: drop-shadow(0px 1px 2px rgba(0, 0, 0, 0.3));\n",
              "      fill: #FFFFFF;\n",
              "    }\n",
              "  </style>\n",
              "\n",
              "    <script>\n",
              "      const buttonEl =\n",
              "        document.querySelector('#df-0bf23d89-aa13-4e7f-bc40-7d7f07ce1dd8 button.colab-df-convert');\n",
              "      buttonEl.style.display =\n",
              "        google.colab.kernel.accessAllowed ? 'block' : 'none';\n",
              "\n",
              "      async function convertToInteractive(key) {\n",
              "        const element = document.querySelector('#df-0bf23d89-aa13-4e7f-bc40-7d7f07ce1dd8');\n",
              "        const dataTable =\n",
              "          await google.colab.kernel.invokeFunction('convertToInteractive',\n",
              "                                                    [key], {});\n",
              "        if (!dataTable) return;\n",
              "\n",
              "        const docLinkHtml = 'Like what you see? Visit the ' +\n",
              "          '<a target=\"_blank\" href=https://colab.research.google.com/notebooks/data_table.ipynb>data table notebook</a>'\n",
              "          + ' to learn more about interactive tables.';\n",
              "        element.innerHTML = '';\n",
              "        dataTable['output_type'] = 'display_data';\n",
              "        await google.colab.output.renderOutput(dataTable, element);\n",
              "        const docLink = document.createElement('div');\n",
              "        docLink.innerHTML = docLinkHtml;\n",
              "        element.appendChild(docLink);\n",
              "      }\n",
              "    </script>\n",
              "  </div>\n",
              "\n",
              "\n",
              "<div id=\"df-1465abbb-6795-4376-a770-fc87bc633fc1\">\n",
              "  <button class=\"colab-df-quickchart\" onclick=\"quickchart('df-1465abbb-6795-4376-a770-fc87bc633fc1')\"\n",
              "            title=\"Suggest charts\"\n",
              "            style=\"display:none;\">\n",
              "\n",
              "<svg xmlns=\"http://www.w3.org/2000/svg\" height=\"24px\"viewBox=\"0 0 24 24\"\n",
              "     width=\"24px\">\n",
              "    <g>\n",
              "        <path d=\"M19 3H5c-1.1 0-2 .9-2 2v14c0 1.1.9 2 2 2h14c1.1 0 2-.9 2-2V5c0-1.1-.9-2-2-2zM9 17H7v-7h2v7zm4 0h-2V7h2v10zm4 0h-2v-4h2v4z\"/>\n",
              "    </g>\n",
              "</svg>\n",
              "  </button>\n",
              "\n",
              "<style>\n",
              "  .colab-df-quickchart {\n",
              "      --bg-color: #E8F0FE;\n",
              "      --fill-color: #1967D2;\n",
              "      --hover-bg-color: #E2EBFA;\n",
              "      --hover-fill-color: #174EA6;\n",
              "      --disabled-fill-color: #AAA;\n",
              "      --disabled-bg-color: #DDD;\n",
              "  }\n",
              "\n",
              "  [theme=dark] .colab-df-quickchart {\n",
              "      --bg-color: #3B4455;\n",
              "      --fill-color: #D2E3FC;\n",
              "      --hover-bg-color: #434B5C;\n",
              "      --hover-fill-color: #FFFFFF;\n",
              "      --disabled-bg-color: #3B4455;\n",
              "      --disabled-fill-color: #666;\n",
              "  }\n",
              "\n",
              "  .colab-df-quickchart {\n",
              "    background-color: var(--bg-color);\n",
              "    border: none;\n",
              "    border-radius: 50%;\n",
              "    cursor: pointer;\n",
              "    display: none;\n",
              "    fill: var(--fill-color);\n",
              "    height: 32px;\n",
              "    padding: 0;\n",
              "    width: 32px;\n",
              "  }\n",
              "\n",
              "  .colab-df-quickchart:hover {\n",
              "    background-color: var(--hover-bg-color);\n",
              "    box-shadow: 0 1px 2px rgba(60, 64, 67, 0.3), 0 1px 3px 1px rgba(60, 64, 67, 0.15);\n",
              "    fill: var(--button-hover-fill-color);\n",
              "  }\n",
              "\n",
              "  .colab-df-quickchart-complete:disabled,\n",
              "  .colab-df-quickchart-complete:disabled:hover {\n",
              "    background-color: var(--disabled-bg-color);\n",
              "    fill: var(--disabled-fill-color);\n",
              "    box-shadow: none;\n",
              "  }\n",
              "\n",
              "  .colab-df-spinner {\n",
              "    border: 2px solid var(--fill-color);\n",
              "    border-color: transparent;\n",
              "    border-bottom-color: var(--fill-color);\n",
              "    animation:\n",
              "      spin 1s steps(1) infinite;\n",
              "  }\n",
              "\n",
              "  @keyframes spin {\n",
              "    0% {\n",
              "      border-color: transparent;\n",
              "      border-bottom-color: var(--fill-color);\n",
              "      border-left-color: var(--fill-color);\n",
              "    }\n",
              "    20% {\n",
              "      border-color: transparent;\n",
              "      border-left-color: var(--fill-color);\n",
              "      border-top-color: var(--fill-color);\n",
              "    }\n",
              "    30% {\n",
              "      border-color: transparent;\n",
              "      border-left-color: var(--fill-color);\n",
              "      border-top-color: var(--fill-color);\n",
              "      border-right-color: var(--fill-color);\n",
              "    }\n",
              "    40% {\n",
              "      border-color: transparent;\n",
              "      border-right-color: var(--fill-color);\n",
              "      border-top-color: var(--fill-color);\n",
              "    }\n",
              "    60% {\n",
              "      border-color: transparent;\n",
              "      border-right-color: var(--fill-color);\n",
              "    }\n",
              "    80% {\n",
              "      border-color: transparent;\n",
              "      border-right-color: var(--fill-color);\n",
              "      border-bottom-color: var(--fill-color);\n",
              "    }\n",
              "    90% {\n",
              "      border-color: transparent;\n",
              "      border-bottom-color: var(--fill-color);\n",
              "    }\n",
              "  }\n",
              "</style>\n",
              "\n",
              "  <script>\n",
              "    async function quickchart(key) {\n",
              "      const quickchartButtonEl =\n",
              "        document.querySelector('#' + key + ' button');\n",
              "      quickchartButtonEl.disabled = true;  // To prevent multiple clicks.\n",
              "      quickchartButtonEl.classList.add('colab-df-spinner');\n",
              "      try {\n",
              "        const charts = await google.colab.kernel.invokeFunction(\n",
              "            'suggestCharts', [key], {});\n",
              "      } catch (error) {\n",
              "        console.error('Error during call to suggestCharts:', error);\n",
              "      }\n",
              "      quickchartButtonEl.classList.remove('colab-df-spinner');\n",
              "      quickchartButtonEl.classList.add('colab-df-quickchart-complete');\n",
              "    }\n",
              "    (() => {\n",
              "      let quickchartButtonEl =\n",
              "        document.querySelector('#df-1465abbb-6795-4376-a770-fc87bc633fc1 button');\n",
              "      quickchartButtonEl.style.display =\n",
              "        google.colab.kernel.accessAllowed ? 'block' : 'none';\n",
              "    })();\n",
              "  </script>\n",
              "</div>\n",
              "\n",
              "    </div>\n",
              "  </div>\n"
            ],
            "application/vnd.google.colaboratory.intrinsic+json": {
              "type": "dataframe",
              "summary": "{\n  \"name\": \"data[data['UNIT PRICE']\",\n  \"rows\": 3,\n  \"fields\": [\n    {\n      \"column\": \"DATE\",\n      \"properties\": {\n        \"dtype\": \"date\",\n        \"min\": \"2024-03-31 14:03:00\",\n        \"max\": \"2024-12-30 14:17:00\",\n        \"num_unique_values\": 3,\n        \"samples\": [\n          \"2024-12-16 18:33:00\",\n          \"2024-12-30 14:17:00\",\n          \"2024-03-31 14:03:00\"\n        ],\n        \"semantic_type\": \"\",\n        \"description\": \"\"\n      }\n    },\n    {\n      \"column\": \"ANONYMIZED CATEGORY\",\n      \"properties\": {\n        \"dtype\": \"string\",\n        \"num_unique_values\": 3,\n        \"samples\": [\n          \"Category-79\",\n          \"Category-95\",\n          \"Category-114\"\n        ],\n        \"semantic_type\": \"\",\n        \"description\": \"\"\n      }\n    },\n    {\n      \"column\": \"ANONYMIZED PRODUCT\",\n      \"properties\": {\n        \"dtype\": \"string\",\n        \"num_unique_values\": 3,\n        \"samples\": [\n          \"Product-dfc8\",\n          \"Product-15f3\",\n          \"Product-9204\"\n        ],\n        \"semantic_type\": \"\",\n        \"description\": \"\"\n      }\n    },\n    {\n      \"column\": \"ANONYMIZED BUSINESS\",\n      \"properties\": {\n        \"dtype\": \"string\",\n        \"num_unique_values\": 3,\n        \"samples\": [\n          \"Business-8bbf\",\n          \"Business-1a74\",\n          \"Business-c9dc\"\n        ],\n        \"semantic_type\": \"\",\n        \"description\": \"\"\n      }\n    },\n    {\n      \"column\": \"ANONYMIZED LOCATION\",\n      \"properties\": {\n        \"dtype\": \"string\",\n        \"num_unique_values\": 3,\n        \"samples\": [\n          \"Location-3fc0\",\n          \"Location-f37d\",\n          \"Location-689f\"\n        ],\n        \"semantic_type\": \"\",\n        \"description\": \"\"\n      }\n    },\n    {\n      \"column\": \"QUANTITY\",\n      \"properties\": {\n        \"dtype\": \"number\",\n        \"std\": 0,\n        \"min\": 1,\n        \"max\": 1,\n        \"num_unique_values\": 1,\n        \"samples\": [\n          1\n        ],\n        \"semantic_type\": \"\",\n        \"description\": \"\"\n      }\n    },\n    {\n      \"column\": \"UNIT PRICE\",\n      \"properties\": {\n        \"dtype\": \"number\",\n        \"std\": null,\n        \"min\": null,\n        \"max\": null,\n        \"num_unique_values\": 0,\n        \"samples\": [],\n        \"semantic_type\": \"\",\n        \"description\": \"\"\n      }\n    }\n  ]\n}"
            }
          },
          "metadata": {},
          "execution_count": 45
        }
      ]
    },
    {
      "cell_type": "markdown",
      "source": [
        "We can confirm if there really are no other similar products for each of the 3 products above"
      ],
      "metadata": {
        "id": "S0KQPHOOxSYN"
      }
    },
    {
      "cell_type": "code",
      "source": [
        "#Count the number of rows with Anonymized Product: Product-dfc8\n",
        "data[data['ANONYMIZED PRODUCT'] == 'Product-dfc8'].shape"
      ],
      "metadata": {
        "colab": {
          "base_uri": "https://localhost:8080/"
        },
        "id": "5GzrcJ2FxFJY",
        "outputId": "796e96b8-32b8-470e-f39b-57736f2b5a3f"
      },
      "execution_count": null,
      "outputs": [
        {
          "output_type": "execute_result",
          "data": {
            "text/plain": [
              "(1, 7)"
            ]
          },
          "metadata": {},
          "execution_count": 46
        }
      ]
    },
    {
      "cell_type": "code",
      "source": [
        "#Count the number of rows with Anonymized Product: Product-15f3\n",
        "data[data['ANONYMIZED PRODUCT'] == 'Product-15f3'].shape"
      ],
      "metadata": {
        "colab": {
          "base_uri": "https://localhost:8080/"
        },
        "id": "rOaxGAYrxfzz",
        "outputId": "a1d1afeb-8876-4905-9712-56b3665803c3"
      },
      "execution_count": null,
      "outputs": [
        {
          "output_type": "execute_result",
          "data": {
            "text/plain": [
              "(1, 7)"
            ]
          },
          "metadata": {},
          "execution_count": 47
        }
      ]
    },
    {
      "cell_type": "code",
      "source": [
        "#Count the number of rows with Anonymized Product: Product-9204\n",
        "data[data['ANONYMIZED PRODUCT'] == 'Product-9204'].shape"
      ],
      "metadata": {
        "colab": {
          "base_uri": "https://localhost:8080/"
        },
        "id": "iD1z4yARxmK9",
        "outputId": "1b0ea74f-044f-4c12-9dba-1e3b7efd3dad"
      },
      "execution_count": null,
      "outputs": [
        {
          "output_type": "execute_result",
          "data": {
            "text/plain": [
              "(1, 7)"
            ]
          },
          "metadata": {},
          "execution_count": 48
        }
      ]
    },
    {
      "cell_type": "markdown",
      "source": [
        "We see that we only have one instance for each of the 3 products with a missing unit price.\n",
        "\n",
        "The only viable option is to drop these rows."
      ],
      "metadata": {
        "id": "HYwp4QrixC4Z"
      }
    },
    {
      "cell_type": "code",
      "source": [
        "#drop null values\n",
        "data.dropna(inplace=True)"
      ],
      "metadata": {
        "id": "iWVnkAOYO9kE"
      },
      "execution_count": null,
      "outputs": []
    },
    {
      "cell_type": "code",
      "source": [
        "#Confirming that the 3 rows have been dropped\n",
        "data.shape"
      ],
      "metadata": {
        "colab": {
          "base_uri": "https://localhost:8080/"
        },
        "id": "LsWBgKKTPMZN",
        "outputId": "1cd4d540-91c4-4f32-d129-e73853393671"
      },
      "execution_count": null,
      "outputs": [
        {
          "output_type": "execute_result",
          "data": {
            "text/plain": [
              "(333402, 7)"
            ]
          },
          "metadata": {},
          "execution_count": 50
        }
      ]
    },
    {
      "cell_type": "markdown",
      "source": [
        "The shape of the data shows that the 3 rows with a missing unit price have been dropped."
      ],
      "metadata": {
        "id": "uCiRuDoTx9Sp"
      }
    },
    {
      "cell_type": "markdown",
      "source": [
        "## Handling Rows where Unit Price = 0 and Quantity = 0"
      ],
      "metadata": {
        "id": "EfS5eCxQDssM"
      }
    },
    {
      "cell_type": "code",
      "source": [
        "#Viewing the Descriptive Statistics of the data\n",
        "data.describe()"
      ],
      "metadata": {
        "colab": {
          "base_uri": "https://localhost:8080/",
          "height": 301
        },
        "id": "tAgTB8ObDpqS",
        "outputId": "20dbca9d-f968-485a-e803-d1a63ef61a78"
      },
      "execution_count": null,
      "outputs": [
        {
          "output_type": "execute_result",
          "data": {
            "text/plain": [
              "                                DATE       QUANTITY     UNIT PRICE\n",
              "count                         333402  333402.000000  333402.000000\n",
              "mean   2024-07-17 10:20:55.072075264       2.321198    2322.029742\n",
              "min              2024-01-01 05:54:00       0.000000       0.000000\n",
              "25%              2024-04-28 20:59:00       1.000000    1420.000000\n",
              "50%              2024-07-28 17:18:00       1.000000    1840.000000\n",
              "75%              2024-10-14 14:50:00       2.000000    2755.000000\n",
              "max              2024-12-31 18:24:00     359.000000   16136.000000\n",
              "std                              NaN       3.790629    1585.248051"
            ],
            "text/html": [
              "\n",
              "  <div id=\"df-763e302f-0767-43fc-a0e0-444f13e04461\" class=\"colab-df-container\">\n",
              "    <div>\n",
              "<style scoped>\n",
              "    .dataframe tbody tr th:only-of-type {\n",
              "        vertical-align: middle;\n",
              "    }\n",
              "\n",
              "    .dataframe tbody tr th {\n",
              "        vertical-align: top;\n",
              "    }\n",
              "\n",
              "    .dataframe thead th {\n",
              "        text-align: right;\n",
              "    }\n",
              "</style>\n",
              "<table border=\"1\" class=\"dataframe\">\n",
              "  <thead>\n",
              "    <tr style=\"text-align: right;\">\n",
              "      <th></th>\n",
              "      <th>DATE</th>\n",
              "      <th>QUANTITY</th>\n",
              "      <th>UNIT PRICE</th>\n",
              "    </tr>\n",
              "  </thead>\n",
              "  <tbody>\n",
              "    <tr>\n",
              "      <th>count</th>\n",
              "      <td>333402</td>\n",
              "      <td>333402.000000</td>\n",
              "      <td>333402.000000</td>\n",
              "    </tr>\n",
              "    <tr>\n",
              "      <th>mean</th>\n",
              "      <td>2024-07-17 10:20:55.072075264</td>\n",
              "      <td>2.321198</td>\n",
              "      <td>2322.029742</td>\n",
              "    </tr>\n",
              "    <tr>\n",
              "      <th>min</th>\n",
              "      <td>2024-01-01 05:54:00</td>\n",
              "      <td>0.000000</td>\n",
              "      <td>0.000000</td>\n",
              "    </tr>\n",
              "    <tr>\n",
              "      <th>25%</th>\n",
              "      <td>2024-04-28 20:59:00</td>\n",
              "      <td>1.000000</td>\n",
              "      <td>1420.000000</td>\n",
              "    </tr>\n",
              "    <tr>\n",
              "      <th>50%</th>\n",
              "      <td>2024-07-28 17:18:00</td>\n",
              "      <td>1.000000</td>\n",
              "      <td>1840.000000</td>\n",
              "    </tr>\n",
              "    <tr>\n",
              "      <th>75%</th>\n",
              "      <td>2024-10-14 14:50:00</td>\n",
              "      <td>2.000000</td>\n",
              "      <td>2755.000000</td>\n",
              "    </tr>\n",
              "    <tr>\n",
              "      <th>max</th>\n",
              "      <td>2024-12-31 18:24:00</td>\n",
              "      <td>359.000000</td>\n",
              "      <td>16136.000000</td>\n",
              "    </tr>\n",
              "    <tr>\n",
              "      <th>std</th>\n",
              "      <td>NaN</td>\n",
              "      <td>3.790629</td>\n",
              "      <td>1585.248051</td>\n",
              "    </tr>\n",
              "  </tbody>\n",
              "</table>\n",
              "</div>\n",
              "    <div class=\"colab-df-buttons\">\n",
              "\n",
              "  <div class=\"colab-df-container\">\n",
              "    <button class=\"colab-df-convert\" onclick=\"convertToInteractive('df-763e302f-0767-43fc-a0e0-444f13e04461')\"\n",
              "            title=\"Convert this dataframe to an interactive table.\"\n",
              "            style=\"display:none;\">\n",
              "\n",
              "  <svg xmlns=\"http://www.w3.org/2000/svg\" height=\"24px\" viewBox=\"0 -960 960 960\">\n",
              "    <path d=\"M120-120v-720h720v720H120Zm60-500h600v-160H180v160Zm220 220h160v-160H400v160Zm0 220h160v-160H400v160ZM180-400h160v-160H180v160Zm440 0h160v-160H620v160ZM180-180h160v-160H180v160Zm440 0h160v-160H620v160Z\"/>\n",
              "  </svg>\n",
              "    </button>\n",
              "\n",
              "  <style>\n",
              "    .colab-df-container {\n",
              "      display:flex;\n",
              "      gap: 12px;\n",
              "    }\n",
              "\n",
              "    .colab-df-convert {\n",
              "      background-color: #E8F0FE;\n",
              "      border: none;\n",
              "      border-radius: 50%;\n",
              "      cursor: pointer;\n",
              "      display: none;\n",
              "      fill: #1967D2;\n",
              "      height: 32px;\n",
              "      padding: 0 0 0 0;\n",
              "      width: 32px;\n",
              "    }\n",
              "\n",
              "    .colab-df-convert:hover {\n",
              "      background-color: #E2EBFA;\n",
              "      box-shadow: 0px 1px 2px rgba(60, 64, 67, 0.3), 0px 1px 3px 1px rgba(60, 64, 67, 0.15);\n",
              "      fill: #174EA6;\n",
              "    }\n",
              "\n",
              "    .colab-df-buttons div {\n",
              "      margin-bottom: 4px;\n",
              "    }\n",
              "\n",
              "    [theme=dark] .colab-df-convert {\n",
              "      background-color: #3B4455;\n",
              "      fill: #D2E3FC;\n",
              "    }\n",
              "\n",
              "    [theme=dark] .colab-df-convert:hover {\n",
              "      background-color: #434B5C;\n",
              "      box-shadow: 0px 1px 3px 1px rgba(0, 0, 0, 0.15);\n",
              "      filter: drop-shadow(0px 1px 2px rgba(0, 0, 0, 0.3));\n",
              "      fill: #FFFFFF;\n",
              "    }\n",
              "  </style>\n",
              "\n",
              "    <script>\n",
              "      const buttonEl =\n",
              "        document.querySelector('#df-763e302f-0767-43fc-a0e0-444f13e04461 button.colab-df-convert');\n",
              "      buttonEl.style.display =\n",
              "        google.colab.kernel.accessAllowed ? 'block' : 'none';\n",
              "\n",
              "      async function convertToInteractive(key) {\n",
              "        const element = document.querySelector('#df-763e302f-0767-43fc-a0e0-444f13e04461');\n",
              "        const dataTable =\n",
              "          await google.colab.kernel.invokeFunction('convertToInteractive',\n",
              "                                                    [key], {});\n",
              "        if (!dataTable) return;\n",
              "\n",
              "        const docLinkHtml = 'Like what you see? Visit the ' +\n",
              "          '<a target=\"_blank\" href=https://colab.research.google.com/notebooks/data_table.ipynb>data table notebook</a>'\n",
              "          + ' to learn more about interactive tables.';\n",
              "        element.innerHTML = '';\n",
              "        dataTable['output_type'] = 'display_data';\n",
              "        await google.colab.output.renderOutput(dataTable, element);\n",
              "        const docLink = document.createElement('div');\n",
              "        docLink.innerHTML = docLinkHtml;\n",
              "        element.appendChild(docLink);\n",
              "      }\n",
              "    </script>\n",
              "  </div>\n",
              "\n",
              "\n",
              "<div id=\"df-ef75a848-b604-4737-85ac-27f210340bd0\">\n",
              "  <button class=\"colab-df-quickchart\" onclick=\"quickchart('df-ef75a848-b604-4737-85ac-27f210340bd0')\"\n",
              "            title=\"Suggest charts\"\n",
              "            style=\"display:none;\">\n",
              "\n",
              "<svg xmlns=\"http://www.w3.org/2000/svg\" height=\"24px\"viewBox=\"0 0 24 24\"\n",
              "     width=\"24px\">\n",
              "    <g>\n",
              "        <path d=\"M19 3H5c-1.1 0-2 .9-2 2v14c0 1.1.9 2 2 2h14c1.1 0 2-.9 2-2V5c0-1.1-.9-2-2-2zM9 17H7v-7h2v7zm4 0h-2V7h2v10zm4 0h-2v-4h2v4z\"/>\n",
              "    </g>\n",
              "</svg>\n",
              "  </button>\n",
              "\n",
              "<style>\n",
              "  .colab-df-quickchart {\n",
              "      --bg-color: #E8F0FE;\n",
              "      --fill-color: #1967D2;\n",
              "      --hover-bg-color: #E2EBFA;\n",
              "      --hover-fill-color: #174EA6;\n",
              "      --disabled-fill-color: #AAA;\n",
              "      --disabled-bg-color: #DDD;\n",
              "  }\n",
              "\n",
              "  [theme=dark] .colab-df-quickchart {\n",
              "      --bg-color: #3B4455;\n",
              "      --fill-color: #D2E3FC;\n",
              "      --hover-bg-color: #434B5C;\n",
              "      --hover-fill-color: #FFFFFF;\n",
              "      --disabled-bg-color: #3B4455;\n",
              "      --disabled-fill-color: #666;\n",
              "  }\n",
              "\n",
              "  .colab-df-quickchart {\n",
              "    background-color: var(--bg-color);\n",
              "    border: none;\n",
              "    border-radius: 50%;\n",
              "    cursor: pointer;\n",
              "    display: none;\n",
              "    fill: var(--fill-color);\n",
              "    height: 32px;\n",
              "    padding: 0;\n",
              "    width: 32px;\n",
              "  }\n",
              "\n",
              "  .colab-df-quickchart:hover {\n",
              "    background-color: var(--hover-bg-color);\n",
              "    box-shadow: 0 1px 2px rgba(60, 64, 67, 0.3), 0 1px 3px 1px rgba(60, 64, 67, 0.15);\n",
              "    fill: var(--button-hover-fill-color);\n",
              "  }\n",
              "\n",
              "  .colab-df-quickchart-complete:disabled,\n",
              "  .colab-df-quickchart-complete:disabled:hover {\n",
              "    background-color: var(--disabled-bg-color);\n",
              "    fill: var(--disabled-fill-color);\n",
              "    box-shadow: none;\n",
              "  }\n",
              "\n",
              "  .colab-df-spinner {\n",
              "    border: 2px solid var(--fill-color);\n",
              "    border-color: transparent;\n",
              "    border-bottom-color: var(--fill-color);\n",
              "    animation:\n",
              "      spin 1s steps(1) infinite;\n",
              "  }\n",
              "\n",
              "  @keyframes spin {\n",
              "    0% {\n",
              "      border-color: transparent;\n",
              "      border-bottom-color: var(--fill-color);\n",
              "      border-left-color: var(--fill-color);\n",
              "    }\n",
              "    20% {\n",
              "      border-color: transparent;\n",
              "      border-left-color: var(--fill-color);\n",
              "      border-top-color: var(--fill-color);\n",
              "    }\n",
              "    30% {\n",
              "      border-color: transparent;\n",
              "      border-left-color: var(--fill-color);\n",
              "      border-top-color: var(--fill-color);\n",
              "      border-right-color: var(--fill-color);\n",
              "    }\n",
              "    40% {\n",
              "      border-color: transparent;\n",
              "      border-right-color: var(--fill-color);\n",
              "      border-top-color: var(--fill-color);\n",
              "    }\n",
              "    60% {\n",
              "      border-color: transparent;\n",
              "      border-right-color: var(--fill-color);\n",
              "    }\n",
              "    80% {\n",
              "      border-color: transparent;\n",
              "      border-right-color: var(--fill-color);\n",
              "      border-bottom-color: var(--fill-color);\n",
              "    }\n",
              "    90% {\n",
              "      border-color: transparent;\n",
              "      border-bottom-color: var(--fill-color);\n",
              "    }\n",
              "  }\n",
              "</style>\n",
              "\n",
              "  <script>\n",
              "    async function quickchart(key) {\n",
              "      const quickchartButtonEl =\n",
              "        document.querySelector('#' + key + ' button');\n",
              "      quickchartButtonEl.disabled = true;  // To prevent multiple clicks.\n",
              "      quickchartButtonEl.classList.add('colab-df-spinner');\n",
              "      try {\n",
              "        const charts = await google.colab.kernel.invokeFunction(\n",
              "            'suggestCharts', [key], {});\n",
              "      } catch (error) {\n",
              "        console.error('Error during call to suggestCharts:', error);\n",
              "      }\n",
              "      quickchartButtonEl.classList.remove('colab-df-spinner');\n",
              "      quickchartButtonEl.classList.add('colab-df-quickchart-complete');\n",
              "    }\n",
              "    (() => {\n",
              "      let quickchartButtonEl =\n",
              "        document.querySelector('#df-ef75a848-b604-4737-85ac-27f210340bd0 button');\n",
              "      quickchartButtonEl.style.display =\n",
              "        google.colab.kernel.accessAllowed ? 'block' : 'none';\n",
              "    })();\n",
              "  </script>\n",
              "</div>\n",
              "\n",
              "    </div>\n",
              "  </div>\n"
            ],
            "application/vnd.google.colaboratory.intrinsic+json": {
              "type": "dataframe",
              "summary": "{\n  \"name\": \"data\",\n  \"rows\": 8,\n  \"fields\": [\n    {\n      \"column\": \"DATE\",\n      \"properties\": {\n        \"dtype\": \"date\",\n        \"min\": \"1970-01-01 00:00:00.000333402\",\n        \"max\": \"2024-12-31 18:24:00\",\n        \"num_unique_values\": 7,\n        \"samples\": [\n          \"333402\",\n          \"2024-07-17 10:20:55.072075264\",\n          \"2024-10-14 14:50:00\"\n        ],\n        \"semantic_type\": \"\",\n        \"description\": \"\"\n      }\n    },\n    {\n      \"column\": \"QUANTITY\",\n      \"properties\": {\n        \"dtype\": \"number\",\n        \"std\": 117856.83089753683,\n        \"min\": 0.0,\n        \"max\": 333402.0,\n        \"num_unique_values\": 7,\n        \"samples\": [\n          333402.0,\n          2.321197833246351,\n          359.0\n        ],\n        \"semantic_type\": \"\",\n        \"description\": \"\"\n      }\n    },\n    {\n      \"column\": \"UNIT PRICE\",\n      \"properties\": {\n        \"dtype\": \"number\",\n        \"std\": 116672.12884502004,\n        \"min\": 0.0,\n        \"max\": 333402.0,\n        \"num_unique_values\": 8,\n        \"samples\": [\n          2322.0297418523824,\n          2755.0,\n          333402.0\n        ],\n        \"semantic_type\": \"\",\n        \"description\": \"\"\n      }\n    }\n  ]\n}"
            }
          },
          "metadata": {},
          "execution_count": 51
        }
      ]
    },
    {
      "cell_type": "markdown",
      "source": [
        "Above, we see that\n",
        "\n",
        "*   Min QUANTITY = 0\n",
        "*   Min UNIT PRICE = 0,\n",
        "which cannot be the case.  \n",
        "\n"
      ],
      "metadata": {
        "id": "WJGmirePERgH"
      }
    },
    {
      "cell_type": "markdown",
      "source": [
        "### Handling Rows where Unit Price = 0"
      ],
      "metadata": {
        "id": "BWgQNh8qIRPH"
      }
    },
    {
      "cell_type": "code",
      "source": [
        "#Viewing data where UNIT PRICE=0\n",
        "data[data['UNIT PRICE'] == 0]"
      ],
      "metadata": {
        "colab": {
          "base_uri": "https://localhost:8080/",
          "height": 834
        },
        "id": "To-XYoMfE0-K",
        "outputId": "2fb6ac31-e754-4112-d3f4-49a9911ad797"
      },
      "execution_count": null,
      "outputs": [
        {
          "output_type": "execute_result",
          "data": {
            "text/plain": [
              "                      DATE ANONYMIZED CATEGORY ANONYMIZED PRODUCT  \\\n",
              "3257   2024-06-10 10:54:00         Category-77       Product-9532   \n",
              "16750  2024-05-21 16:52:00         Category-79       Product-38e9   \n",
              "75285  2024-02-05 19:14:00         Category-76       Product-da0e   \n",
              "85287  2024-02-06 12:36:00         Category-74       Product-1ee2   \n",
              "87648  2024-03-08 20:55:00         Category-82       Product-5793   \n",
              "111342 2024-05-10 22:52:00         Category-79       Product-38e9   \n",
              "111713 2024-02-05 14:53:00        Category-105       Product-fd84   \n",
              "149456 2024-01-16 12:51:00        Category-105       Product-fd84   \n",
              "154792 2024-03-08 21:40:00         Category-74       Product-c1d6   \n",
              "163483 2024-02-09 11:16:00         Category-82       Product-5793   \n",
              "173630 2024-05-06 16:34:00        Category-110       Product-ffb7   \n",
              "194061 2024-05-06 16:34:00        Category-110       Product-ffb7   \n",
              "205165 2024-07-19 15:52:00        Category-100       Product-482b   \n",
              "208412 2024-02-27 09:00:00        Category-105       Product-fd84   \n",
              "211820 2024-07-21 16:43:00        Category-100       Product-9393   \n",
              "231035 2024-01-24 18:57:00        Category-113       Product-cd8e   \n",
              "232668 2024-07-11 18:48:00        Category-100       Product-6f02   \n",
              "242776 2024-07-21 17:19:00        Category-100       Product-482b   \n",
              "260348 2024-02-27 09:00:00        Category-105       Product-fd84   \n",
              "272447 2024-01-01 16:50:00         Category-82       Product-5793   \n",
              "275753 2024-07-19 17:35:00        Category-100       Product-482b   \n",
              "287249 2024-01-24 17:06:00        Category-105       Product-fd84   \n",
              "294405 2024-01-27 21:25:00         Category-74       Product-c1d6   \n",
              "296729 2024-07-11 16:40:00        Category-100       Product-6f02   \n",
              "301902 2024-01-15 08:25:00        Category-110       Product-3dcf   \n",
              "\n",
              "       ANONYMIZED BUSINESS ANONYMIZED LOCATION  QUANTITY  UNIT PRICE  \n",
              "3257         Business-f712       Location-03fc        22         0.0  \n",
              "16750        Business-35c0       Location-47dc         1         0.0  \n",
              "75285        Business-63e2       Location-0451         1         0.0  \n",
              "85287        Business-f9a6       Location-006f         1         0.0  \n",
              "87648        Business-ceeb       Location-f37d         1         0.0  \n",
              "111342       Business-1e10       Location-f37d         1         0.0  \n",
              "111713       Business-1548       Location-f37d        12         0.0  \n",
              "149456       Business-88f5       Location-689f         1         0.0  \n",
              "154792       Business-7fda       Location-e2f8         1         0.0  \n",
              "163483       Business-52fa       Location-e2f8         2         0.0  \n",
              "173630       Business-4b91       Location-03fc         1         0.0  \n",
              "194061       Business-4b91       Location-03fc         1         0.0  \n",
              "205165       Business-77b6       Location-f37d         2         0.0  \n",
              "208412       Business-3326       Location-f37d         1         0.0  \n",
              "211820       Business-adc7       Location-1ba8         4         0.0  \n",
              "231035       Business-0d61       Location-1ba8         2         0.0  \n",
              "232668       Business-8603       Location-b27b         1         0.0  \n",
              "242776       Business-4e69       Location-1979         1         0.0  \n",
              "260348       Business-3326       Location-f37d         1         0.0  \n",
              "272447       Business-2e23       Location-d32a         1         0.0  \n",
              "275753       Business-721c       Location-f37d         2         0.0  \n",
              "287249       Business-d065       Location-3e32         3         0.0  \n",
              "294405       Business-83dd       Location-66f4         1         0.0  \n",
              "296729       Business-2672       Location-b27b         1         0.0  \n",
              "301902       Business-3bf0       Location-66f4         1         0.0  "
            ],
            "text/html": [
              "\n",
              "  <div id=\"df-6a5d7936-ea71-4ca9-bd82-5093e03f1490\" class=\"colab-df-container\">\n",
              "    <div>\n",
              "<style scoped>\n",
              "    .dataframe tbody tr th:only-of-type {\n",
              "        vertical-align: middle;\n",
              "    }\n",
              "\n",
              "    .dataframe tbody tr th {\n",
              "        vertical-align: top;\n",
              "    }\n",
              "\n",
              "    .dataframe thead th {\n",
              "        text-align: right;\n",
              "    }\n",
              "</style>\n",
              "<table border=\"1\" class=\"dataframe\">\n",
              "  <thead>\n",
              "    <tr style=\"text-align: right;\">\n",
              "      <th></th>\n",
              "      <th>DATE</th>\n",
              "      <th>ANONYMIZED CATEGORY</th>\n",
              "      <th>ANONYMIZED PRODUCT</th>\n",
              "      <th>ANONYMIZED BUSINESS</th>\n",
              "      <th>ANONYMIZED LOCATION</th>\n",
              "      <th>QUANTITY</th>\n",
              "      <th>UNIT PRICE</th>\n",
              "    </tr>\n",
              "  </thead>\n",
              "  <tbody>\n",
              "    <tr>\n",
              "      <th>3257</th>\n",
              "      <td>2024-06-10 10:54:00</td>\n",
              "      <td>Category-77</td>\n",
              "      <td>Product-9532</td>\n",
              "      <td>Business-f712</td>\n",
              "      <td>Location-03fc</td>\n",
              "      <td>22</td>\n",
              "      <td>0.0</td>\n",
              "    </tr>\n",
              "    <tr>\n",
              "      <th>16750</th>\n",
              "      <td>2024-05-21 16:52:00</td>\n",
              "      <td>Category-79</td>\n",
              "      <td>Product-38e9</td>\n",
              "      <td>Business-35c0</td>\n",
              "      <td>Location-47dc</td>\n",
              "      <td>1</td>\n",
              "      <td>0.0</td>\n",
              "    </tr>\n",
              "    <tr>\n",
              "      <th>75285</th>\n",
              "      <td>2024-02-05 19:14:00</td>\n",
              "      <td>Category-76</td>\n",
              "      <td>Product-da0e</td>\n",
              "      <td>Business-63e2</td>\n",
              "      <td>Location-0451</td>\n",
              "      <td>1</td>\n",
              "      <td>0.0</td>\n",
              "    </tr>\n",
              "    <tr>\n",
              "      <th>85287</th>\n",
              "      <td>2024-02-06 12:36:00</td>\n",
              "      <td>Category-74</td>\n",
              "      <td>Product-1ee2</td>\n",
              "      <td>Business-f9a6</td>\n",
              "      <td>Location-006f</td>\n",
              "      <td>1</td>\n",
              "      <td>0.0</td>\n",
              "    </tr>\n",
              "    <tr>\n",
              "      <th>87648</th>\n",
              "      <td>2024-03-08 20:55:00</td>\n",
              "      <td>Category-82</td>\n",
              "      <td>Product-5793</td>\n",
              "      <td>Business-ceeb</td>\n",
              "      <td>Location-f37d</td>\n",
              "      <td>1</td>\n",
              "      <td>0.0</td>\n",
              "    </tr>\n",
              "    <tr>\n",
              "      <th>111342</th>\n",
              "      <td>2024-05-10 22:52:00</td>\n",
              "      <td>Category-79</td>\n",
              "      <td>Product-38e9</td>\n",
              "      <td>Business-1e10</td>\n",
              "      <td>Location-f37d</td>\n",
              "      <td>1</td>\n",
              "      <td>0.0</td>\n",
              "    </tr>\n",
              "    <tr>\n",
              "      <th>111713</th>\n",
              "      <td>2024-02-05 14:53:00</td>\n",
              "      <td>Category-105</td>\n",
              "      <td>Product-fd84</td>\n",
              "      <td>Business-1548</td>\n",
              "      <td>Location-f37d</td>\n",
              "      <td>12</td>\n",
              "      <td>0.0</td>\n",
              "    </tr>\n",
              "    <tr>\n",
              "      <th>149456</th>\n",
              "      <td>2024-01-16 12:51:00</td>\n",
              "      <td>Category-105</td>\n",
              "      <td>Product-fd84</td>\n",
              "      <td>Business-88f5</td>\n",
              "      <td>Location-689f</td>\n",
              "      <td>1</td>\n",
              "      <td>0.0</td>\n",
              "    </tr>\n",
              "    <tr>\n",
              "      <th>154792</th>\n",
              "      <td>2024-03-08 21:40:00</td>\n",
              "      <td>Category-74</td>\n",
              "      <td>Product-c1d6</td>\n",
              "      <td>Business-7fda</td>\n",
              "      <td>Location-e2f8</td>\n",
              "      <td>1</td>\n",
              "      <td>0.0</td>\n",
              "    </tr>\n",
              "    <tr>\n",
              "      <th>163483</th>\n",
              "      <td>2024-02-09 11:16:00</td>\n",
              "      <td>Category-82</td>\n",
              "      <td>Product-5793</td>\n",
              "      <td>Business-52fa</td>\n",
              "      <td>Location-e2f8</td>\n",
              "      <td>2</td>\n",
              "      <td>0.0</td>\n",
              "    </tr>\n",
              "    <tr>\n",
              "      <th>173630</th>\n",
              "      <td>2024-05-06 16:34:00</td>\n",
              "      <td>Category-110</td>\n",
              "      <td>Product-ffb7</td>\n",
              "      <td>Business-4b91</td>\n",
              "      <td>Location-03fc</td>\n",
              "      <td>1</td>\n",
              "      <td>0.0</td>\n",
              "    </tr>\n",
              "    <tr>\n",
              "      <th>194061</th>\n",
              "      <td>2024-05-06 16:34:00</td>\n",
              "      <td>Category-110</td>\n",
              "      <td>Product-ffb7</td>\n",
              "      <td>Business-4b91</td>\n",
              "      <td>Location-03fc</td>\n",
              "      <td>1</td>\n",
              "      <td>0.0</td>\n",
              "    </tr>\n",
              "    <tr>\n",
              "      <th>205165</th>\n",
              "      <td>2024-07-19 15:52:00</td>\n",
              "      <td>Category-100</td>\n",
              "      <td>Product-482b</td>\n",
              "      <td>Business-77b6</td>\n",
              "      <td>Location-f37d</td>\n",
              "      <td>2</td>\n",
              "      <td>0.0</td>\n",
              "    </tr>\n",
              "    <tr>\n",
              "      <th>208412</th>\n",
              "      <td>2024-02-27 09:00:00</td>\n",
              "      <td>Category-105</td>\n",
              "      <td>Product-fd84</td>\n",
              "      <td>Business-3326</td>\n",
              "      <td>Location-f37d</td>\n",
              "      <td>1</td>\n",
              "      <td>0.0</td>\n",
              "    </tr>\n",
              "    <tr>\n",
              "      <th>211820</th>\n",
              "      <td>2024-07-21 16:43:00</td>\n",
              "      <td>Category-100</td>\n",
              "      <td>Product-9393</td>\n",
              "      <td>Business-adc7</td>\n",
              "      <td>Location-1ba8</td>\n",
              "      <td>4</td>\n",
              "      <td>0.0</td>\n",
              "    </tr>\n",
              "    <tr>\n",
              "      <th>231035</th>\n",
              "      <td>2024-01-24 18:57:00</td>\n",
              "      <td>Category-113</td>\n",
              "      <td>Product-cd8e</td>\n",
              "      <td>Business-0d61</td>\n",
              "      <td>Location-1ba8</td>\n",
              "      <td>2</td>\n",
              "      <td>0.0</td>\n",
              "    </tr>\n",
              "    <tr>\n",
              "      <th>232668</th>\n",
              "      <td>2024-07-11 18:48:00</td>\n",
              "      <td>Category-100</td>\n",
              "      <td>Product-6f02</td>\n",
              "      <td>Business-8603</td>\n",
              "      <td>Location-b27b</td>\n",
              "      <td>1</td>\n",
              "      <td>0.0</td>\n",
              "    </tr>\n",
              "    <tr>\n",
              "      <th>242776</th>\n",
              "      <td>2024-07-21 17:19:00</td>\n",
              "      <td>Category-100</td>\n",
              "      <td>Product-482b</td>\n",
              "      <td>Business-4e69</td>\n",
              "      <td>Location-1979</td>\n",
              "      <td>1</td>\n",
              "      <td>0.0</td>\n",
              "    </tr>\n",
              "    <tr>\n",
              "      <th>260348</th>\n",
              "      <td>2024-02-27 09:00:00</td>\n",
              "      <td>Category-105</td>\n",
              "      <td>Product-fd84</td>\n",
              "      <td>Business-3326</td>\n",
              "      <td>Location-f37d</td>\n",
              "      <td>1</td>\n",
              "      <td>0.0</td>\n",
              "    </tr>\n",
              "    <tr>\n",
              "      <th>272447</th>\n",
              "      <td>2024-01-01 16:50:00</td>\n",
              "      <td>Category-82</td>\n",
              "      <td>Product-5793</td>\n",
              "      <td>Business-2e23</td>\n",
              "      <td>Location-d32a</td>\n",
              "      <td>1</td>\n",
              "      <td>0.0</td>\n",
              "    </tr>\n",
              "    <tr>\n",
              "      <th>275753</th>\n",
              "      <td>2024-07-19 17:35:00</td>\n",
              "      <td>Category-100</td>\n",
              "      <td>Product-482b</td>\n",
              "      <td>Business-721c</td>\n",
              "      <td>Location-f37d</td>\n",
              "      <td>2</td>\n",
              "      <td>0.0</td>\n",
              "    </tr>\n",
              "    <tr>\n",
              "      <th>287249</th>\n",
              "      <td>2024-01-24 17:06:00</td>\n",
              "      <td>Category-105</td>\n",
              "      <td>Product-fd84</td>\n",
              "      <td>Business-d065</td>\n",
              "      <td>Location-3e32</td>\n",
              "      <td>3</td>\n",
              "      <td>0.0</td>\n",
              "    </tr>\n",
              "    <tr>\n",
              "      <th>294405</th>\n",
              "      <td>2024-01-27 21:25:00</td>\n",
              "      <td>Category-74</td>\n",
              "      <td>Product-c1d6</td>\n",
              "      <td>Business-83dd</td>\n",
              "      <td>Location-66f4</td>\n",
              "      <td>1</td>\n",
              "      <td>0.0</td>\n",
              "    </tr>\n",
              "    <tr>\n",
              "      <th>296729</th>\n",
              "      <td>2024-07-11 16:40:00</td>\n",
              "      <td>Category-100</td>\n",
              "      <td>Product-6f02</td>\n",
              "      <td>Business-2672</td>\n",
              "      <td>Location-b27b</td>\n",
              "      <td>1</td>\n",
              "      <td>0.0</td>\n",
              "    </tr>\n",
              "    <tr>\n",
              "      <th>301902</th>\n",
              "      <td>2024-01-15 08:25:00</td>\n",
              "      <td>Category-110</td>\n",
              "      <td>Product-3dcf</td>\n",
              "      <td>Business-3bf0</td>\n",
              "      <td>Location-66f4</td>\n",
              "      <td>1</td>\n",
              "      <td>0.0</td>\n",
              "    </tr>\n",
              "  </tbody>\n",
              "</table>\n",
              "</div>\n",
              "    <div class=\"colab-df-buttons\">\n",
              "\n",
              "  <div class=\"colab-df-container\">\n",
              "    <button class=\"colab-df-convert\" onclick=\"convertToInteractive('df-6a5d7936-ea71-4ca9-bd82-5093e03f1490')\"\n",
              "            title=\"Convert this dataframe to an interactive table.\"\n",
              "            style=\"display:none;\">\n",
              "\n",
              "  <svg xmlns=\"http://www.w3.org/2000/svg\" height=\"24px\" viewBox=\"0 -960 960 960\">\n",
              "    <path d=\"M120-120v-720h720v720H120Zm60-500h600v-160H180v160Zm220 220h160v-160H400v160Zm0 220h160v-160H400v160ZM180-400h160v-160H180v160Zm440 0h160v-160H620v160ZM180-180h160v-160H180v160Zm440 0h160v-160H620v160Z\"/>\n",
              "  </svg>\n",
              "    </button>\n",
              "\n",
              "  <style>\n",
              "    .colab-df-container {\n",
              "      display:flex;\n",
              "      gap: 12px;\n",
              "    }\n",
              "\n",
              "    .colab-df-convert {\n",
              "      background-color: #E8F0FE;\n",
              "      border: none;\n",
              "      border-radius: 50%;\n",
              "      cursor: pointer;\n",
              "      display: none;\n",
              "      fill: #1967D2;\n",
              "      height: 32px;\n",
              "      padding: 0 0 0 0;\n",
              "      width: 32px;\n",
              "    }\n",
              "\n",
              "    .colab-df-convert:hover {\n",
              "      background-color: #E2EBFA;\n",
              "      box-shadow: 0px 1px 2px rgba(60, 64, 67, 0.3), 0px 1px 3px 1px rgba(60, 64, 67, 0.15);\n",
              "      fill: #174EA6;\n",
              "    }\n",
              "\n",
              "    .colab-df-buttons div {\n",
              "      margin-bottom: 4px;\n",
              "    }\n",
              "\n",
              "    [theme=dark] .colab-df-convert {\n",
              "      background-color: #3B4455;\n",
              "      fill: #D2E3FC;\n",
              "    }\n",
              "\n",
              "    [theme=dark] .colab-df-convert:hover {\n",
              "      background-color: #434B5C;\n",
              "      box-shadow: 0px 1px 3px 1px rgba(0, 0, 0, 0.15);\n",
              "      filter: drop-shadow(0px 1px 2px rgba(0, 0, 0, 0.3));\n",
              "      fill: #FFFFFF;\n",
              "    }\n",
              "  </style>\n",
              "\n",
              "    <script>\n",
              "      const buttonEl =\n",
              "        document.querySelector('#df-6a5d7936-ea71-4ca9-bd82-5093e03f1490 button.colab-df-convert');\n",
              "      buttonEl.style.display =\n",
              "        google.colab.kernel.accessAllowed ? 'block' : 'none';\n",
              "\n",
              "      async function convertToInteractive(key) {\n",
              "        const element = document.querySelector('#df-6a5d7936-ea71-4ca9-bd82-5093e03f1490');\n",
              "        const dataTable =\n",
              "          await google.colab.kernel.invokeFunction('convertToInteractive',\n",
              "                                                    [key], {});\n",
              "        if (!dataTable) return;\n",
              "\n",
              "        const docLinkHtml = 'Like what you see? Visit the ' +\n",
              "          '<a target=\"_blank\" href=https://colab.research.google.com/notebooks/data_table.ipynb>data table notebook</a>'\n",
              "          + ' to learn more about interactive tables.';\n",
              "        element.innerHTML = '';\n",
              "        dataTable['output_type'] = 'display_data';\n",
              "        await google.colab.output.renderOutput(dataTable, element);\n",
              "        const docLink = document.createElement('div');\n",
              "        docLink.innerHTML = docLinkHtml;\n",
              "        element.appendChild(docLink);\n",
              "      }\n",
              "    </script>\n",
              "  </div>\n",
              "\n",
              "\n",
              "<div id=\"df-5f9e3235-071d-4eca-8687-274921f922e3\">\n",
              "  <button class=\"colab-df-quickchart\" onclick=\"quickchart('df-5f9e3235-071d-4eca-8687-274921f922e3')\"\n",
              "            title=\"Suggest charts\"\n",
              "            style=\"display:none;\">\n",
              "\n",
              "<svg xmlns=\"http://www.w3.org/2000/svg\" height=\"24px\"viewBox=\"0 0 24 24\"\n",
              "     width=\"24px\">\n",
              "    <g>\n",
              "        <path d=\"M19 3H5c-1.1 0-2 .9-2 2v14c0 1.1.9 2 2 2h14c1.1 0 2-.9 2-2V5c0-1.1-.9-2-2-2zM9 17H7v-7h2v7zm4 0h-2V7h2v10zm4 0h-2v-4h2v4z\"/>\n",
              "    </g>\n",
              "</svg>\n",
              "  </button>\n",
              "\n",
              "<style>\n",
              "  .colab-df-quickchart {\n",
              "      --bg-color: #E8F0FE;\n",
              "      --fill-color: #1967D2;\n",
              "      --hover-bg-color: #E2EBFA;\n",
              "      --hover-fill-color: #174EA6;\n",
              "      --disabled-fill-color: #AAA;\n",
              "      --disabled-bg-color: #DDD;\n",
              "  }\n",
              "\n",
              "  [theme=dark] .colab-df-quickchart {\n",
              "      --bg-color: #3B4455;\n",
              "      --fill-color: #D2E3FC;\n",
              "      --hover-bg-color: #434B5C;\n",
              "      --hover-fill-color: #FFFFFF;\n",
              "      --disabled-bg-color: #3B4455;\n",
              "      --disabled-fill-color: #666;\n",
              "  }\n",
              "\n",
              "  .colab-df-quickchart {\n",
              "    background-color: var(--bg-color);\n",
              "    border: none;\n",
              "    border-radius: 50%;\n",
              "    cursor: pointer;\n",
              "    display: none;\n",
              "    fill: var(--fill-color);\n",
              "    height: 32px;\n",
              "    padding: 0;\n",
              "    width: 32px;\n",
              "  }\n",
              "\n",
              "  .colab-df-quickchart:hover {\n",
              "    background-color: var(--hover-bg-color);\n",
              "    box-shadow: 0 1px 2px rgba(60, 64, 67, 0.3), 0 1px 3px 1px rgba(60, 64, 67, 0.15);\n",
              "    fill: var(--button-hover-fill-color);\n",
              "  }\n",
              "\n",
              "  .colab-df-quickchart-complete:disabled,\n",
              "  .colab-df-quickchart-complete:disabled:hover {\n",
              "    background-color: var(--disabled-bg-color);\n",
              "    fill: var(--disabled-fill-color);\n",
              "    box-shadow: none;\n",
              "  }\n",
              "\n",
              "  .colab-df-spinner {\n",
              "    border: 2px solid var(--fill-color);\n",
              "    border-color: transparent;\n",
              "    border-bottom-color: var(--fill-color);\n",
              "    animation:\n",
              "      spin 1s steps(1) infinite;\n",
              "  }\n",
              "\n",
              "  @keyframes spin {\n",
              "    0% {\n",
              "      border-color: transparent;\n",
              "      border-bottom-color: var(--fill-color);\n",
              "      border-left-color: var(--fill-color);\n",
              "    }\n",
              "    20% {\n",
              "      border-color: transparent;\n",
              "      border-left-color: var(--fill-color);\n",
              "      border-top-color: var(--fill-color);\n",
              "    }\n",
              "    30% {\n",
              "      border-color: transparent;\n",
              "      border-left-color: var(--fill-color);\n",
              "      border-top-color: var(--fill-color);\n",
              "      border-right-color: var(--fill-color);\n",
              "    }\n",
              "    40% {\n",
              "      border-color: transparent;\n",
              "      border-right-color: var(--fill-color);\n",
              "      border-top-color: var(--fill-color);\n",
              "    }\n",
              "    60% {\n",
              "      border-color: transparent;\n",
              "      border-right-color: var(--fill-color);\n",
              "    }\n",
              "    80% {\n",
              "      border-color: transparent;\n",
              "      border-right-color: var(--fill-color);\n",
              "      border-bottom-color: var(--fill-color);\n",
              "    }\n",
              "    90% {\n",
              "      border-color: transparent;\n",
              "      border-bottom-color: var(--fill-color);\n",
              "    }\n",
              "  }\n",
              "</style>\n",
              "\n",
              "  <script>\n",
              "    async function quickchart(key) {\n",
              "      const quickchartButtonEl =\n",
              "        document.querySelector('#' + key + ' button');\n",
              "      quickchartButtonEl.disabled = true;  // To prevent multiple clicks.\n",
              "      quickchartButtonEl.classList.add('colab-df-spinner');\n",
              "      try {\n",
              "        const charts = await google.colab.kernel.invokeFunction(\n",
              "            'suggestCharts', [key], {});\n",
              "      } catch (error) {\n",
              "        console.error('Error during call to suggestCharts:', error);\n",
              "      }\n",
              "      quickchartButtonEl.classList.remove('colab-df-spinner');\n",
              "      quickchartButtonEl.classList.add('colab-df-quickchart-complete');\n",
              "    }\n",
              "    (() => {\n",
              "      let quickchartButtonEl =\n",
              "        document.querySelector('#df-5f9e3235-071d-4eca-8687-274921f922e3 button');\n",
              "      quickchartButtonEl.style.display =\n",
              "        google.colab.kernel.accessAllowed ? 'block' : 'none';\n",
              "    })();\n",
              "  </script>\n",
              "</div>\n",
              "\n",
              "    </div>\n",
              "  </div>\n"
            ],
            "application/vnd.google.colaboratory.intrinsic+json": {
              "type": "dataframe",
              "summary": "{\n  \"name\": \"data[data['UNIT PRICE'] == 0]\",\n  \"rows\": 25,\n  \"fields\": [\n    {\n      \"column\": \"DATE\",\n      \"properties\": {\n        \"dtype\": \"date\",\n        \"min\": \"2024-01-01 16:50:00\",\n        \"max\": \"2024-07-21 17:19:00\",\n        \"num_unique_values\": 23,\n        \"samples\": [\n          \"2024-07-11 18:48:00\",\n          \"2024-02-09 11:16:00\",\n          \"2024-06-10 10:54:00\"\n        ],\n        \"semantic_type\": \"\",\n        \"description\": \"\"\n      }\n    },\n    {\n      \"column\": \"ANONYMIZED CATEGORY\",\n      \"properties\": {\n        \"dtype\": \"category\",\n        \"num_unique_values\": 9,\n        \"samples\": [\n          \"Category-100\",\n          \"Category-79\",\n          \"Category-105\"\n        ],\n        \"semantic_type\": \"\",\n        \"description\": \"\"\n      }\n    },\n    {\n      \"column\": \"ANONYMIZED PRODUCT\",\n      \"properties\": {\n        \"dtype\": \"string\",\n        \"num_unique_values\": 13,\n        \"samples\": [\n          \"Product-6f02\",\n          \"Product-9393\",\n          \"Product-9532\"\n        ],\n        \"semantic_type\": \"\",\n        \"description\": \"\"\n      }\n    },\n    {\n      \"column\": \"ANONYMIZED BUSINESS\",\n      \"properties\": {\n        \"dtype\": \"string\",\n        \"num_unique_values\": 23,\n        \"samples\": [\n          \"Business-8603\",\n          \"Business-52fa\",\n          \"Business-f712\"\n        ],\n        \"semantic_type\": \"\",\n        \"description\": \"\"\n      }\n    },\n    {\n      \"column\": \"ANONYMIZED LOCATION\",\n      \"properties\": {\n        \"dtype\": \"string\",\n        \"num_unique_values\": 13,\n        \"samples\": [\n          \"Location-3e32\",\n          \"Location-1979\",\n          \"Location-03fc\"\n        ],\n        \"semantic_type\": \"\",\n        \"description\": \"\"\n      }\n    },\n    {\n      \"column\": \"QUANTITY\",\n      \"properties\": {\n        \"dtype\": \"number\",\n        \"std\": 4,\n        \"min\": 1,\n        \"max\": 22,\n        \"num_unique_values\": 6,\n        \"samples\": [\n          22,\n          1,\n          3\n        ],\n        \"semantic_type\": \"\",\n        \"description\": \"\"\n      }\n    },\n    {\n      \"column\": \"UNIT PRICE\",\n      \"properties\": {\n        \"dtype\": \"number\",\n        \"std\": 0.0,\n        \"min\": 0.0,\n        \"max\": 0.0,\n        \"num_unique_values\": 1,\n        \"samples\": [\n          0.0\n        ],\n        \"semantic_type\": \"\",\n        \"description\": \"\"\n      }\n    }\n  ]\n}"
            }
          },
          "metadata": {},
          "execution_count": 52
        }
      ]
    },
    {
      "cell_type": "code",
      "source": [
        "#Confirming number of rows with UNIT PRICE=0\n",
        "data[data['UNIT PRICE'] == 0].shape"
      ],
      "metadata": {
        "colab": {
          "base_uri": "https://localhost:8080/"
        },
        "id": "7WS2s754FAvW",
        "outputId": "6953dd70-c8a2-4e25-dbcc-6291f7352d0f"
      },
      "execution_count": null,
      "outputs": [
        {
          "output_type": "execute_result",
          "data": {
            "text/plain": [
              "(25, 7)"
            ]
          },
          "metadata": {},
          "execution_count": 53
        }
      ]
    },
    {
      "cell_type": "markdown",
      "source": [
        "we see that 25 entries have UNIT PRICE=0"
      ],
      "metadata": {
        "id": "TeB7xyu6FRsV"
      }
    },
    {
      "cell_type": "code",
      "source": [
        "#Imputing rows with UNIT PRICE=0 with price of Similar products\n",
        "if (data['UNIT PRICE'] == 0).any():  # Check if any 'UNIT PRICE' value is 0\n",
        "    data['UNIT PRICE'] = data['UNIT PRICE'].replace(0, np.nan)  # Replace 0 with NaN for fillna to work\n",
        "    data['UNIT PRICE'].fillna(data.groupby('ANONYMIZED PRODUCT')['UNIT PRICE'].transform('mean'), inplace=True)"
      ],
      "metadata": {
        "colab": {
          "base_uri": "https://localhost:8080/"
        },
        "id": "OeKZBs6aFXtm",
        "outputId": "2552e3ea-8c3a-42bb-8230-4746830ca92b"
      },
      "execution_count": null,
      "outputs": [
        {
          "output_type": "stream",
          "name": "stderr",
          "text": [
            "<ipython-input-54-841b1828729c>:4: FutureWarning: A value is trying to be set on a copy of a DataFrame or Series through chained assignment using an inplace method.\n",
            "The behavior will change in pandas 3.0. This inplace method will never work because the intermediate object on which we are setting values always behaves as a copy.\n",
            "\n",
            "For example, when doing 'df[col].method(value, inplace=True)', try using 'df.method({col: value}, inplace=True)' or df[col] = df[col].method(value) instead, to perform the operation inplace on the original object.\n",
            "\n",
            "\n",
            "  data['UNIT PRICE'].fillna(data.groupby('ANONYMIZED PRODUCT')['UNIT PRICE'].transform('mean'), inplace=True)\n"
          ]
        }
      ]
    },
    {
      "cell_type": "code",
      "source": [
        "#Confirming that we have eliminated the number of rows with UNIT PRICE=0\n",
        "data[data['UNIT PRICE'] == 0].shape"
      ],
      "metadata": {
        "colab": {
          "base_uri": "https://localhost:8080/"
        },
        "id": "WpbWh1AVIBQt",
        "outputId": "948f8b2c-161c-410b-b888-d4fba28eb780"
      },
      "execution_count": null,
      "outputs": [
        {
          "output_type": "execute_result",
          "data": {
            "text/plain": [
              "(0, 7)"
            ]
          },
          "metadata": {},
          "execution_count": 55
        }
      ]
    },
    {
      "cell_type": "markdown",
      "source": [
        "## Handling Rows where Quantity = 0"
      ],
      "metadata": {
        "id": "Kg9CabHMIKQH"
      }
    },
    {
      "cell_type": "code",
      "source": [
        "#Viewing data where QUANTITY=0\n",
        "data[data['QUANTITY'] == 0]"
      ],
      "metadata": {
        "colab": {
          "base_uri": "https://localhost:8080/",
          "height": 1000
        },
        "id": "KEB8Thr5EoVh",
        "outputId": "5208c186-fcce-4c13-88cf-53e4776ae2dd"
      },
      "execution_count": null,
      "outputs": [
        {
          "output_type": "execute_result",
          "data": {
            "text/plain": [
              "                      DATE ANONYMIZED CATEGORY ANONYMIZED PRODUCT  \\\n",
              "19828  2024-12-20 21:07:00        Category-113       Product-6342   \n",
              "48930  2024-06-02 10:18:00         Category-75       Product-4832   \n",
              "48931  2024-06-02 10:18:00         Category-75       Product-6aa1   \n",
              "48932  2024-06-02 10:18:00        Category-100       Product-f3ee   \n",
              "60118  2024-06-14 11:11:00        Category-120       Product-14f3   \n",
              "63254  2024-05-09 14:06:00         Category-75       Product-8b33   \n",
              "67161  2024-07-02 13:45:00         Category-78       Product-b409   \n",
              "90630  2024-06-07 21:06:00         Category-78       Product-b409   \n",
              "100956 2024-06-11 09:10:00        Category-120       Product-83fd   \n",
              "102391 2024-06-05 12:09:00        Category-105       Product-acb9   \n",
              "105954 2024-06-07 21:22:00         Category-91       Product-16bb   \n",
              "110094 2024-04-07 21:58:00         Category-85       Product-e650   \n",
              "117450 2024-06-10 12:40:00        Category-113       Product-a030   \n",
              "131169 2024-07-03 18:59:00         Category-85       Product-0c64   \n",
              "137288 2024-05-10 13:34:00         Category-85       Product-0331   \n",
              "138688 2024-12-31 11:29:00        Category-120       Product-4156   \n",
              "143014 2024-03-04 15:17:00         Category-85       Product-6859   \n",
              "143015 2024-03-04 15:25:00         Category-85       Product-86ab   \n",
              "143017 2024-03-04 15:16:00        Category-101       Product-fd67   \n",
              "155548 2024-06-25 11:32:00        Category-120       Product-3050   \n",
              "187931 2024-12-19 22:03:00        Category-113       Product-6342   \n",
              "195936 2024-05-17 09:59:00         Category-76       Product-e805   \n",
              "199249 2024-12-09 21:18:00         Category-77       Product-5067   \n",
              "200117 2024-05-20 09:05:00        Category-120       Product-3050   \n",
              "211226 2024-06-02 23:26:00         Category-76       Product-6e9c   \n",
              "221754 2024-06-10 11:13:00         Category-75       Product-faa5   \n",
              "222851 2024-05-16 11:22:00         Category-85       Product-114f   \n",
              "223039 2024-06-11 13:21:00         Category-76       Product-e805   \n",
              "237603 2024-05-28 15:22:00         Category-75       Product-8f75   \n",
              "237604 2024-05-28 15:22:00        Category-110       Product-a325   \n",
              "240937 2024-06-04 18:24:00        Category-107       Product-8d56   \n",
              "245466 2024-05-06 17:39:00        Category-121       Product-57c1   \n",
              "252796 2024-03-05 00:03:00         Category-76       Product-113e   \n",
              "258779 2024-05-13 12:15:00         Category-76       Product-e805   \n",
              "278183 2024-12-31 11:29:00        Category-120       Product-4156   \n",
              "293397 2024-12-31 11:28:00        Category-120       Product-83fd   \n",
              "299788 2024-12-29 20:02:00         Category-84       Product-ee8b   \n",
              "310150 2024-05-18 13:58:00         Category-75       Product-8f75   \n",
              "329123 2024-12-01 19:49:00         Category-75       Product-2175   \n",
              "\n",
              "       ANONYMIZED BUSINESS ANONYMIZED LOCATION  QUANTITY  UNIT PRICE  \n",
              "19828        Business-4305       Location-3e32         0         2.0  \n",
              "48930        Business-195b       Location-c86b         0      3880.0  \n",
              "48931        Business-195b       Location-c86b         0      1960.0  \n",
              "48932        Business-195b       Location-c86b         0      2045.0  \n",
              "60118        Business-1b8b       Location-c2f2         0      1850.0  \n",
              "63254        Business-2592       Location-9149         0      2135.0  \n",
              "67161        Business-54ac       Location-e2f8         0       750.0  \n",
              "90630        Business-5e1d       Location-d32a         0       750.0  \n",
              "100956       Business-5cac       Location-e2f8         0      1860.0  \n",
              "102391       Business-af19       Location-4ea1         0      1050.0  \n",
              "105954       Business-54c5       Location-f37d         0       135.0  \n",
              "110094       Business-14ca       Location-c2f2         0      1420.0  \n",
              "117450       Business-b07b       Location-f37d         0      6580.0  \n",
              "131169       Business-4a11       Location-e2f8         0      1205.0  \n",
              "137288       Business-fe37       Location-3e32         0      1340.0  \n",
              "138688       Business-0523       Location-3e32         0      1900.0  \n",
              "143014       Business-978e       Location-1c33         0       960.0  \n",
              "143015       Business-978e       Location-1c33         0      1310.0  \n",
              "143017       Business-978e       Location-1c33         0      1830.0  \n",
              "155548       Business-659d       Location-689f         0      1840.0  \n",
              "187931       Business-d7c6       Location-3e32         0         2.0  \n",
              "195936       Business-18fe       Location-e2f8         0      6180.0  \n",
              "199249       Business-2213       Location-3fc0         0      2420.0  \n",
              "200117       Business-37ea       Location-e2f8         0      1940.0  \n",
              "211226       Business-e41e       Location-1ba8         0      2755.0  \n",
              "221754       Business-1269       Location-f37d         0      4050.0  \n",
              "222851       Business-88e8       Location-c2f2         0      3550.0  \n",
              "223039       Business-5620       Location-1979         0      5990.0  \n",
              "237603       Business-d26f       Location-1979         0      3880.0  \n",
              "237604       Business-d26f       Location-1979         0       438.0  \n",
              "240937       Business-7c29       Location-e2f8         0      1530.0  \n",
              "245466       Business-06ba       Location-3e32         0      3330.0  \n",
              "252796       Business-cc1e       Location-d1a8         0      6470.0  \n",
              "258779       Business-2ec4       Location-f37d         0      6176.0  \n",
              "278183       Business-0523       Location-3e32         0      1900.0  \n",
              "293397       Business-0523       Location-3e32         0      1660.0  \n",
              "299788       Business-2366       Location-689f         0       680.0  \n",
              "310150       Business-c192       Location-1979         0      4020.0  \n",
              "329123       Business-aac2       Location-4ea1         0      4890.0  "
            ],
            "text/html": [
              "\n",
              "  <div id=\"df-da6f5036-e037-45bf-82b8-d902173da9e6\" class=\"colab-df-container\">\n",
              "    <div>\n",
              "<style scoped>\n",
              "    .dataframe tbody tr th:only-of-type {\n",
              "        vertical-align: middle;\n",
              "    }\n",
              "\n",
              "    .dataframe tbody tr th {\n",
              "        vertical-align: top;\n",
              "    }\n",
              "\n",
              "    .dataframe thead th {\n",
              "        text-align: right;\n",
              "    }\n",
              "</style>\n",
              "<table border=\"1\" class=\"dataframe\">\n",
              "  <thead>\n",
              "    <tr style=\"text-align: right;\">\n",
              "      <th></th>\n",
              "      <th>DATE</th>\n",
              "      <th>ANONYMIZED CATEGORY</th>\n",
              "      <th>ANONYMIZED PRODUCT</th>\n",
              "      <th>ANONYMIZED BUSINESS</th>\n",
              "      <th>ANONYMIZED LOCATION</th>\n",
              "      <th>QUANTITY</th>\n",
              "      <th>UNIT PRICE</th>\n",
              "    </tr>\n",
              "  </thead>\n",
              "  <tbody>\n",
              "    <tr>\n",
              "      <th>19828</th>\n",
              "      <td>2024-12-20 21:07:00</td>\n",
              "      <td>Category-113</td>\n",
              "      <td>Product-6342</td>\n",
              "      <td>Business-4305</td>\n",
              "      <td>Location-3e32</td>\n",
              "      <td>0</td>\n",
              "      <td>2.0</td>\n",
              "    </tr>\n",
              "    <tr>\n",
              "      <th>48930</th>\n",
              "      <td>2024-06-02 10:18:00</td>\n",
              "      <td>Category-75</td>\n",
              "      <td>Product-4832</td>\n",
              "      <td>Business-195b</td>\n",
              "      <td>Location-c86b</td>\n",
              "      <td>0</td>\n",
              "      <td>3880.0</td>\n",
              "    </tr>\n",
              "    <tr>\n",
              "      <th>48931</th>\n",
              "      <td>2024-06-02 10:18:00</td>\n",
              "      <td>Category-75</td>\n",
              "      <td>Product-6aa1</td>\n",
              "      <td>Business-195b</td>\n",
              "      <td>Location-c86b</td>\n",
              "      <td>0</td>\n",
              "      <td>1960.0</td>\n",
              "    </tr>\n",
              "    <tr>\n",
              "      <th>48932</th>\n",
              "      <td>2024-06-02 10:18:00</td>\n",
              "      <td>Category-100</td>\n",
              "      <td>Product-f3ee</td>\n",
              "      <td>Business-195b</td>\n",
              "      <td>Location-c86b</td>\n",
              "      <td>0</td>\n",
              "      <td>2045.0</td>\n",
              "    </tr>\n",
              "    <tr>\n",
              "      <th>60118</th>\n",
              "      <td>2024-06-14 11:11:00</td>\n",
              "      <td>Category-120</td>\n",
              "      <td>Product-14f3</td>\n",
              "      <td>Business-1b8b</td>\n",
              "      <td>Location-c2f2</td>\n",
              "      <td>0</td>\n",
              "      <td>1850.0</td>\n",
              "    </tr>\n",
              "    <tr>\n",
              "      <th>63254</th>\n",
              "      <td>2024-05-09 14:06:00</td>\n",
              "      <td>Category-75</td>\n",
              "      <td>Product-8b33</td>\n",
              "      <td>Business-2592</td>\n",
              "      <td>Location-9149</td>\n",
              "      <td>0</td>\n",
              "      <td>2135.0</td>\n",
              "    </tr>\n",
              "    <tr>\n",
              "      <th>67161</th>\n",
              "      <td>2024-07-02 13:45:00</td>\n",
              "      <td>Category-78</td>\n",
              "      <td>Product-b409</td>\n",
              "      <td>Business-54ac</td>\n",
              "      <td>Location-e2f8</td>\n",
              "      <td>0</td>\n",
              "      <td>750.0</td>\n",
              "    </tr>\n",
              "    <tr>\n",
              "      <th>90630</th>\n",
              "      <td>2024-06-07 21:06:00</td>\n",
              "      <td>Category-78</td>\n",
              "      <td>Product-b409</td>\n",
              "      <td>Business-5e1d</td>\n",
              "      <td>Location-d32a</td>\n",
              "      <td>0</td>\n",
              "      <td>750.0</td>\n",
              "    </tr>\n",
              "    <tr>\n",
              "      <th>100956</th>\n",
              "      <td>2024-06-11 09:10:00</td>\n",
              "      <td>Category-120</td>\n",
              "      <td>Product-83fd</td>\n",
              "      <td>Business-5cac</td>\n",
              "      <td>Location-e2f8</td>\n",
              "      <td>0</td>\n",
              "      <td>1860.0</td>\n",
              "    </tr>\n",
              "    <tr>\n",
              "      <th>102391</th>\n",
              "      <td>2024-06-05 12:09:00</td>\n",
              "      <td>Category-105</td>\n",
              "      <td>Product-acb9</td>\n",
              "      <td>Business-af19</td>\n",
              "      <td>Location-4ea1</td>\n",
              "      <td>0</td>\n",
              "      <td>1050.0</td>\n",
              "    </tr>\n",
              "    <tr>\n",
              "      <th>105954</th>\n",
              "      <td>2024-06-07 21:22:00</td>\n",
              "      <td>Category-91</td>\n",
              "      <td>Product-16bb</td>\n",
              "      <td>Business-54c5</td>\n",
              "      <td>Location-f37d</td>\n",
              "      <td>0</td>\n",
              "      <td>135.0</td>\n",
              "    </tr>\n",
              "    <tr>\n",
              "      <th>110094</th>\n",
              "      <td>2024-04-07 21:58:00</td>\n",
              "      <td>Category-85</td>\n",
              "      <td>Product-e650</td>\n",
              "      <td>Business-14ca</td>\n",
              "      <td>Location-c2f2</td>\n",
              "      <td>0</td>\n",
              "      <td>1420.0</td>\n",
              "    </tr>\n",
              "    <tr>\n",
              "      <th>117450</th>\n",
              "      <td>2024-06-10 12:40:00</td>\n",
              "      <td>Category-113</td>\n",
              "      <td>Product-a030</td>\n",
              "      <td>Business-b07b</td>\n",
              "      <td>Location-f37d</td>\n",
              "      <td>0</td>\n",
              "      <td>6580.0</td>\n",
              "    </tr>\n",
              "    <tr>\n",
              "      <th>131169</th>\n",
              "      <td>2024-07-03 18:59:00</td>\n",
              "      <td>Category-85</td>\n",
              "      <td>Product-0c64</td>\n",
              "      <td>Business-4a11</td>\n",
              "      <td>Location-e2f8</td>\n",
              "      <td>0</td>\n",
              "      <td>1205.0</td>\n",
              "    </tr>\n",
              "    <tr>\n",
              "      <th>137288</th>\n",
              "      <td>2024-05-10 13:34:00</td>\n",
              "      <td>Category-85</td>\n",
              "      <td>Product-0331</td>\n",
              "      <td>Business-fe37</td>\n",
              "      <td>Location-3e32</td>\n",
              "      <td>0</td>\n",
              "      <td>1340.0</td>\n",
              "    </tr>\n",
              "    <tr>\n",
              "      <th>138688</th>\n",
              "      <td>2024-12-31 11:29:00</td>\n",
              "      <td>Category-120</td>\n",
              "      <td>Product-4156</td>\n",
              "      <td>Business-0523</td>\n",
              "      <td>Location-3e32</td>\n",
              "      <td>0</td>\n",
              "      <td>1900.0</td>\n",
              "    </tr>\n",
              "    <tr>\n",
              "      <th>143014</th>\n",
              "      <td>2024-03-04 15:17:00</td>\n",
              "      <td>Category-85</td>\n",
              "      <td>Product-6859</td>\n",
              "      <td>Business-978e</td>\n",
              "      <td>Location-1c33</td>\n",
              "      <td>0</td>\n",
              "      <td>960.0</td>\n",
              "    </tr>\n",
              "    <tr>\n",
              "      <th>143015</th>\n",
              "      <td>2024-03-04 15:25:00</td>\n",
              "      <td>Category-85</td>\n",
              "      <td>Product-86ab</td>\n",
              "      <td>Business-978e</td>\n",
              "      <td>Location-1c33</td>\n",
              "      <td>0</td>\n",
              "      <td>1310.0</td>\n",
              "    </tr>\n",
              "    <tr>\n",
              "      <th>143017</th>\n",
              "      <td>2024-03-04 15:16:00</td>\n",
              "      <td>Category-101</td>\n",
              "      <td>Product-fd67</td>\n",
              "      <td>Business-978e</td>\n",
              "      <td>Location-1c33</td>\n",
              "      <td>0</td>\n",
              "      <td>1830.0</td>\n",
              "    </tr>\n",
              "    <tr>\n",
              "      <th>155548</th>\n",
              "      <td>2024-06-25 11:32:00</td>\n",
              "      <td>Category-120</td>\n",
              "      <td>Product-3050</td>\n",
              "      <td>Business-659d</td>\n",
              "      <td>Location-689f</td>\n",
              "      <td>0</td>\n",
              "      <td>1840.0</td>\n",
              "    </tr>\n",
              "    <tr>\n",
              "      <th>187931</th>\n",
              "      <td>2024-12-19 22:03:00</td>\n",
              "      <td>Category-113</td>\n",
              "      <td>Product-6342</td>\n",
              "      <td>Business-d7c6</td>\n",
              "      <td>Location-3e32</td>\n",
              "      <td>0</td>\n",
              "      <td>2.0</td>\n",
              "    </tr>\n",
              "    <tr>\n",
              "      <th>195936</th>\n",
              "      <td>2024-05-17 09:59:00</td>\n",
              "      <td>Category-76</td>\n",
              "      <td>Product-e805</td>\n",
              "      <td>Business-18fe</td>\n",
              "      <td>Location-e2f8</td>\n",
              "      <td>0</td>\n",
              "      <td>6180.0</td>\n",
              "    </tr>\n",
              "    <tr>\n",
              "      <th>199249</th>\n",
              "      <td>2024-12-09 21:18:00</td>\n",
              "      <td>Category-77</td>\n",
              "      <td>Product-5067</td>\n",
              "      <td>Business-2213</td>\n",
              "      <td>Location-3fc0</td>\n",
              "      <td>0</td>\n",
              "      <td>2420.0</td>\n",
              "    </tr>\n",
              "    <tr>\n",
              "      <th>200117</th>\n",
              "      <td>2024-05-20 09:05:00</td>\n",
              "      <td>Category-120</td>\n",
              "      <td>Product-3050</td>\n",
              "      <td>Business-37ea</td>\n",
              "      <td>Location-e2f8</td>\n",
              "      <td>0</td>\n",
              "      <td>1940.0</td>\n",
              "    </tr>\n",
              "    <tr>\n",
              "      <th>211226</th>\n",
              "      <td>2024-06-02 23:26:00</td>\n",
              "      <td>Category-76</td>\n",
              "      <td>Product-6e9c</td>\n",
              "      <td>Business-e41e</td>\n",
              "      <td>Location-1ba8</td>\n",
              "      <td>0</td>\n",
              "      <td>2755.0</td>\n",
              "    </tr>\n",
              "    <tr>\n",
              "      <th>221754</th>\n",
              "      <td>2024-06-10 11:13:00</td>\n",
              "      <td>Category-75</td>\n",
              "      <td>Product-faa5</td>\n",
              "      <td>Business-1269</td>\n",
              "      <td>Location-f37d</td>\n",
              "      <td>0</td>\n",
              "      <td>4050.0</td>\n",
              "    </tr>\n",
              "    <tr>\n",
              "      <th>222851</th>\n",
              "      <td>2024-05-16 11:22:00</td>\n",
              "      <td>Category-85</td>\n",
              "      <td>Product-114f</td>\n",
              "      <td>Business-88e8</td>\n",
              "      <td>Location-c2f2</td>\n",
              "      <td>0</td>\n",
              "      <td>3550.0</td>\n",
              "    </tr>\n",
              "    <tr>\n",
              "      <th>223039</th>\n",
              "      <td>2024-06-11 13:21:00</td>\n",
              "      <td>Category-76</td>\n",
              "      <td>Product-e805</td>\n",
              "      <td>Business-5620</td>\n",
              "      <td>Location-1979</td>\n",
              "      <td>0</td>\n",
              "      <td>5990.0</td>\n",
              "    </tr>\n",
              "    <tr>\n",
              "      <th>237603</th>\n",
              "      <td>2024-05-28 15:22:00</td>\n",
              "      <td>Category-75</td>\n",
              "      <td>Product-8f75</td>\n",
              "      <td>Business-d26f</td>\n",
              "      <td>Location-1979</td>\n",
              "      <td>0</td>\n",
              "      <td>3880.0</td>\n",
              "    </tr>\n",
              "    <tr>\n",
              "      <th>237604</th>\n",
              "      <td>2024-05-28 15:22:00</td>\n",
              "      <td>Category-110</td>\n",
              "      <td>Product-a325</td>\n",
              "      <td>Business-d26f</td>\n",
              "      <td>Location-1979</td>\n",
              "      <td>0</td>\n",
              "      <td>438.0</td>\n",
              "    </tr>\n",
              "    <tr>\n",
              "      <th>240937</th>\n",
              "      <td>2024-06-04 18:24:00</td>\n",
              "      <td>Category-107</td>\n",
              "      <td>Product-8d56</td>\n",
              "      <td>Business-7c29</td>\n",
              "      <td>Location-e2f8</td>\n",
              "      <td>0</td>\n",
              "      <td>1530.0</td>\n",
              "    </tr>\n",
              "    <tr>\n",
              "      <th>245466</th>\n",
              "      <td>2024-05-06 17:39:00</td>\n",
              "      <td>Category-121</td>\n",
              "      <td>Product-57c1</td>\n",
              "      <td>Business-06ba</td>\n",
              "      <td>Location-3e32</td>\n",
              "      <td>0</td>\n",
              "      <td>3330.0</td>\n",
              "    </tr>\n",
              "    <tr>\n",
              "      <th>252796</th>\n",
              "      <td>2024-03-05 00:03:00</td>\n",
              "      <td>Category-76</td>\n",
              "      <td>Product-113e</td>\n",
              "      <td>Business-cc1e</td>\n",
              "      <td>Location-d1a8</td>\n",
              "      <td>0</td>\n",
              "      <td>6470.0</td>\n",
              "    </tr>\n",
              "    <tr>\n",
              "      <th>258779</th>\n",
              "      <td>2024-05-13 12:15:00</td>\n",
              "      <td>Category-76</td>\n",
              "      <td>Product-e805</td>\n",
              "      <td>Business-2ec4</td>\n",
              "      <td>Location-f37d</td>\n",
              "      <td>0</td>\n",
              "      <td>6176.0</td>\n",
              "    </tr>\n",
              "    <tr>\n",
              "      <th>278183</th>\n",
              "      <td>2024-12-31 11:29:00</td>\n",
              "      <td>Category-120</td>\n",
              "      <td>Product-4156</td>\n",
              "      <td>Business-0523</td>\n",
              "      <td>Location-3e32</td>\n",
              "      <td>0</td>\n",
              "      <td>1900.0</td>\n",
              "    </tr>\n",
              "    <tr>\n",
              "      <th>293397</th>\n",
              "      <td>2024-12-31 11:28:00</td>\n",
              "      <td>Category-120</td>\n",
              "      <td>Product-83fd</td>\n",
              "      <td>Business-0523</td>\n",
              "      <td>Location-3e32</td>\n",
              "      <td>0</td>\n",
              "      <td>1660.0</td>\n",
              "    </tr>\n",
              "    <tr>\n",
              "      <th>299788</th>\n",
              "      <td>2024-12-29 20:02:00</td>\n",
              "      <td>Category-84</td>\n",
              "      <td>Product-ee8b</td>\n",
              "      <td>Business-2366</td>\n",
              "      <td>Location-689f</td>\n",
              "      <td>0</td>\n",
              "      <td>680.0</td>\n",
              "    </tr>\n",
              "    <tr>\n",
              "      <th>310150</th>\n",
              "      <td>2024-05-18 13:58:00</td>\n",
              "      <td>Category-75</td>\n",
              "      <td>Product-8f75</td>\n",
              "      <td>Business-c192</td>\n",
              "      <td>Location-1979</td>\n",
              "      <td>0</td>\n",
              "      <td>4020.0</td>\n",
              "    </tr>\n",
              "    <tr>\n",
              "      <th>329123</th>\n",
              "      <td>2024-12-01 19:49:00</td>\n",
              "      <td>Category-75</td>\n",
              "      <td>Product-2175</td>\n",
              "      <td>Business-aac2</td>\n",
              "      <td>Location-4ea1</td>\n",
              "      <td>0</td>\n",
              "      <td>4890.0</td>\n",
              "    </tr>\n",
              "  </tbody>\n",
              "</table>\n",
              "</div>\n",
              "    <div class=\"colab-df-buttons\">\n",
              "\n",
              "  <div class=\"colab-df-container\">\n",
              "    <button class=\"colab-df-convert\" onclick=\"convertToInteractive('df-da6f5036-e037-45bf-82b8-d902173da9e6')\"\n",
              "            title=\"Convert this dataframe to an interactive table.\"\n",
              "            style=\"display:none;\">\n",
              "\n",
              "  <svg xmlns=\"http://www.w3.org/2000/svg\" height=\"24px\" viewBox=\"0 -960 960 960\">\n",
              "    <path d=\"M120-120v-720h720v720H120Zm60-500h600v-160H180v160Zm220 220h160v-160H400v160Zm0 220h160v-160H400v160ZM180-400h160v-160H180v160Zm440 0h160v-160H620v160ZM180-180h160v-160H180v160Zm440 0h160v-160H620v160Z\"/>\n",
              "  </svg>\n",
              "    </button>\n",
              "\n",
              "  <style>\n",
              "    .colab-df-container {\n",
              "      display:flex;\n",
              "      gap: 12px;\n",
              "    }\n",
              "\n",
              "    .colab-df-convert {\n",
              "      background-color: #E8F0FE;\n",
              "      border: none;\n",
              "      border-radius: 50%;\n",
              "      cursor: pointer;\n",
              "      display: none;\n",
              "      fill: #1967D2;\n",
              "      height: 32px;\n",
              "      padding: 0 0 0 0;\n",
              "      width: 32px;\n",
              "    }\n",
              "\n",
              "    .colab-df-convert:hover {\n",
              "      background-color: #E2EBFA;\n",
              "      box-shadow: 0px 1px 2px rgba(60, 64, 67, 0.3), 0px 1px 3px 1px rgba(60, 64, 67, 0.15);\n",
              "      fill: #174EA6;\n",
              "    }\n",
              "\n",
              "    .colab-df-buttons div {\n",
              "      margin-bottom: 4px;\n",
              "    }\n",
              "\n",
              "    [theme=dark] .colab-df-convert {\n",
              "      background-color: #3B4455;\n",
              "      fill: #D2E3FC;\n",
              "    }\n",
              "\n",
              "    [theme=dark] .colab-df-convert:hover {\n",
              "      background-color: #434B5C;\n",
              "      box-shadow: 0px 1px 3px 1px rgba(0, 0, 0, 0.15);\n",
              "      filter: drop-shadow(0px 1px 2px rgba(0, 0, 0, 0.3));\n",
              "      fill: #FFFFFF;\n",
              "    }\n",
              "  </style>\n",
              "\n",
              "    <script>\n",
              "      const buttonEl =\n",
              "        document.querySelector('#df-da6f5036-e037-45bf-82b8-d902173da9e6 button.colab-df-convert');\n",
              "      buttonEl.style.display =\n",
              "        google.colab.kernel.accessAllowed ? 'block' : 'none';\n",
              "\n",
              "      async function convertToInteractive(key) {\n",
              "        const element = document.querySelector('#df-da6f5036-e037-45bf-82b8-d902173da9e6');\n",
              "        const dataTable =\n",
              "          await google.colab.kernel.invokeFunction('convertToInteractive',\n",
              "                                                    [key], {});\n",
              "        if (!dataTable) return;\n",
              "\n",
              "        const docLinkHtml = 'Like what you see? Visit the ' +\n",
              "          '<a target=\"_blank\" href=https://colab.research.google.com/notebooks/data_table.ipynb>data table notebook</a>'\n",
              "          + ' to learn more about interactive tables.';\n",
              "        element.innerHTML = '';\n",
              "        dataTable['output_type'] = 'display_data';\n",
              "        await google.colab.output.renderOutput(dataTable, element);\n",
              "        const docLink = document.createElement('div');\n",
              "        docLink.innerHTML = docLinkHtml;\n",
              "        element.appendChild(docLink);\n",
              "      }\n",
              "    </script>\n",
              "  </div>\n",
              "\n",
              "\n",
              "<div id=\"df-5b45f4e6-8128-4d5d-acec-cef84491de45\">\n",
              "  <button class=\"colab-df-quickchart\" onclick=\"quickchart('df-5b45f4e6-8128-4d5d-acec-cef84491de45')\"\n",
              "            title=\"Suggest charts\"\n",
              "            style=\"display:none;\">\n",
              "\n",
              "<svg xmlns=\"http://www.w3.org/2000/svg\" height=\"24px\"viewBox=\"0 0 24 24\"\n",
              "     width=\"24px\">\n",
              "    <g>\n",
              "        <path d=\"M19 3H5c-1.1 0-2 .9-2 2v14c0 1.1.9 2 2 2h14c1.1 0 2-.9 2-2V5c0-1.1-.9-2-2-2zM9 17H7v-7h2v7zm4 0h-2V7h2v10zm4 0h-2v-4h2v4z\"/>\n",
              "    </g>\n",
              "</svg>\n",
              "  </button>\n",
              "\n",
              "<style>\n",
              "  .colab-df-quickchart {\n",
              "      --bg-color: #E8F0FE;\n",
              "      --fill-color: #1967D2;\n",
              "      --hover-bg-color: #E2EBFA;\n",
              "      --hover-fill-color: #174EA6;\n",
              "      --disabled-fill-color: #AAA;\n",
              "      --disabled-bg-color: #DDD;\n",
              "  }\n",
              "\n",
              "  [theme=dark] .colab-df-quickchart {\n",
              "      --bg-color: #3B4455;\n",
              "      --fill-color: #D2E3FC;\n",
              "      --hover-bg-color: #434B5C;\n",
              "      --hover-fill-color: #FFFFFF;\n",
              "      --disabled-bg-color: #3B4455;\n",
              "      --disabled-fill-color: #666;\n",
              "  }\n",
              "\n",
              "  .colab-df-quickchart {\n",
              "    background-color: var(--bg-color);\n",
              "    border: none;\n",
              "    border-radius: 50%;\n",
              "    cursor: pointer;\n",
              "    display: none;\n",
              "    fill: var(--fill-color);\n",
              "    height: 32px;\n",
              "    padding: 0;\n",
              "    width: 32px;\n",
              "  }\n",
              "\n",
              "  .colab-df-quickchart:hover {\n",
              "    background-color: var(--hover-bg-color);\n",
              "    box-shadow: 0 1px 2px rgba(60, 64, 67, 0.3), 0 1px 3px 1px rgba(60, 64, 67, 0.15);\n",
              "    fill: var(--button-hover-fill-color);\n",
              "  }\n",
              "\n",
              "  .colab-df-quickchart-complete:disabled,\n",
              "  .colab-df-quickchart-complete:disabled:hover {\n",
              "    background-color: var(--disabled-bg-color);\n",
              "    fill: var(--disabled-fill-color);\n",
              "    box-shadow: none;\n",
              "  }\n",
              "\n",
              "  .colab-df-spinner {\n",
              "    border: 2px solid var(--fill-color);\n",
              "    border-color: transparent;\n",
              "    border-bottom-color: var(--fill-color);\n",
              "    animation:\n",
              "      spin 1s steps(1) infinite;\n",
              "  }\n",
              "\n",
              "  @keyframes spin {\n",
              "    0% {\n",
              "      border-color: transparent;\n",
              "      border-bottom-color: var(--fill-color);\n",
              "      border-left-color: var(--fill-color);\n",
              "    }\n",
              "    20% {\n",
              "      border-color: transparent;\n",
              "      border-left-color: var(--fill-color);\n",
              "      border-top-color: var(--fill-color);\n",
              "    }\n",
              "    30% {\n",
              "      border-color: transparent;\n",
              "      border-left-color: var(--fill-color);\n",
              "      border-top-color: var(--fill-color);\n",
              "      border-right-color: var(--fill-color);\n",
              "    }\n",
              "    40% {\n",
              "      border-color: transparent;\n",
              "      border-right-color: var(--fill-color);\n",
              "      border-top-color: var(--fill-color);\n",
              "    }\n",
              "    60% {\n",
              "      border-color: transparent;\n",
              "      border-right-color: var(--fill-color);\n",
              "    }\n",
              "    80% {\n",
              "      border-color: transparent;\n",
              "      border-right-color: var(--fill-color);\n",
              "      border-bottom-color: var(--fill-color);\n",
              "    }\n",
              "    90% {\n",
              "      border-color: transparent;\n",
              "      border-bottom-color: var(--fill-color);\n",
              "    }\n",
              "  }\n",
              "</style>\n",
              "\n",
              "  <script>\n",
              "    async function quickchart(key) {\n",
              "      const quickchartButtonEl =\n",
              "        document.querySelector('#' + key + ' button');\n",
              "      quickchartButtonEl.disabled = true;  // To prevent multiple clicks.\n",
              "      quickchartButtonEl.classList.add('colab-df-spinner');\n",
              "      try {\n",
              "        const charts = await google.colab.kernel.invokeFunction(\n",
              "            'suggestCharts', [key], {});\n",
              "      } catch (error) {\n",
              "        console.error('Error during call to suggestCharts:', error);\n",
              "      }\n",
              "      quickchartButtonEl.classList.remove('colab-df-spinner');\n",
              "      quickchartButtonEl.classList.add('colab-df-quickchart-complete');\n",
              "    }\n",
              "    (() => {\n",
              "      let quickchartButtonEl =\n",
              "        document.querySelector('#df-5b45f4e6-8128-4d5d-acec-cef84491de45 button');\n",
              "      quickchartButtonEl.style.display =\n",
              "        google.colab.kernel.accessAllowed ? 'block' : 'none';\n",
              "    })();\n",
              "  </script>\n",
              "</div>\n",
              "\n",
              "    </div>\n",
              "  </div>\n"
            ],
            "application/vnd.google.colaboratory.intrinsic+json": {
              "type": "dataframe",
              "summary": "{\n  \"name\": \"data[data['QUANTITY'] == 0]\",\n  \"rows\": 39,\n  \"fields\": [\n    {\n      \"column\": \"DATE\",\n      \"properties\": {\n        \"dtype\": \"date\",\n        \"min\": \"2024-03-04 15:16:00\",\n        \"max\": \"2024-12-31 11:29:00\",\n        \"num_unique_values\": 35,\n        \"samples\": [\n          \"2024-05-28 15:22:00\",\n          \"2024-12-31 11:29:00\",\n          \"2024-05-16 11:22:00\"\n        ],\n        \"semantic_type\": \"\",\n        \"description\": \"\"\n      }\n    },\n    {\n      \"column\": \"ANONYMIZED CATEGORY\",\n      \"properties\": {\n        \"dtype\": \"category\",\n        \"num_unique_values\": 15,\n        \"samples\": [\n          \"Category-76\",\n          \"Category-110\",\n          \"Category-113\"\n        ],\n        \"semantic_type\": \"\",\n        \"description\": \"\"\n      }\n    },\n    {\n      \"column\": \"ANONYMIZED PRODUCT\",\n      \"properties\": {\n        \"dtype\": \"string\",\n        \"num_unique_values\": 31,\n        \"samples\": [\n          \"Product-57c1\",\n          \"Product-6859\",\n          \"Product-114f\"\n        ],\n        \"semantic_type\": \"\",\n        \"description\": \"\"\n      }\n    },\n    {\n      \"column\": \"ANONYMIZED BUSINESS\",\n      \"properties\": {\n        \"dtype\": \"string\",\n        \"num_unique_values\": 32,\n        \"samples\": [\n          \"Business-2366\",\n          \"Business-659d\",\n          \"Business-d26f\"\n        ],\n        \"semantic_type\": \"\",\n        \"description\": \"\"\n      }\n    },\n    {\n      \"column\": \"ANONYMIZED LOCATION\",\n      \"properties\": {\n        \"dtype\": \"category\",\n        \"num_unique_values\": 14,\n        \"samples\": [\n          \"Location-689f\",\n          \"Location-1ba8\",\n          \"Location-3e32\"\n        ],\n        \"semantic_type\": \"\",\n        \"description\": \"\"\n      }\n    },\n    {\n      \"column\": \"QUANTITY\",\n      \"properties\": {\n        \"dtype\": \"number\",\n        \"std\": 0,\n        \"min\": 0,\n        \"max\": 0,\n        \"num_unique_values\": 1,\n        \"samples\": [\n          0\n        ],\n        \"semantic_type\": \"\",\n        \"description\": \"\"\n      }\n    },\n    {\n      \"column\": \"UNIT PRICE\",\n      \"properties\": {\n        \"dtype\": \"number\",\n        \"std\": 1881.9900559913171,\n        \"min\": 2.0,\n        \"max\": 6580.0,\n        \"num_unique_values\": 35,\n        \"samples\": [\n          438.0\n        ],\n        \"semantic_type\": \"\",\n        \"description\": \"\"\n      }\n    }\n  ]\n}"
            }
          },
          "metadata": {},
          "execution_count": 56
        }
      ]
    },
    {
      "cell_type": "code",
      "source": [
        "#Checking number of rows where QUANTITY=0\n",
        "data[data['QUANTITY'] == 0].shape"
      ],
      "metadata": {
        "colab": {
          "base_uri": "https://localhost:8080/"
        },
        "id": "qDTEPwyiIdC-",
        "outputId": "4172dbd0-5302-4fb2-bd54-f31fce92440f"
      },
      "execution_count": null,
      "outputs": [
        {
          "output_type": "execute_result",
          "data": {
            "text/plain": [
              "(39, 7)"
            ]
          },
          "metadata": {},
          "execution_count": 57
        }
      ]
    },
    {
      "cell_type": "markdown",
      "source": [
        "We have 39 rows where Quantity is 0.\n",
        "\n",
        "This error could only be precisely handled at the data entry point. To keep the rows, we can only assume that the quantity is 1, as it is the minimum a customer can buy."
      ],
      "metadata": {
        "id": "2gapQm1tIjls"
      }
    },
    {
      "cell_type": "code",
      "source": [
        "#Replacing values where Quantity=0 with Quantity=1\n",
        "data.loc[data['QUANTITY'] == 0, 'QUANTITY'] = 1"
      ],
      "metadata": {
        "id": "65cDcdS6JkkJ"
      },
      "execution_count": null,
      "outputs": []
    },
    {
      "cell_type": "code",
      "source": [
        "#Checking if we have no rows where QUANTITY=0\n",
        "data[data['QUANTITY'] == 0].shape"
      ],
      "metadata": {
        "colab": {
          "base_uri": "https://localhost:8080/"
        },
        "id": "MGJsOQBeJxuQ",
        "outputId": "f5bc3575-f88c-4be3-ac3e-9d53bc2d4787"
      },
      "execution_count": null,
      "outputs": [
        {
          "output_type": "execute_result",
          "data": {
            "text/plain": [
              "(0, 7)"
            ]
          },
          "metadata": {},
          "execution_count": 59
        }
      ]
    },
    {
      "cell_type": "markdown",
      "source": [
        "## Handling Duplicates"
      ],
      "metadata": {
        "id": "bfo_cjnePceZ"
      }
    },
    {
      "cell_type": "code",
      "source": [
        "#Checking duplicates\n",
        "data.duplicated().sum()"
      ],
      "metadata": {
        "colab": {
          "base_uri": "https://localhost:8080/"
        },
        "id": "XqU31gnLPhfy",
        "outputId": "ecd9b920-0544-4e34-fb9a-e72ea595c338"
      },
      "execution_count": null,
      "outputs": [
        {
          "output_type": "execute_result",
          "data": {
            "text/plain": [
              "3524"
            ]
          },
          "metadata": {},
          "execution_count": 60
        }
      ]
    },
    {
      "cell_type": "markdown",
      "source": [
        "We see that we have 3524 duplicates, which we need to drop."
      ],
      "metadata": {
        "id": "jPKa8Tl1yEkI"
      }
    },
    {
      "cell_type": "code",
      "source": [
        "#Dropping duplicates\n",
        "data.drop_duplicates(inplace=True)"
      ],
      "metadata": {
        "id": "LmAVcdsSPuUF"
      },
      "execution_count": null,
      "outputs": []
    },
    {
      "cell_type": "code",
      "source": [
        "#Confirming that the rows have been dropped\n",
        "data.shape"
      ],
      "metadata": {
        "colab": {
          "base_uri": "https://localhost:8080/"
        },
        "id": "sHQJ5s7aP0WH",
        "outputId": "49fa2322-9c60-4eca-8f4f-3e4fca6a15c0"
      },
      "execution_count": null,
      "outputs": [
        {
          "output_type": "execute_result",
          "data": {
            "text/plain": [
              "(329878, 7)"
            ]
          },
          "metadata": {},
          "execution_count": 62
        }
      ]
    },
    {
      "cell_type": "markdown",
      "source": [
        "The shape of the data shows that the 3524 duplicates have been dropped."
      ],
      "metadata": {
        "id": "4ntjiV6gyW6W"
      }
    },
    {
      "cell_type": "markdown",
      "source": [
        "## Feature Engineering"
      ],
      "metadata": {
        "id": "UgUs0Te2QsJO"
      }
    },
    {
      "cell_type": "markdown",
      "source": [
        "### Creating the Month_Year Column"
      ],
      "metadata": {
        "id": "5nf8ksyeytM0"
      }
    },
    {
      "cell_type": "code",
      "source": [
        "# Create a new column Month_Year with short-form months\n",
        "data['Month_Year'] = pd.to_datetime(data['DATE']).dt.strftime('%b %Y')"
      ],
      "metadata": {
        "id": "wDfHJgZ8Vhog"
      },
      "execution_count": null,
      "outputs": []
    },
    {
      "cell_type": "code",
      "source": [
        "#Viewing the data to confirm creation of Month_Year column\n",
        "data.head()"
      ],
      "metadata": {
        "id": "KfRbpZsLrSum",
        "outputId": "88ff4b4d-6475-443d-d35a-4872b05611a6",
        "colab": {
          "base_uri": "https://localhost:8080/",
          "height": 206
        }
      },
      "execution_count": null,
      "outputs": [
        {
          "output_type": "execute_result",
          "data": {
            "text/plain": [
              "                 DATE ANONYMIZED CATEGORY ANONYMIZED PRODUCT  \\\n",
              "0 2024-08-18 21:32:00        Category-106       Product-21f4   \n",
              "1 2024-08-18 21:32:00        Category-120       Product-4156   \n",
              "2 2024-08-18 21:32:00        Category-121       Product-49bd   \n",
              "3 2024-08-18 21:32:00         Category-76       Product-61dd   \n",
              "4 2024-08-18 21:32:00        Category-119       Product-66e0   \n",
              "\n",
              "  ANONYMIZED BUSINESS ANONYMIZED LOCATION  QUANTITY  UNIT PRICE Month_Year  \n",
              "0       Business-de42       Location-1ba8         1       850.0   Aug 2024  \n",
              "1       Business-de42       Location-1ba8         2      1910.0   Aug 2024  \n",
              "2       Business-de42       Location-1ba8         1      3670.0   Aug 2024  \n",
              "3       Business-de42       Location-1ba8         1      2605.0   Aug 2024  \n",
              "4       Business-de42       Location-1ba8         5      1480.0   Aug 2024  "
            ],
            "text/html": [
              "\n",
              "  <div id=\"df-99ae842b-5d5a-4a0f-be5b-97d252dd1882\" class=\"colab-df-container\">\n",
              "    <div>\n",
              "<style scoped>\n",
              "    .dataframe tbody tr th:only-of-type {\n",
              "        vertical-align: middle;\n",
              "    }\n",
              "\n",
              "    .dataframe tbody tr th {\n",
              "        vertical-align: top;\n",
              "    }\n",
              "\n",
              "    .dataframe thead th {\n",
              "        text-align: right;\n",
              "    }\n",
              "</style>\n",
              "<table border=\"1\" class=\"dataframe\">\n",
              "  <thead>\n",
              "    <tr style=\"text-align: right;\">\n",
              "      <th></th>\n",
              "      <th>DATE</th>\n",
              "      <th>ANONYMIZED CATEGORY</th>\n",
              "      <th>ANONYMIZED PRODUCT</th>\n",
              "      <th>ANONYMIZED BUSINESS</th>\n",
              "      <th>ANONYMIZED LOCATION</th>\n",
              "      <th>QUANTITY</th>\n",
              "      <th>UNIT PRICE</th>\n",
              "      <th>Month_Year</th>\n",
              "    </tr>\n",
              "  </thead>\n",
              "  <tbody>\n",
              "    <tr>\n",
              "      <th>0</th>\n",
              "      <td>2024-08-18 21:32:00</td>\n",
              "      <td>Category-106</td>\n",
              "      <td>Product-21f4</td>\n",
              "      <td>Business-de42</td>\n",
              "      <td>Location-1ba8</td>\n",
              "      <td>1</td>\n",
              "      <td>850.0</td>\n",
              "      <td>Aug 2024</td>\n",
              "    </tr>\n",
              "    <tr>\n",
              "      <th>1</th>\n",
              "      <td>2024-08-18 21:32:00</td>\n",
              "      <td>Category-120</td>\n",
              "      <td>Product-4156</td>\n",
              "      <td>Business-de42</td>\n",
              "      <td>Location-1ba8</td>\n",
              "      <td>2</td>\n",
              "      <td>1910.0</td>\n",
              "      <td>Aug 2024</td>\n",
              "    </tr>\n",
              "    <tr>\n",
              "      <th>2</th>\n",
              "      <td>2024-08-18 21:32:00</td>\n",
              "      <td>Category-121</td>\n",
              "      <td>Product-49bd</td>\n",
              "      <td>Business-de42</td>\n",
              "      <td>Location-1ba8</td>\n",
              "      <td>1</td>\n",
              "      <td>3670.0</td>\n",
              "      <td>Aug 2024</td>\n",
              "    </tr>\n",
              "    <tr>\n",
              "      <th>3</th>\n",
              "      <td>2024-08-18 21:32:00</td>\n",
              "      <td>Category-76</td>\n",
              "      <td>Product-61dd</td>\n",
              "      <td>Business-de42</td>\n",
              "      <td>Location-1ba8</td>\n",
              "      <td>1</td>\n",
              "      <td>2605.0</td>\n",
              "      <td>Aug 2024</td>\n",
              "    </tr>\n",
              "    <tr>\n",
              "      <th>4</th>\n",
              "      <td>2024-08-18 21:32:00</td>\n",
              "      <td>Category-119</td>\n",
              "      <td>Product-66e0</td>\n",
              "      <td>Business-de42</td>\n",
              "      <td>Location-1ba8</td>\n",
              "      <td>5</td>\n",
              "      <td>1480.0</td>\n",
              "      <td>Aug 2024</td>\n",
              "    </tr>\n",
              "  </tbody>\n",
              "</table>\n",
              "</div>\n",
              "    <div class=\"colab-df-buttons\">\n",
              "\n",
              "  <div class=\"colab-df-container\">\n",
              "    <button class=\"colab-df-convert\" onclick=\"convertToInteractive('df-99ae842b-5d5a-4a0f-be5b-97d252dd1882')\"\n",
              "            title=\"Convert this dataframe to an interactive table.\"\n",
              "            style=\"display:none;\">\n",
              "\n",
              "  <svg xmlns=\"http://www.w3.org/2000/svg\" height=\"24px\" viewBox=\"0 -960 960 960\">\n",
              "    <path d=\"M120-120v-720h720v720H120Zm60-500h600v-160H180v160Zm220 220h160v-160H400v160Zm0 220h160v-160H400v160ZM180-400h160v-160H180v160Zm440 0h160v-160H620v160ZM180-180h160v-160H180v160Zm440 0h160v-160H620v160Z\"/>\n",
              "  </svg>\n",
              "    </button>\n",
              "\n",
              "  <style>\n",
              "    .colab-df-container {\n",
              "      display:flex;\n",
              "      gap: 12px;\n",
              "    }\n",
              "\n",
              "    .colab-df-convert {\n",
              "      background-color: #E8F0FE;\n",
              "      border: none;\n",
              "      border-radius: 50%;\n",
              "      cursor: pointer;\n",
              "      display: none;\n",
              "      fill: #1967D2;\n",
              "      height: 32px;\n",
              "      padding: 0 0 0 0;\n",
              "      width: 32px;\n",
              "    }\n",
              "\n",
              "    .colab-df-convert:hover {\n",
              "      background-color: #E2EBFA;\n",
              "      box-shadow: 0px 1px 2px rgba(60, 64, 67, 0.3), 0px 1px 3px 1px rgba(60, 64, 67, 0.15);\n",
              "      fill: #174EA6;\n",
              "    }\n",
              "\n",
              "    .colab-df-buttons div {\n",
              "      margin-bottom: 4px;\n",
              "    }\n",
              "\n",
              "    [theme=dark] .colab-df-convert {\n",
              "      background-color: #3B4455;\n",
              "      fill: #D2E3FC;\n",
              "    }\n",
              "\n",
              "    [theme=dark] .colab-df-convert:hover {\n",
              "      background-color: #434B5C;\n",
              "      box-shadow: 0px 1px 3px 1px rgba(0, 0, 0, 0.15);\n",
              "      filter: drop-shadow(0px 1px 2px rgba(0, 0, 0, 0.3));\n",
              "      fill: #FFFFFF;\n",
              "    }\n",
              "  </style>\n",
              "\n",
              "    <script>\n",
              "      const buttonEl =\n",
              "        document.querySelector('#df-99ae842b-5d5a-4a0f-be5b-97d252dd1882 button.colab-df-convert');\n",
              "      buttonEl.style.display =\n",
              "        google.colab.kernel.accessAllowed ? 'block' : 'none';\n",
              "\n",
              "      async function convertToInteractive(key) {\n",
              "        const element = document.querySelector('#df-99ae842b-5d5a-4a0f-be5b-97d252dd1882');\n",
              "        const dataTable =\n",
              "          await google.colab.kernel.invokeFunction('convertToInteractive',\n",
              "                                                    [key], {});\n",
              "        if (!dataTable) return;\n",
              "\n",
              "        const docLinkHtml = 'Like what you see? Visit the ' +\n",
              "          '<a target=\"_blank\" href=https://colab.research.google.com/notebooks/data_table.ipynb>data table notebook</a>'\n",
              "          + ' to learn more about interactive tables.';\n",
              "        element.innerHTML = '';\n",
              "        dataTable['output_type'] = 'display_data';\n",
              "        await google.colab.output.renderOutput(dataTable, element);\n",
              "        const docLink = document.createElement('div');\n",
              "        docLink.innerHTML = docLinkHtml;\n",
              "        element.appendChild(docLink);\n",
              "      }\n",
              "    </script>\n",
              "  </div>\n",
              "\n",
              "\n",
              "<div id=\"df-fa6e78f0-2f77-4f6e-9e28-abb7d740a9dc\">\n",
              "  <button class=\"colab-df-quickchart\" onclick=\"quickchart('df-fa6e78f0-2f77-4f6e-9e28-abb7d740a9dc')\"\n",
              "            title=\"Suggest charts\"\n",
              "            style=\"display:none;\">\n",
              "\n",
              "<svg xmlns=\"http://www.w3.org/2000/svg\" height=\"24px\"viewBox=\"0 0 24 24\"\n",
              "     width=\"24px\">\n",
              "    <g>\n",
              "        <path d=\"M19 3H5c-1.1 0-2 .9-2 2v14c0 1.1.9 2 2 2h14c1.1 0 2-.9 2-2V5c0-1.1-.9-2-2-2zM9 17H7v-7h2v7zm4 0h-2V7h2v10zm4 0h-2v-4h2v4z\"/>\n",
              "    </g>\n",
              "</svg>\n",
              "  </button>\n",
              "\n",
              "<style>\n",
              "  .colab-df-quickchart {\n",
              "      --bg-color: #E8F0FE;\n",
              "      --fill-color: #1967D2;\n",
              "      --hover-bg-color: #E2EBFA;\n",
              "      --hover-fill-color: #174EA6;\n",
              "      --disabled-fill-color: #AAA;\n",
              "      --disabled-bg-color: #DDD;\n",
              "  }\n",
              "\n",
              "  [theme=dark] .colab-df-quickchart {\n",
              "      --bg-color: #3B4455;\n",
              "      --fill-color: #D2E3FC;\n",
              "      --hover-bg-color: #434B5C;\n",
              "      --hover-fill-color: #FFFFFF;\n",
              "      --disabled-bg-color: #3B4455;\n",
              "      --disabled-fill-color: #666;\n",
              "  }\n",
              "\n",
              "  .colab-df-quickchart {\n",
              "    background-color: var(--bg-color);\n",
              "    border: none;\n",
              "    border-radius: 50%;\n",
              "    cursor: pointer;\n",
              "    display: none;\n",
              "    fill: var(--fill-color);\n",
              "    height: 32px;\n",
              "    padding: 0;\n",
              "    width: 32px;\n",
              "  }\n",
              "\n",
              "  .colab-df-quickchart:hover {\n",
              "    background-color: var(--hover-bg-color);\n",
              "    box-shadow: 0 1px 2px rgba(60, 64, 67, 0.3), 0 1px 3px 1px rgba(60, 64, 67, 0.15);\n",
              "    fill: var(--button-hover-fill-color);\n",
              "  }\n",
              "\n",
              "  .colab-df-quickchart-complete:disabled,\n",
              "  .colab-df-quickchart-complete:disabled:hover {\n",
              "    background-color: var(--disabled-bg-color);\n",
              "    fill: var(--disabled-fill-color);\n",
              "    box-shadow: none;\n",
              "  }\n",
              "\n",
              "  .colab-df-spinner {\n",
              "    border: 2px solid var(--fill-color);\n",
              "    border-color: transparent;\n",
              "    border-bottom-color: var(--fill-color);\n",
              "    animation:\n",
              "      spin 1s steps(1) infinite;\n",
              "  }\n",
              "\n",
              "  @keyframes spin {\n",
              "    0% {\n",
              "      border-color: transparent;\n",
              "      border-bottom-color: var(--fill-color);\n",
              "      border-left-color: var(--fill-color);\n",
              "    }\n",
              "    20% {\n",
              "      border-color: transparent;\n",
              "      border-left-color: var(--fill-color);\n",
              "      border-top-color: var(--fill-color);\n",
              "    }\n",
              "    30% {\n",
              "      border-color: transparent;\n",
              "      border-left-color: var(--fill-color);\n",
              "      border-top-color: var(--fill-color);\n",
              "      border-right-color: var(--fill-color);\n",
              "    }\n",
              "    40% {\n",
              "      border-color: transparent;\n",
              "      border-right-color: var(--fill-color);\n",
              "      border-top-color: var(--fill-color);\n",
              "    }\n",
              "    60% {\n",
              "      border-color: transparent;\n",
              "      border-right-color: var(--fill-color);\n",
              "    }\n",
              "    80% {\n",
              "      border-color: transparent;\n",
              "      border-right-color: var(--fill-color);\n",
              "      border-bottom-color: var(--fill-color);\n",
              "    }\n",
              "    90% {\n",
              "      border-color: transparent;\n",
              "      border-bottom-color: var(--fill-color);\n",
              "    }\n",
              "  }\n",
              "</style>\n",
              "\n",
              "  <script>\n",
              "    async function quickchart(key) {\n",
              "      const quickchartButtonEl =\n",
              "        document.querySelector('#' + key + ' button');\n",
              "      quickchartButtonEl.disabled = true;  // To prevent multiple clicks.\n",
              "      quickchartButtonEl.classList.add('colab-df-spinner');\n",
              "      try {\n",
              "        const charts = await google.colab.kernel.invokeFunction(\n",
              "            'suggestCharts', [key], {});\n",
              "      } catch (error) {\n",
              "        console.error('Error during call to suggestCharts:', error);\n",
              "      }\n",
              "      quickchartButtonEl.classList.remove('colab-df-spinner');\n",
              "      quickchartButtonEl.classList.add('colab-df-quickchart-complete');\n",
              "    }\n",
              "    (() => {\n",
              "      let quickchartButtonEl =\n",
              "        document.querySelector('#df-fa6e78f0-2f77-4f6e-9e28-abb7d740a9dc button');\n",
              "      quickchartButtonEl.style.display =\n",
              "        google.colab.kernel.accessAllowed ? 'block' : 'none';\n",
              "    })();\n",
              "  </script>\n",
              "</div>\n",
              "\n",
              "    </div>\n",
              "  </div>\n"
            ],
            "application/vnd.google.colaboratory.intrinsic+json": {
              "type": "dataframe",
              "variable_name": "data"
            }
          },
          "metadata": {},
          "execution_count": 64
        }
      ]
    },
    {
      "cell_type": "markdown",
      "source": [
        "We have successfully created the Month_Year column"
      ],
      "metadata": {
        "id": "_l4ZXIbVzocF"
      }
    },
    {
      "cell_type": "markdown",
      "source": [
        "###Creating the Value column"
      ],
      "metadata": {
        "id": "dkQDTP-MeQyh"
      }
    },
    {
      "cell_type": "code",
      "source": [
        "#Calculate VALUE column\n",
        "data['VALUE'] = data['QUANTITY'] * data['UNIT PRICE']"
      ],
      "metadata": {
        "id": "q_TEnuC5eWXv"
      },
      "execution_count": null,
      "outputs": []
    },
    {
      "cell_type": "code",
      "source": [
        "#viewing data to confirm creation of VALUE column\n",
        "data.head()"
      ],
      "metadata": {
        "colab": {
          "base_uri": "https://localhost:8080/",
          "height": 206
        },
        "id": "eeMfuBUjehMr",
        "outputId": "6a981ad0-8c35-405e-cd76-aef1cc899b30"
      },
      "execution_count": null,
      "outputs": [
        {
          "output_type": "execute_result",
          "data": {
            "text/plain": [
              "                 DATE ANONYMIZED CATEGORY ANONYMIZED PRODUCT  \\\n",
              "0 2024-08-18 21:32:00        Category-106       Product-21f4   \n",
              "1 2024-08-18 21:32:00        Category-120       Product-4156   \n",
              "2 2024-08-18 21:32:00        Category-121       Product-49bd   \n",
              "3 2024-08-18 21:32:00         Category-76       Product-61dd   \n",
              "4 2024-08-18 21:32:00        Category-119       Product-66e0   \n",
              "\n",
              "  ANONYMIZED BUSINESS ANONYMIZED LOCATION  QUANTITY  UNIT PRICE Month_Year  \\\n",
              "0       Business-de42       Location-1ba8         1       850.0   Aug 2024   \n",
              "1       Business-de42       Location-1ba8         2      1910.0   Aug 2024   \n",
              "2       Business-de42       Location-1ba8         1      3670.0   Aug 2024   \n",
              "3       Business-de42       Location-1ba8         1      2605.0   Aug 2024   \n",
              "4       Business-de42       Location-1ba8         5      1480.0   Aug 2024   \n",
              "\n",
              "    VALUE  \n",
              "0   850.0  \n",
              "1  3820.0  \n",
              "2  3670.0  \n",
              "3  2605.0  \n",
              "4  7400.0  "
            ],
            "text/html": [
              "\n",
              "  <div id=\"df-1dec3ec7-e8ae-49e8-94a9-ee600efd9ea7\" class=\"colab-df-container\">\n",
              "    <div>\n",
              "<style scoped>\n",
              "    .dataframe tbody tr th:only-of-type {\n",
              "        vertical-align: middle;\n",
              "    }\n",
              "\n",
              "    .dataframe tbody tr th {\n",
              "        vertical-align: top;\n",
              "    }\n",
              "\n",
              "    .dataframe thead th {\n",
              "        text-align: right;\n",
              "    }\n",
              "</style>\n",
              "<table border=\"1\" class=\"dataframe\">\n",
              "  <thead>\n",
              "    <tr style=\"text-align: right;\">\n",
              "      <th></th>\n",
              "      <th>DATE</th>\n",
              "      <th>ANONYMIZED CATEGORY</th>\n",
              "      <th>ANONYMIZED PRODUCT</th>\n",
              "      <th>ANONYMIZED BUSINESS</th>\n",
              "      <th>ANONYMIZED LOCATION</th>\n",
              "      <th>QUANTITY</th>\n",
              "      <th>UNIT PRICE</th>\n",
              "      <th>Month_Year</th>\n",
              "      <th>VALUE</th>\n",
              "    </tr>\n",
              "  </thead>\n",
              "  <tbody>\n",
              "    <tr>\n",
              "      <th>0</th>\n",
              "      <td>2024-08-18 21:32:00</td>\n",
              "      <td>Category-106</td>\n",
              "      <td>Product-21f4</td>\n",
              "      <td>Business-de42</td>\n",
              "      <td>Location-1ba8</td>\n",
              "      <td>1</td>\n",
              "      <td>850.0</td>\n",
              "      <td>Aug 2024</td>\n",
              "      <td>850.0</td>\n",
              "    </tr>\n",
              "    <tr>\n",
              "      <th>1</th>\n",
              "      <td>2024-08-18 21:32:00</td>\n",
              "      <td>Category-120</td>\n",
              "      <td>Product-4156</td>\n",
              "      <td>Business-de42</td>\n",
              "      <td>Location-1ba8</td>\n",
              "      <td>2</td>\n",
              "      <td>1910.0</td>\n",
              "      <td>Aug 2024</td>\n",
              "      <td>3820.0</td>\n",
              "    </tr>\n",
              "    <tr>\n",
              "      <th>2</th>\n",
              "      <td>2024-08-18 21:32:00</td>\n",
              "      <td>Category-121</td>\n",
              "      <td>Product-49bd</td>\n",
              "      <td>Business-de42</td>\n",
              "      <td>Location-1ba8</td>\n",
              "      <td>1</td>\n",
              "      <td>3670.0</td>\n",
              "      <td>Aug 2024</td>\n",
              "      <td>3670.0</td>\n",
              "    </tr>\n",
              "    <tr>\n",
              "      <th>3</th>\n",
              "      <td>2024-08-18 21:32:00</td>\n",
              "      <td>Category-76</td>\n",
              "      <td>Product-61dd</td>\n",
              "      <td>Business-de42</td>\n",
              "      <td>Location-1ba8</td>\n",
              "      <td>1</td>\n",
              "      <td>2605.0</td>\n",
              "      <td>Aug 2024</td>\n",
              "      <td>2605.0</td>\n",
              "    </tr>\n",
              "    <tr>\n",
              "      <th>4</th>\n",
              "      <td>2024-08-18 21:32:00</td>\n",
              "      <td>Category-119</td>\n",
              "      <td>Product-66e0</td>\n",
              "      <td>Business-de42</td>\n",
              "      <td>Location-1ba8</td>\n",
              "      <td>5</td>\n",
              "      <td>1480.0</td>\n",
              "      <td>Aug 2024</td>\n",
              "      <td>7400.0</td>\n",
              "    </tr>\n",
              "  </tbody>\n",
              "</table>\n",
              "</div>\n",
              "    <div class=\"colab-df-buttons\">\n",
              "\n",
              "  <div class=\"colab-df-container\">\n",
              "    <button class=\"colab-df-convert\" onclick=\"convertToInteractive('df-1dec3ec7-e8ae-49e8-94a9-ee600efd9ea7')\"\n",
              "            title=\"Convert this dataframe to an interactive table.\"\n",
              "            style=\"display:none;\">\n",
              "\n",
              "  <svg xmlns=\"http://www.w3.org/2000/svg\" height=\"24px\" viewBox=\"0 -960 960 960\">\n",
              "    <path d=\"M120-120v-720h720v720H120Zm60-500h600v-160H180v160Zm220 220h160v-160H400v160Zm0 220h160v-160H400v160ZM180-400h160v-160H180v160Zm440 0h160v-160H620v160ZM180-180h160v-160H180v160Zm440 0h160v-160H620v160Z\"/>\n",
              "  </svg>\n",
              "    </button>\n",
              "\n",
              "  <style>\n",
              "    .colab-df-container {\n",
              "      display:flex;\n",
              "      gap: 12px;\n",
              "    }\n",
              "\n",
              "    .colab-df-convert {\n",
              "      background-color: #E8F0FE;\n",
              "      border: none;\n",
              "      border-radius: 50%;\n",
              "      cursor: pointer;\n",
              "      display: none;\n",
              "      fill: #1967D2;\n",
              "      height: 32px;\n",
              "      padding: 0 0 0 0;\n",
              "      width: 32px;\n",
              "    }\n",
              "\n",
              "    .colab-df-convert:hover {\n",
              "      background-color: #E2EBFA;\n",
              "      box-shadow: 0px 1px 2px rgba(60, 64, 67, 0.3), 0px 1px 3px 1px rgba(60, 64, 67, 0.15);\n",
              "      fill: #174EA6;\n",
              "    }\n",
              "\n",
              "    .colab-df-buttons div {\n",
              "      margin-bottom: 4px;\n",
              "    }\n",
              "\n",
              "    [theme=dark] .colab-df-convert {\n",
              "      background-color: #3B4455;\n",
              "      fill: #D2E3FC;\n",
              "    }\n",
              "\n",
              "    [theme=dark] .colab-df-convert:hover {\n",
              "      background-color: #434B5C;\n",
              "      box-shadow: 0px 1px 3px 1px rgba(0, 0, 0, 0.15);\n",
              "      filter: drop-shadow(0px 1px 2px rgba(0, 0, 0, 0.3));\n",
              "      fill: #FFFFFF;\n",
              "    }\n",
              "  </style>\n",
              "\n",
              "    <script>\n",
              "      const buttonEl =\n",
              "        document.querySelector('#df-1dec3ec7-e8ae-49e8-94a9-ee600efd9ea7 button.colab-df-convert');\n",
              "      buttonEl.style.display =\n",
              "        google.colab.kernel.accessAllowed ? 'block' : 'none';\n",
              "\n",
              "      async function convertToInteractive(key) {\n",
              "        const element = document.querySelector('#df-1dec3ec7-e8ae-49e8-94a9-ee600efd9ea7');\n",
              "        const dataTable =\n",
              "          await google.colab.kernel.invokeFunction('convertToInteractive',\n",
              "                                                    [key], {});\n",
              "        if (!dataTable) return;\n",
              "\n",
              "        const docLinkHtml = 'Like what you see? Visit the ' +\n",
              "          '<a target=\"_blank\" href=https://colab.research.google.com/notebooks/data_table.ipynb>data table notebook</a>'\n",
              "          + ' to learn more about interactive tables.';\n",
              "        element.innerHTML = '';\n",
              "        dataTable['output_type'] = 'display_data';\n",
              "        await google.colab.output.renderOutput(dataTable, element);\n",
              "        const docLink = document.createElement('div');\n",
              "        docLink.innerHTML = docLinkHtml;\n",
              "        element.appendChild(docLink);\n",
              "      }\n",
              "    </script>\n",
              "  </div>\n",
              "\n",
              "\n",
              "<div id=\"df-40822095-caf7-4afc-a774-c55c02125c2f\">\n",
              "  <button class=\"colab-df-quickchart\" onclick=\"quickchart('df-40822095-caf7-4afc-a774-c55c02125c2f')\"\n",
              "            title=\"Suggest charts\"\n",
              "            style=\"display:none;\">\n",
              "\n",
              "<svg xmlns=\"http://www.w3.org/2000/svg\" height=\"24px\"viewBox=\"0 0 24 24\"\n",
              "     width=\"24px\">\n",
              "    <g>\n",
              "        <path d=\"M19 3H5c-1.1 0-2 .9-2 2v14c0 1.1.9 2 2 2h14c1.1 0 2-.9 2-2V5c0-1.1-.9-2-2-2zM9 17H7v-7h2v7zm4 0h-2V7h2v10zm4 0h-2v-4h2v4z\"/>\n",
              "    </g>\n",
              "</svg>\n",
              "  </button>\n",
              "\n",
              "<style>\n",
              "  .colab-df-quickchart {\n",
              "      --bg-color: #E8F0FE;\n",
              "      --fill-color: #1967D2;\n",
              "      --hover-bg-color: #E2EBFA;\n",
              "      --hover-fill-color: #174EA6;\n",
              "      --disabled-fill-color: #AAA;\n",
              "      --disabled-bg-color: #DDD;\n",
              "  }\n",
              "\n",
              "  [theme=dark] .colab-df-quickchart {\n",
              "      --bg-color: #3B4455;\n",
              "      --fill-color: #D2E3FC;\n",
              "      --hover-bg-color: #434B5C;\n",
              "      --hover-fill-color: #FFFFFF;\n",
              "      --disabled-bg-color: #3B4455;\n",
              "      --disabled-fill-color: #666;\n",
              "  }\n",
              "\n",
              "  .colab-df-quickchart {\n",
              "    background-color: var(--bg-color);\n",
              "    border: none;\n",
              "    border-radius: 50%;\n",
              "    cursor: pointer;\n",
              "    display: none;\n",
              "    fill: var(--fill-color);\n",
              "    height: 32px;\n",
              "    padding: 0;\n",
              "    width: 32px;\n",
              "  }\n",
              "\n",
              "  .colab-df-quickchart:hover {\n",
              "    background-color: var(--hover-bg-color);\n",
              "    box-shadow: 0 1px 2px rgba(60, 64, 67, 0.3), 0 1px 3px 1px rgba(60, 64, 67, 0.15);\n",
              "    fill: var(--button-hover-fill-color);\n",
              "  }\n",
              "\n",
              "  .colab-df-quickchart-complete:disabled,\n",
              "  .colab-df-quickchart-complete:disabled:hover {\n",
              "    background-color: var(--disabled-bg-color);\n",
              "    fill: var(--disabled-fill-color);\n",
              "    box-shadow: none;\n",
              "  }\n",
              "\n",
              "  .colab-df-spinner {\n",
              "    border: 2px solid var(--fill-color);\n",
              "    border-color: transparent;\n",
              "    border-bottom-color: var(--fill-color);\n",
              "    animation:\n",
              "      spin 1s steps(1) infinite;\n",
              "  }\n",
              "\n",
              "  @keyframes spin {\n",
              "    0% {\n",
              "      border-color: transparent;\n",
              "      border-bottom-color: var(--fill-color);\n",
              "      border-left-color: var(--fill-color);\n",
              "    }\n",
              "    20% {\n",
              "      border-color: transparent;\n",
              "      border-left-color: var(--fill-color);\n",
              "      border-top-color: var(--fill-color);\n",
              "    }\n",
              "    30% {\n",
              "      border-color: transparent;\n",
              "      border-left-color: var(--fill-color);\n",
              "      border-top-color: var(--fill-color);\n",
              "      border-right-color: var(--fill-color);\n",
              "    }\n",
              "    40% {\n",
              "      border-color: transparent;\n",
              "      border-right-color: var(--fill-color);\n",
              "      border-top-color: var(--fill-color);\n",
              "    }\n",
              "    60% {\n",
              "      border-color: transparent;\n",
              "      border-right-color: var(--fill-color);\n",
              "    }\n",
              "    80% {\n",
              "      border-color: transparent;\n",
              "      border-right-color: var(--fill-color);\n",
              "      border-bottom-color: var(--fill-color);\n",
              "    }\n",
              "    90% {\n",
              "      border-color: transparent;\n",
              "      border-bottom-color: var(--fill-color);\n",
              "    }\n",
              "  }\n",
              "</style>\n",
              "\n",
              "  <script>\n",
              "    async function quickchart(key) {\n",
              "      const quickchartButtonEl =\n",
              "        document.querySelector('#' + key + ' button');\n",
              "      quickchartButtonEl.disabled = true;  // To prevent multiple clicks.\n",
              "      quickchartButtonEl.classList.add('colab-df-spinner');\n",
              "      try {\n",
              "        const charts = await google.colab.kernel.invokeFunction(\n",
              "            'suggestCharts', [key], {});\n",
              "      } catch (error) {\n",
              "        console.error('Error during call to suggestCharts:', error);\n",
              "      }\n",
              "      quickchartButtonEl.classList.remove('colab-df-spinner');\n",
              "      quickchartButtonEl.classList.add('colab-df-quickchart-complete');\n",
              "    }\n",
              "    (() => {\n",
              "      let quickchartButtonEl =\n",
              "        document.querySelector('#df-40822095-caf7-4afc-a774-c55c02125c2f button');\n",
              "      quickchartButtonEl.style.display =\n",
              "        google.colab.kernel.accessAllowed ? 'block' : 'none';\n",
              "    })();\n",
              "  </script>\n",
              "</div>\n",
              "\n",
              "    </div>\n",
              "  </div>\n"
            ],
            "application/vnd.google.colaboratory.intrinsic+json": {
              "type": "dataframe",
              "variable_name": "data"
            }
          },
          "metadata": {},
          "execution_count": 66
        }
      ]
    },
    {
      "cell_type": "code",
      "source": [
        "#Checking data type of VALUE column\n",
        "data['VALUE'].dtype"
      ],
      "metadata": {
        "colab": {
          "base_uri": "https://localhost:8080/"
        },
        "id": "80_Q1G3FzFP1",
        "outputId": "b7943de0-fffa-47d0-dde1-1c0063d2d234"
      },
      "execution_count": null,
      "outputs": [
        {
          "output_type": "execute_result",
          "data": {
            "text/plain": [
              "dtype('float64')"
            ]
          },
          "metadata": {},
          "execution_count": 67
        }
      ]
    },
    {
      "cell_type": "markdown",
      "source": [
        "We have successfully created the VALUE column of float data type."
      ],
      "metadata": {
        "id": "WOp2SwAgz8Zy"
      }
    },
    {
      "cell_type": "markdown",
      "source": [
        "#2. Exploratory Data Analysis"
      ],
      "metadata": {
        "id": "hB89Ul1STrtd"
      }
    },
    {
      "cell_type": "markdown",
      "source": [
        "## Sales Overview"
      ],
      "metadata": {
        "id": "UH8TTUtbT7La"
      }
    },
    {
      "cell_type": "markdown",
      "source": [
        "###Total Quantity and Value by Anonymized Category"
      ],
      "metadata": {
        "id": "KQWENlBpY-MK"
      }
    },
    {
      "cell_type": "code",
      "source": [
        "#calculate total Quantity and Value grouped by Anonymized Category\n",
        "category_by_quantity_value = data.groupby('ANONYMIZED CATEGORY')[['QUANTITY', 'VALUE']].sum()\n",
        "#Viewing the category_by_quantity_value table\n",
        "print(category_by_quantity_value)"
      ],
      "metadata": {
        "colab": {
          "base_uri": "https://localhost:8080/"
        },
        "id": "4dqYEPyMhyXr",
        "outputId": "e0f86ce4-4506-4326-dd55-aa77d2c71276"
      },
      "execution_count": null,
      "outputs": [
        {
          "output_type": "stream",
          "name": "stdout",
          "text": [
            "                     QUANTITY         VALUE\n",
            "ANONYMIZED CATEGORY                        \n",
            "Category-100            76825  1.349048e+08\n",
            "Category-101            19586  3.561902e+07\n",
            "Category-102             1786  4.644630e+05\n",
            "Category-104             1217  1.557598e+06\n",
            "Category-105             1580  2.718352e+06\n",
            "Category-106             6521  5.932763e+06\n",
            "Category-107             2731  4.173901e+06\n",
            "Category-108             9756  5.101375e+06\n",
            "Category-109             1446  1.263226e+06\n",
            "Category-110            10530  5.484384e+06\n",
            "Category-111             6715  4.387343e+06\n",
            "Category-113              744  1.260667e+06\n",
            "Category-114                3  8.600000e+03\n",
            "Category-115              348  4.253600e+05\n",
            "Category-116              856  4.227450e+05\n",
            "Category-117                5  1.550000e+03\n",
            "Category-118               21  7.560000e+03\n",
            "Category-119            68332  1.034548e+08\n",
            "Category-120           169721  3.191898e+08\n",
            "Category-121            14670  2.233097e+07\n",
            "Category-122             1226  3.500920e+06\n",
            "Category-123              286  7.307300e+05\n",
            "Category-124                4  1.006000e+04\n",
            "Category-125              123  2.970600e+05\n",
            "Category-74               941  1.929961e+06\n",
            "Category-75            151337  5.446835e+08\n",
            "Category-76             71724  3.449671e+08\n",
            "Category-77             28456  7.674380e+07\n",
            "Category-78              9768  9.794109e+06\n",
            "Category-79              2215  1.184953e+06\n",
            "Category-81               142  7.206100e+04\n",
            "Category-82              4759  3.930818e+06\n",
            "Category-83              2436  4.039483e+06\n",
            "Category-84             11934  6.798838e+06\n",
            "Category-85             23003  3.377232e+07\n",
            "Category-86                 8  3.320000e+03\n",
            "Category-89               238  1.368500e+05\n",
            "Category-90                15  1.575000e+04\n",
            "Category-91             20854  4.415224e+07\n",
            "Category-92              6954  1.047027e+07\n",
            "Category-94             23670  1.675254e+07\n",
            "Category-95              4116  7.466932e+06\n",
            "Category-96              1427  2.249424e+06\n",
            "Category-97              2711  2.628309e+06\n",
            "Category-98              2152  2.519695e+06\n",
            "Category-99              1964  1.589480e+06\n"
          ]
        }
      ]
    },
    {
      "cell_type": "code",
      "source": [
        "#Plotting chart for QUANTITY by ANONYMIZED CATEGORY\n",
        "plt.figure(figsize=(15, 6))\n",
        "category_by_quantity_value['QUANTITY'].plot(kind='bar', color='skyblue')\n"
      ],
      "metadata": {
        "colab": {
          "base_uri": "https://localhost:8080/",
          "height": 640
        },
        "id": "YnwezpKM2SVR",
        "outputId": "76a1e634-a39a-4a0c-c927-ccd11a92709c"
      },
      "execution_count": null,
      "outputs": [
        {
          "output_type": "execute_result",
          "data": {
            "text/plain": [
              "<Axes: xlabel='ANONYMIZED CATEGORY'>"
            ]
          },
          "metadata": {},
          "execution_count": 69
        },
        {
          "output_type": "display_data",
          "data": {
            "text/plain": [
              "<Figure size 1500x600 with 1 Axes>"
            ],
            "image/png": "[encoded data removed]"
          },
          "metadata": {}
        }
      ]
    },
    {
      "cell_type": "code",
      "source": [
        "#Plotting chart for VALUE by ANONYMIZED CATEGORY\n",
        "plt.figure(figsize=(15, 6))\n",
        "category_by_quantity_value['VALUE'].plot(kind='bar', color='orange')"
      ],
      "metadata": {
        "colab": {
          "base_uri": "https://localhost:8080/",
          "height": 655
        },
        "id": "yXESghLX3nOR",
        "outputId": "af1d5feb-60ef-449c-a298-fbb7f9b3ccc9"
      },
      "execution_count": null,
      "outputs": [
        {
          "output_type": "execute_result",
          "data": {
            "text/plain": [
              "<Axes: xlabel='ANONYMIZED CATEGORY'>"
            ]
          },
          "metadata": {},
          "execution_count": 70
        },
        {
          "output_type": "display_data",
          "data": {
            "text/plain": [
              "<Figure size 1500x600 with 1 Axes>"
            ],
            "image/png": "[encoded data removed]"
          },
          "metadata": {}
        }
      ]
    },
    {
      "cell_type": "markdown",
      "source": [
        "###Total Quantity and Value by Anonymized Business"
      ],
      "metadata": {
        "id": "0f5XH3Uc018I"
      }
    },
    {
      "cell_type": "code",
      "source": [
        "#Calculate total Quantity and Value grouped by Anonymized Business\n",
        "business_by_quantity_value = data.groupby('ANONYMIZED BUSINESS')[['QUANTITY', 'VALUE']].sum()\n",
        "print(business_by_quantity_value)"
      ],
      "metadata": {
        "colab": {
          "base_uri": "https://localhost:8080/"
        },
        "id": "M3CcHxeN09kx",
        "outputId": "8e06ddea-834d-4743-e588-d4ab6bad17f3"
      },
      "execution_count": null,
      "outputs": [
        {
          "output_type": "stream",
          "name": "stdout",
          "text": [
            "                     QUANTITY     VALUE\n",
            "ANONYMIZED BUSINESS                    \n",
            "Business-0000               8   10445.0\n",
            "Business-0005               1    2645.0\n",
            "Business-0029              26   77340.0\n",
            "Business-003d              98  221761.0\n",
            "Business-0072             127  225056.0\n",
            "...                       ...       ...\n",
            "Business-ffa9               3    6740.0\n",
            "Business-ffae               6   10530.0\n",
            "Business-ffb1             266  438115.0\n",
            "Business-ffd2              37   67723.0\n",
            "Business-ffff             110  110285.0\n",
            "\n",
            "[4800 rows x 2 columns]\n"
          ]
        }
      ]
    },
    {
      "cell_type": "markdown",
      "source": [
        "4800 rows may not be easily visualized as in the previous section.\n"
      ],
      "metadata": {
        "id": "r6Gi6zr6X0tt"
      }
    },
    {
      "cell_type": "markdown",
      "source": [
        "## Trends over Time\n"
      ],
      "metadata": {
        "id": "ghVrwln3mt10"
      }
    },
    {
      "cell_type": "markdown",
      "source": [
        "### Sales Trends (Values) Over Time"
      ],
      "metadata": {
        "id": "EGVvFbryZxPV"
      }
    },
    {
      "cell_type": "code",
      "source": [
        "#Value Trend Over Time\n",
        "# Convert Month_Year to datetime format\n",
        "data['Month_Year'] = pd.to_datetime(data['Month_Year'], format='%b %Y')\n",
        "\n",
        "# Group by Month_Year and sum VALUE\n",
        "sales_trend = data.groupby(data['Month_Year'].dt.to_period('M'))['VALUE'].sum()\n",
        "\n",
        "# Sort the data (it will already be sorted by period)\n",
        "sales_trend = sales_trend.sort_index()\n",
        "\n",
        "# Reset index to display Month_Year in desired format (optional)\n",
        "sales_trend.index = sales_trend.index.strftime('%b %Y')\n",
        "\n",
        "print(sales_trend)\n"
      ],
      "metadata": {
        "colab": {
          "base_uri": "https://localhost:8080/"
        },
        "id": "PkFn3Xd0uNY9",
        "outputId": "3e99f490-7921-4d2d-8e6c-b25175e798d5"
      },
      "execution_count": null,
      "outputs": [
        {
          "output_type": "stream",
          "name": "stdout",
          "text": [
            "Month_Year\n",
            "Jan 2024    1.856324e+08\n",
            "Feb 2024    1.266021e+08\n",
            "Mar 2024    1.160112e+08\n",
            "Apr 2024    1.221122e+08\n",
            "May 2024    1.688151e+08\n",
            "Jun 2024    1.351764e+08\n",
            "Jul 2024    1.710446e+08\n",
            "Aug 2024    1.466219e+08\n",
            "Sep 2024    1.377915e+08\n",
            "Oct 2024    1.838406e+08\n",
            "Nov 2024    1.659331e+08\n",
            "Dec 2024    1.095688e+08\n",
            "Name: VALUE, dtype: float64\n"
          ]
        }
      ]
    },
    {
      "cell_type": "code",
      "source": [
        "# Plotting VALUE over time\n",
        "plt.figure(figsize=(12, 6))\n",
        "\n",
        "# Plot VALUE\n",
        "plt.plot(sales_trend.index, sales_trend, label='Value', color='blue', marker='o')\n",
        "#labels\n",
        "plt.xlabel('Month Year')\n",
        "plt.ylabel('Total Value')\n",
        "plt.title('Sales Trend Over Time')"
      ],
      "metadata": {
        "colab": {
          "base_uri": "https://localhost:8080/",
          "height": 581
        },
        "id": "mIEKCGi8vW67",
        "outputId": "a6b22f9c-bbfe-43ea-ef8f-6faceecba331"
      },
      "execution_count": null,
      "outputs": [
        {
          "output_type": "execute_result",
          "data": {
            "text/plain": [
              "Text(0.5, 1.0, 'Sales Trend Over Time')"
            ]
          },
          "metadata": {},
          "execution_count": 73
        },
        {
          "output_type": "display_data",
          "data": {
            "text/plain": [
              "<Figure size 1200x600 with 1 Axes>"
            ],
            "image/png": "[encoded data removed]"
          },
          "metadata": {}
        }
      ]
    },
    {
      "cell_type": "markdown",
      "source": [
        "### Sales Trends (Quantity) Over Time"
      ],
      "metadata": {
        "id": "6z9HWUPtaAcR"
      }
    },
    {
      "cell_type": "code",
      "source": [
        "#Sales Trend and sort by Month_Year\n",
        "# Convert Month_Year to datetime format\n",
        "data['Month_Year'] = pd.to_datetime(data['Month_Year'], format='%b %Y')\n",
        "\n",
        "# Group by Month_Year and sum QUANTITY\n",
        "qty_trend = data.groupby(data['Month_Year'].dt.to_period('M'))['QUANTITY'].sum()\n",
        "\n",
        "# Sort the data (it will already be sorted by period)\n",
        "qty_trend = qty_trend.sort_index()\n",
        "\n",
        "# Reset index to display Month_Year in desired format (optional)\n",
        "qty_trend.index = qty_trend.index.strftime('%b %Y')\n",
        "\n",
        "print(qty_trend)\n"
      ],
      "metadata": {
        "colab": {
          "base_uri": "https://localhost:8080/"
        },
        "id": "H6amLy0NriyX",
        "outputId": "aba37db6-bbcb-4656-c756-74d8328cc72f"
      },
      "execution_count": null,
      "outputs": [
        {
          "output_type": "stream",
          "name": "stdout",
          "text": [
            "Month_Year\n",
            "Jan 2024    67526\n",
            "Feb 2024    44063\n",
            "Mar 2024    45385\n",
            "Apr 2024    50555\n",
            "May 2024    69561\n",
            "Jun 2024    60731\n",
            "Jul 2024    74693\n",
            "Aug 2024    68859\n",
            "Sep 2024    66747\n",
            "Oct 2024    84739\n",
            "Nov 2024    75361\n",
            "Dec 2024    57636\n",
            "Name: QUANTITY, dtype: int64\n"
          ]
        }
      ]
    },
    {
      "cell_type": "code",
      "source": [
        "# Plot sales trend for  QUANTITY\n",
        "plt.figure(figsize=(12, 6))\n",
        "\n",
        "# Plot QUANTITY\n",
        "plt.plot(qty_trend.index, qty_trend, label='Quantity', color='red', marker='o')\n",
        "#labels\n",
        "plt.xlabel('Month Year')\n",
        "plt.ylabel('Total Quantity')\n",
        "plt.title('Sales Trend Over Time')"
      ],
      "metadata": {
        "colab": {
          "base_uri": "https://localhost:8080/",
          "height": 581
        },
        "id": "m5VW7PCLwrP9",
        "outputId": "5ac48f87-4802-4e33-d6c3-9f12fe73c49c"
      },
      "execution_count": null,
      "outputs": [
        {
          "output_type": "execute_result",
          "data": {
            "text/plain": [
              "Text(0.5, 1.0, 'Sales Trend Over Time')"
            ]
          },
          "metadata": {},
          "execution_count": 75
        },
        {
          "output_type": "display_data",
          "data": {
            "text/plain": [
              "<Figure size 1200x600 with 1 Axes>"
            ],
            "image/png": "[encoded data removed]"
          },
          "metadata": {}
        }
      ]
    },
    {
      "cell_type": "markdown",
      "source": [
        "## Performance Analysis"
      ],
      "metadata": {
        "id": "4UhLcwhVxVHB"
      }
    },
    {
      "cell_type": "markdown",
      "source": [
        "### Top 5 most  purchased products based on Quantity"
      ],
      "metadata": {
        "id": "Cv3Aauq4bHFu"
      }
    },
    {
      "cell_type": "code",
      "source": [
        "# Top 5 most  purchased products based on Quantity\n",
        "top_5_products_qty = data.groupby('ANONYMIZED PRODUCT')['QUANTITY'].sum().nlargest(5)\n",
        "top_5_products_qty.head()"
      ],
      "metadata": {
        "colab": {
          "base_uri": "https://localhost:8080/",
          "height": 273
        },
        "id": "eR-HOjCzxpFx",
        "outputId": "451a35d0-c80c-45dd-eb49-0a2d9d023ce7"
      },
      "execution_count": null,
      "outputs": [
        {
          "output_type": "execute_result",
          "data": {
            "text/plain": [
              "ANONYMIZED PRODUCT\n",
              "Product-66e0    46957\n",
              "Product-e805    42605\n",
              "Product-8f75    37568\n",
              "Product-29ee    35940\n",
              "Product-4156    28488\n",
              "Name: QUANTITY, dtype: int64"
            ],
            "text/html": [
              "<div>\n",
              "<style scoped>\n",
              "    .dataframe tbody tr th:only-of-type {\n",
              "        vertical-align: middle;\n",
              "    }\n",
              "\n",
              "    .dataframe tbody tr th {\n",
              "        vertical-align: top;\n",
              "    }\n",
              "\n",
              "    .dataframe thead th {\n",
              "        text-align: right;\n",
              "    }\n",
              "</style>\n",
              "<table border=\"1\" class=\"dataframe\">\n",
              "  <thead>\n",
              "    <tr style=\"text-align: right;\">\n",
              "      <th></th>\n",
              "      <th>QUANTITY</th>\n",
              "    </tr>\n",
              "    <tr>\n",
              "      <th>ANONYMIZED PRODUCT</th>\n",
              "      <th></th>\n",
              "    </tr>\n",
              "  </thead>\n",
              "  <tbody>\n",
              "    <tr>\n",
              "      <th>Product-66e0</th>\n",
              "      <td>46957</td>\n",
              "    </tr>\n",
              "    <tr>\n",
              "      <th>Product-e805</th>\n",
              "      <td>42605</td>\n",
              "    </tr>\n",
              "    <tr>\n",
              "      <th>Product-8f75</th>\n",
              "      <td>37568</td>\n",
              "    </tr>\n",
              "    <tr>\n",
              "      <th>Product-29ee</th>\n",
              "      <td>35940</td>\n",
              "    </tr>\n",
              "    <tr>\n",
              "      <th>Product-4156</th>\n",
              "      <td>28488</td>\n",
              "    </tr>\n",
              "  </tbody>\n",
              "</table>\n",
              "</div><br><label><b>dtype:</b> int64</label>"
            ]
          },
          "metadata": {},
          "execution_count": 76
        }
      ]
    },
    {
      "cell_type": "markdown",
      "source": [
        "### Top 5 most  purchased products based on Value"
      ],
      "metadata": {
        "id": "jpdFZyuwbNVb"
      }
    },
    {
      "cell_type": "code",
      "source": [
        "# Top 5 most  purchased products based on Value\n",
        "top_5_products_value = data.groupby('ANONYMIZED PRODUCT')['VALUE'].sum().nlargest(5)\n",
        "top_5_products_value.head()"
      ],
      "metadata": {
        "colab": {
          "base_uri": "https://localhost:8080/",
          "height": 273
        },
        "id": "YqVty6eDykfA",
        "outputId": "f7777a2d-0707-4787-d70c-db852bf9ef09"
      },
      "execution_count": null,
      "outputs": [
        {
          "output_type": "execute_result",
          "data": {
            "text/plain": [
              "ANONYMIZED PRODUCT\n",
              "Product-e805    262805627.0\n",
              "Product-8f75    158805360.0\n",
              "Product-66e0     70704225.0\n",
              "Product-29ee     68248274.0\n",
              "Product-4156     56957907.0\n",
              "Name: VALUE, dtype: float64"
            ],
            "text/html": [
              "<div>\n",
              "<style scoped>\n",
              "    .dataframe tbody tr th:only-of-type {\n",
              "        vertical-align: middle;\n",
              "    }\n",
              "\n",
              "    .dataframe tbody tr th {\n",
              "        vertical-align: top;\n",
              "    }\n",
              "\n",
              "    .dataframe thead th {\n",
              "        text-align: right;\n",
              "    }\n",
              "</style>\n",
              "<table border=\"1\" class=\"dataframe\">\n",
              "  <thead>\n",
              "    <tr style=\"text-align: right;\">\n",
              "      <th></th>\n",
              "      <th>VALUE</th>\n",
              "    </tr>\n",
              "    <tr>\n",
              "      <th>ANONYMIZED PRODUCT</th>\n",
              "      <th></th>\n",
              "    </tr>\n",
              "  </thead>\n",
              "  <tbody>\n",
              "    <tr>\n",
              "      <th>Product-e805</th>\n",
              "      <td>262805627.0</td>\n",
              "    </tr>\n",
              "    <tr>\n",
              "      <th>Product-8f75</th>\n",
              "      <td>158805360.0</td>\n",
              "    </tr>\n",
              "    <tr>\n",
              "      <th>Product-66e0</th>\n",
              "      <td>70704225.0</td>\n",
              "    </tr>\n",
              "    <tr>\n",
              "      <th>Product-29ee</th>\n",
              "      <td>68248274.0</td>\n",
              "    </tr>\n",
              "    <tr>\n",
              "      <th>Product-4156</th>\n",
              "      <td>56957907.0</td>\n",
              "    </tr>\n",
              "  </tbody>\n",
              "</table>\n",
              "</div><br><label><b>dtype:</b> float64</label>"
            ]
          },
          "metadata": {},
          "execution_count": 77
        }
      ]
    },
    {
      "cell_type": "markdown",
      "source": [
        "We see that there is a mismatch between the top five most purchased products based on quantity and the top five most purchased products based on value. This can be explained by the products having different unit prices."
      ],
      "metadata": {
        "id": "dwFFW3t0b37N"
      }
    },
    {
      "cell_type": "markdown",
      "source": [
        "# 3. Advanced Analysis"
      ],
      "metadata": {
        "id": "UsyDg_KRy7Q8"
      }
    },
    {
      "cell_type": "markdown",
      "source": [
        "## Customer Segmentation"
      ],
      "metadata": {
        "id": "J17nMXLWzQZt"
      }
    },
    {
      "cell_type": "markdown",
      "source": [
        "###Segmentation Analysis of Businesses"
      ],
      "metadata": {
        "id": "ZFeQaG8suiBl"
      }
    },
    {
      "cell_type": "code",
      "source": [
        "#Checking number of unique businesses\n",
        "data['ANONYMIZED BUSINESS'].nunique()"
      ],
      "metadata": {
        "colab": {
          "base_uri": "https://localhost:8080/"
        },
        "id": "FKrfiW4OfPFE",
        "outputId": "e093858e-040a-4da2-c9e3-a5537f3057cb"
      },
      "execution_count": null,
      "outputs": [
        {
          "output_type": "execute_result",
          "data": {
            "text/plain": [
              "4800"
            ]
          },
          "metadata": {},
          "execution_count": 78
        }
      ]
    },
    {
      "cell_type": "code",
      "source": [
        "#Segmentation Analysis of Anonymized Business based on QUANTITY, VALUE, FREQUENCY OF ANONYMIZED BUSINESS\n",
        "segmentation_data = data.groupby('ANONYMIZED BUSINESS').agg({\n",
        "    'QUANTITY': 'sum',\n",
        "    'VALUE': 'sum',\n",
        "    'ANONYMIZED PRODUCT': 'count'\n",
        "}).reset_index()\n",
        "#rename columns\n",
        "segmentation_data.rename(columns={'QUANTITY': 'Total Quantity', 'VALUE': 'Total Value','ANONYMIZED PRODUCT': 'Freq of Transactions'}, inplace=True)\n",
        "print(segmentation_data)\n"
      ],
      "metadata": {
        "colab": {
          "base_uri": "https://localhost:8080/"
        },
        "id": "zxBecBqXzBDg",
        "outputId": "b11d8b49-f415-48e1-f9d6-38097a6f079b"
      },
      "execution_count": null,
      "outputs": [
        {
          "output_type": "stream",
          "name": "stdout",
          "text": [
            "     ANONYMIZED BUSINESS  Total Quantity  Total Value  Freq of Transactions\n",
            "0          Business-0000               8      10445.0                     8\n",
            "1          Business-0005               1       2645.0                     1\n",
            "2          Business-0029              26      77340.0                     6\n",
            "3          Business-003d              98     221761.0                    31\n",
            "4          Business-0072             127     225056.0                   101\n",
            "...                  ...             ...          ...                   ...\n",
            "4795       Business-ffa9               3       6740.0                     3\n",
            "4796       Business-ffae               6      10530.0                     5\n",
            "4797       Business-ffb1             266     438115.0                   105\n",
            "4798       Business-ffd2              37      67723.0                    22\n",
            "4799       Business-ffff             110     110285.0                   107\n",
            "\n",
            "[4800 rows x 4 columns]\n"
          ]
        }
      ]
    },
    {
      "cell_type": "markdown",
      "source": [
        "SQL Version\n",
        "\n",
        "```\n",
        "--Create segmentation data from data  \n",
        "CREATE OR REPLACE TABLE `my-new-work-450810.anonymized.segmentation_data` AS  \n",
        "SELECT\n",
        "    `ANONYMIZED BUSINESS`,\n",
        "    SUM(QUANTITY) AS `Total Quantity`,\n",
        "    SUM(VALUE) AS `Total Value`,\n",
        "    COUNT(DISTINCT `ANONYMIZED PRODUCT`) AS `Freq of Transactions`  -- Count distinct products\n",
        "  FROM\n",
        "    `my-new-work-450810.anonymized.data`  -- Replace with your original table\n",
        "  GROUP BY `ANONYMIZED BUSINESS`;\n",
        "```\n",
        "\n"
      ],
      "metadata": {
        "id": "9ggUHnzwa_vx"
      }
    },
    {
      "cell_type": "markdown",
      "source": [
        "We see that the total quanity is not necessarily equal to the frequency of transactions. The reason is that a business is not limited to buying only one unit of a product, that is, for every transaction, the quantity is greater than equal to one."
      ],
      "metadata": {
        "id": "FKQAjhVSdaVy"
      }
    },
    {
      "cell_type": "markdown",
      "source": [
        "### Classifying the Businesses into Three Groups\n",
        "\n",
        "Value classified on the following basis:\n",
        "1. High Value = above 1,000,000 (Total Value)\n",
        "2. Medium Value = 100,000 -1,000,000 (Total Value)\n",
        "3. Low Value = 0-99,999 (Total Value)"
      ],
      "metadata": {
        "id": "_AZT9fx_5XvF"
      }
    },
    {
      "cell_type": "code",
      "source": [
        "#Classify businesses into 3 groups\n",
        "segmentation_data['Segment'] = [\n",
        "    'High Value' if x > 1000000 else ('Medium Value' if x > 100000 else 'Low Value') for x in segmentation_data['Total Value']\n",
        "]\n",
        "print(segmentation_data)"
      ],
      "metadata": {
        "colab": {
          "base_uri": "https://localhost:8080/"
        },
        "id": "wB1zgiPE8WYr",
        "outputId": "2ec90bf7-e9df-4dcd-870f-a24f09542abe"
      },
      "execution_count": null,
      "outputs": [
        {
          "output_type": "stream",
          "name": "stdout",
          "text": [
            "     ANONYMIZED BUSINESS  Total Quantity  Total Value  Freq of Transactions  \\\n",
            "0          Business-0000               8      10445.0                     8   \n",
            "1          Business-0005               1       2645.0                     1   \n",
            "2          Business-0029              26      77340.0                     6   \n",
            "3          Business-003d              98     221761.0                    31   \n",
            "4          Business-0072             127     225056.0                   101   \n",
            "...                  ...             ...          ...                   ...   \n",
            "4795       Business-ffa9               3       6740.0                     3   \n",
            "4796       Business-ffae               6      10530.0                     5   \n",
            "4797       Business-ffb1             266     438115.0                   105   \n",
            "4798       Business-ffd2              37      67723.0                    22   \n",
            "4799       Business-ffff             110     110285.0                   107   \n",
            "\n",
            "           Segment  \n",
            "0        Low Value  \n",
            "1        Low Value  \n",
            "2        Low Value  \n",
            "3     Medium Value  \n",
            "4     Medium Value  \n",
            "...            ...  \n",
            "4795     Low Value  \n",
            "4796     Low Value  \n",
            "4797  Medium Value  \n",
            "4798     Low Value  \n",
            "4799  Medium Value  \n",
            "\n",
            "[4800 rows x 5 columns]\n"
          ]
        }
      ]
    },
    {
      "cell_type": "markdown",
      "source": [
        "SQL Version\n",
        "```\n",
        "--Segmenting Businesses by Total Value\n",
        "SELECT\n",
        "    `ANONYMIZED BUSINESS`,\n",
        "    `Total Value`,\n",
        "    CASE\n",
        "        WHEN `Total Value` < 100000 THEN 'Low Value'\n",
        "        WHEN `Total Value` >= 100000 AND `Total Value` < 1000000 THEN 'Medium Value'\n",
        "        WHEN `Total Value` >= 1000000 THEN 'High Value'\n",
        "        ELSE 'Unknown'  -- Should not happen, but good practice\n",
        "    END AS Segment\n",
        "FROM `my-new-work-450810.anonymized.segmentation_data`;\n",
        "--Outputs data with a new column called Segment\n",
        "\n",
        "```"
      ],
      "metadata": {
        "id": "iEk0bgWTapzY"
      }
    },
    {
      "cell_type": "code",
      "source": [
        "#export this table\n",
        "segmentation_data.to_csv('segmentation_data.csv', index=False)"
      ],
      "metadata": {
        "id": "sSfWjYzxoKPf"
      },
      "execution_count": null,
      "outputs": []
    },
    {
      "cell_type": "code",
      "source": [
        "#Counting number of High Value, Medium Value, and Low Value businesses\n",
        "segmentation_data['Segment'].value_counts()"
      ],
      "metadata": {
        "colab": {
          "base_uri": "https://localhost:8080/",
          "height": 210
        },
        "id": "wZIVU3BB9BNL",
        "outputId": "20a3940c-f42a-4740-f738-ce530110aca9"
      },
      "execution_count": null,
      "outputs": [
        {
          "output_type": "execute_result",
          "data": {
            "text/plain": [
              "Segment\n",
              "Low Value       3021\n",
              "Medium Value    1359\n",
              "High Value       420\n",
              "Name: count, dtype: int64"
            ],
            "text/html": [
              "<div>\n",
              "<style scoped>\n",
              "    .dataframe tbody tr th:only-of-type {\n",
              "        vertical-align: middle;\n",
              "    }\n",
              "\n",
              "    .dataframe tbody tr th {\n",
              "        vertical-align: top;\n",
              "    }\n",
              "\n",
              "    .dataframe thead th {\n",
              "        text-align: right;\n",
              "    }\n",
              "</style>\n",
              "<table border=\"1\" class=\"dataframe\">\n",
              "  <thead>\n",
              "    <tr style=\"text-align: right;\">\n",
              "      <th></th>\n",
              "      <th>count</th>\n",
              "    </tr>\n",
              "    <tr>\n",
              "      <th>Segment</th>\n",
              "      <th></th>\n",
              "    </tr>\n",
              "  </thead>\n",
              "  <tbody>\n",
              "    <tr>\n",
              "      <th>Low Value</th>\n",
              "      <td>3021</td>\n",
              "    </tr>\n",
              "    <tr>\n",
              "      <th>Medium Value</th>\n",
              "      <td>1359</td>\n",
              "    </tr>\n",
              "    <tr>\n",
              "      <th>High Value</th>\n",
              "      <td>420</td>\n",
              "    </tr>\n",
              "  </tbody>\n",
              "</table>\n",
              "</div><br><label><b>dtype:</b> int64</label>"
            ]
          },
          "metadata": {},
          "execution_count": 82
        }
      ]
    },
    {
      "cell_type": "markdown",
      "source": [
        "### Recommendations"
      ],
      "metadata": {
        "id": "3qyYbRBN-GH2"
      }
    },
    {
      "cell_type": "markdown",
      "source": [
        "1. High Value Businesses\n",
        "* Dedicated Account Management: Assign a dedicated account manager to offer personalized attention, address their needs promptly, and anticipate future requirements.\n",
        "* Regular Check-ins: Maintain regular communication through monthly or quarterly business reviews.\n",
        "2. Medium Value\n",
        "* Upselling and Cross-selling: Identify opportunities for upselling or cross-selling based on their past behavior or industry trends.\n",
        "* Loyalty Programs: Introduce loyalty programs to incentivize repeat business, such as discounts, credits, or other rewards.\n",
        "3. Low Value\n",
        "* Incentivize Growth: Offer discounts or promotions to encourage larger purchases or greater frequency of orders.\n",
        "* Referral Programs: Encourage these businesses to refer new clients or customers, offering them incentives like discounts or bonuses for successful referrals."
      ],
      "metadata": {
        "id": "AGQm27FVABOi"
      }
    },
    {
      "cell_type": "markdown",
      "source": [
        "## Forecasting with ARIMA"
      ],
      "metadata": {
        "id": "yE3t8iol4PN2"
      }
    },
    {
      "cell_type": "code",
      "source": [
        "#Group value by Month_Year\n",
        "monthly_data = data.groupby('Month_Year')['VALUE'].sum().reset_index()\n",
        "monthly_data.head(12)"
      ],
      "metadata": {
        "colab": {
          "base_uri": "https://localhost:8080/",
          "height": 426
        },
        "id": "byUDQ_eOxJCT",
        "outputId": "ba33c6b2-75f7-418a-f2e8-bf36f67f2907"
      },
      "execution_count": null,
      "outputs": [
        {
          "output_type": "execute_result",
          "data": {
            "text/plain": [
              "   Month_Year         VALUE\n",
              "0  2024-01-01  1.856324e+08\n",
              "1  2024-02-01  1.266021e+08\n",
              "2  2024-03-01  1.160112e+08\n",
              "3  2024-04-01  1.221122e+08\n",
              "4  2024-05-01  1.688151e+08\n",
              "5  2024-06-01  1.351764e+08\n",
              "6  2024-07-01  1.710446e+08\n",
              "7  2024-08-01  1.466219e+08\n",
              "8  2024-09-01  1.377915e+08\n",
              "9  2024-10-01  1.838406e+08\n",
              "10 2024-11-01  1.659331e+08\n",
              "11 2024-12-01  1.095688e+08"
            ],
            "text/html": [
              "\n",
              "  <div id=\"df-1f482aa5-d213-4c1d-9fa8-d9227c1ff0c3\" class=\"colab-df-container\">\n",
              "    <div>\n",
              "<style scoped>\n",
              "    .dataframe tbody tr th:only-of-type {\n",
              "        vertical-align: middle;\n",
              "    }\n",
              "\n",
              "    .dataframe tbody tr th {\n",
              "        vertical-align: top;\n",
              "    }\n",
              "\n",
              "    .dataframe thead th {\n",
              "        text-align: right;\n",
              "    }\n",
              "</style>\n",
              "<table border=\"1\" class=\"dataframe\">\n",
              "  <thead>\n",
              "    <tr style=\"text-align: right;\">\n",
              "      <th></th>\n",
              "      <th>Month_Year</th>\n",
              "      <th>VALUE</th>\n",
              "    </tr>\n",
              "  </thead>\n",
              "  <tbody>\n",
              "    <tr>\n",
              "      <th>0</th>\n",
              "      <td>2024-01-01</td>\n",
              "      <td>1.856324e+08</td>\n",
              "    </tr>\n",
              "    <tr>\n",
              "      <th>1</th>\n",
              "      <td>2024-02-01</td>\n",
              "      <td>1.266021e+08</td>\n",
              "    </tr>\n",
              "    <tr>\n",
              "      <th>2</th>\n",
              "      <td>2024-03-01</td>\n",
              "      <td>1.160112e+08</td>\n",
              "    </tr>\n",
              "    <tr>\n",
              "      <th>3</th>\n",
              "      <td>2024-04-01</td>\n",
              "      <td>1.221122e+08</td>\n",
              "    </tr>\n",
              "    <tr>\n",
              "      <th>4</th>\n",
              "      <td>2024-05-01</td>\n",
              "      <td>1.688151e+08</td>\n",
              "    </tr>\n",
              "    <tr>\n",
              "      <th>5</th>\n",
              "      <td>2024-06-01</td>\n",
              "      <td>1.351764e+08</td>\n",
              "    </tr>\n",
              "    <tr>\n",
              "      <th>6</th>\n",
              "      <td>2024-07-01</td>\n",
              "      <td>1.710446e+08</td>\n",
              "    </tr>\n",
              "    <tr>\n",
              "      <th>7</th>\n",
              "      <td>2024-08-01</td>\n",
              "      <td>1.466219e+08</td>\n",
              "    </tr>\n",
              "    <tr>\n",
              "      <th>8</th>\n",
              "      <td>2024-09-01</td>\n",
              "      <td>1.377915e+08</td>\n",
              "    </tr>\n",
              "    <tr>\n",
              "      <th>9</th>\n",
              "      <td>2024-10-01</td>\n",
              "      <td>1.838406e+08</td>\n",
              "    </tr>\n",
              "    <tr>\n",
              "      <th>10</th>\n",
              "      <td>2024-11-01</td>\n",
              "      <td>1.659331e+08</td>\n",
              "    </tr>\n",
              "    <tr>\n",
              "      <th>11</th>\n",
              "      <td>2024-12-01</td>\n",
              "      <td>1.095688e+08</td>\n",
              "    </tr>\n",
              "  </tbody>\n",
              "</table>\n",
              "</div>\n",
              "    <div class=\"colab-df-buttons\">\n",
              "\n",
              "  <div class=\"colab-df-container\">\n",
              "    <button class=\"colab-df-convert\" onclick=\"convertToInteractive('df-1f482aa5-d213-4c1d-9fa8-d9227c1ff0c3')\"\n",
              "            title=\"Convert this dataframe to an interactive table.\"\n",
              "            style=\"display:none;\">\n",
              "\n",
              "  <svg xmlns=\"http://www.w3.org/2000/svg\" height=\"24px\" viewBox=\"0 -960 960 960\">\n",
              "    <path d=\"M120-120v-720h720v720H120Zm60-500h600v-160H180v160Zm220 220h160v-160H400v160Zm0 220h160v-160H400v160ZM180-400h160v-160H180v160Zm440 0h160v-160H620v160ZM180-180h160v-160H180v160Zm440 0h160v-160H620v160Z\"/>\n",
              "  </svg>\n",
              "    </button>\n",
              "\n",
              "  <style>\n",
              "    .colab-df-container {\n",
              "      display:flex;\n",
              "      gap: 12px;\n",
              "    }\n",
              "\n",
              "    .colab-df-convert {\n",
              "      background-color: #E8F0FE;\n",
              "      border: none;\n",
              "      border-radius: 50%;\n",
              "      cursor: pointer;\n",
              "      display: none;\n",
              "      fill: #1967D2;\n",
              "      height: 32px;\n",
              "      padding: 0 0 0 0;\n",
              "      width: 32px;\n",
              "    }\n",
              "\n",
              "    .colab-df-convert:hover {\n",
              "      background-color: #E2EBFA;\n",
              "      box-shadow: 0px 1px 2px rgba(60, 64, 67, 0.3), 0px 1px 3px 1px rgba(60, 64, 67, 0.15);\n",
              "      fill: #174EA6;\n",
              "    }\n",
              "\n",
              "    .colab-df-buttons div {\n",
              "      margin-bottom: 4px;\n",
              "    }\n",
              "\n",
              "    [theme=dark] .colab-df-convert {\n",
              "      background-color: #3B4455;\n",
              "      fill: #D2E3FC;\n",
              "    }\n",
              "\n",
              "    [theme=dark] .colab-df-convert:hover {\n",
              "      background-color: #434B5C;\n",
              "      box-shadow: 0px 1px 3px 1px rgba(0, 0, 0, 0.15);\n",
              "      filter: drop-shadow(0px 1px 2px rgba(0, 0, 0, 0.3));\n",
              "      fill: #FFFFFF;\n",
              "    }\n",
              "  </style>\n",
              "\n",
              "    <script>\n",
              "      const buttonEl =\n",
              "        document.querySelector('#df-1f482aa5-d213-4c1d-9fa8-d9227c1ff0c3 button.colab-df-convert');\n",
              "      buttonEl.style.display =\n",
              "        google.colab.kernel.accessAllowed ? 'block' : 'none';\n",
              "\n",
              "      async function convertToInteractive(key) {\n",
              "        const element = document.querySelector('#df-1f482aa5-d213-4c1d-9fa8-d9227c1ff0c3');\n",
              "        const dataTable =\n",
              "          await google.colab.kernel.invokeFunction('convertToInteractive',\n",
              "                                                    [key], {});\n",
              "        if (!dataTable) return;\n",
              "\n",
              "        const docLinkHtml = 'Like what you see? Visit the ' +\n",
              "          '<a target=\"_blank\" href=https://colab.research.google.com/notebooks/data_table.ipynb>data table notebook</a>'\n",
              "          + ' to learn more about interactive tables.';\n",
              "        element.innerHTML = '';\n",
              "        dataTable['output_type'] = 'display_data';\n",
              "        await google.colab.output.renderOutput(dataTable, element);\n",
              "        const docLink = document.createElement('div');\n",
              "        docLink.innerHTML = docLinkHtml;\n",
              "        element.appendChild(docLink);\n",
              "      }\n",
              "    </script>\n",
              "  </div>\n",
              "\n",
              "\n",
              "<div id=\"df-394cf77e-b6fa-48f7-8f83-a884b5999c39\">\n",
              "  <button class=\"colab-df-quickchart\" onclick=\"quickchart('df-394cf77e-b6fa-48f7-8f83-a884b5999c39')\"\n",
              "            title=\"Suggest charts\"\n",
              "            style=\"display:none;\">\n",
              "\n",
              "<svg xmlns=\"http://www.w3.org/2000/svg\" height=\"24px\"viewBox=\"0 0 24 24\"\n",
              "     width=\"24px\">\n",
              "    <g>\n",
              "        <path d=\"M19 3H5c-1.1 0-2 .9-2 2v14c0 1.1.9 2 2 2h14c1.1 0 2-.9 2-2V5c0-1.1-.9-2-2-2zM9 17H7v-7h2v7zm4 0h-2V7h2v10zm4 0h-2v-4h2v4z\"/>\n",
              "    </g>\n",
              "</svg>\n",
              "  </button>\n",
              "\n",
              "<style>\n",
              "  .colab-df-quickchart {\n",
              "      --bg-color: #E8F0FE;\n",
              "      --fill-color: #1967D2;\n",
              "      --hover-bg-color: #E2EBFA;\n",
              "      --hover-fill-color: #174EA6;\n",
              "      --disabled-fill-color: #AAA;\n",
              "      --disabled-bg-color: #DDD;\n",
              "  }\n",
              "\n",
              "  [theme=dark] .colab-df-quickchart {\n",
              "      --bg-color: #3B4455;\n",
              "      --fill-color: #D2E3FC;\n",
              "      --hover-bg-color: #434B5C;\n",
              "      --hover-fill-color: #FFFFFF;\n",
              "      --disabled-bg-color: #3B4455;\n",
              "      --disabled-fill-color: #666;\n",
              "  }\n",
              "\n",
              "  .colab-df-quickchart {\n",
              "    background-color: var(--bg-color);\n",
              "    border: none;\n",
              "    border-radius: 50%;\n",
              "    cursor: pointer;\n",
              "    display: none;\n",
              "    fill: var(--fill-color);\n",
              "    height: 32px;\n",
              "    padding: 0;\n",
              "    width: 32px;\n",
              "  }\n",
              "\n",
              "  .colab-df-quickchart:hover {\n",
              "    background-color: var(--hover-bg-color);\n",
              "    box-shadow: 0 1px 2px rgba(60, 64, 67, 0.3), 0 1px 3px 1px rgba(60, 64, 67, 0.15);\n",
              "    fill: var(--button-hover-fill-color);\n",
              "  }\n",
              "\n",
              "  .colab-df-quickchart-complete:disabled,\n",
              "  .colab-df-quickchart-complete:disabled:hover {\n",
              "    background-color: var(--disabled-bg-color);\n",
              "    fill: var(--disabled-fill-color);\n",
              "    box-shadow: none;\n",
              "  }\n",
              "\n",
              "  .colab-df-spinner {\n",
              "    border: 2px solid var(--fill-color);\n",
              "    border-color: transparent;\n",
              "    border-bottom-color: var(--fill-color);\n",
              "    animation:\n",
              "      spin 1s steps(1) infinite;\n",
              "  }\n",
              "\n",
              "  @keyframes spin {\n",
              "    0% {\n",
              "      border-color: transparent;\n",
              "      border-bottom-color: var(--fill-color);\n",
              "      border-left-color: var(--fill-color);\n",
              "    }\n",
              "    20% {\n",
              "      border-color: transparent;\n",
              "      border-left-color: var(--fill-color);\n",
              "      border-top-color: var(--fill-color);\n",
              "    }\n",
              "    30% {\n",
              "      border-color: transparent;\n",
              "      border-left-color: var(--fill-color);\n",
              "      border-top-color: var(--fill-color);\n",
              "      border-right-color: var(--fill-color);\n",
              "    }\n",
              "    40% {\n",
              "      border-color: transparent;\n",
              "      border-right-color: var(--fill-color);\n",
              "      border-top-color: var(--fill-color);\n",
              "    }\n",
              "    60% {\n",
              "      border-color: transparent;\n",
              "      border-right-color: var(--fill-color);\n",
              "    }\n",
              "    80% {\n",
              "      border-color: transparent;\n",
              "      border-right-color: var(--fill-color);\n",
              "      border-bottom-color: var(--fill-color);\n",
              "    }\n",
              "    90% {\n",
              "      border-color: transparent;\n",
              "      border-bottom-color: var(--fill-color);\n",
              "    }\n",
              "  }\n",
              "</style>\n",
              "\n",
              "  <script>\n",
              "    async function quickchart(key) {\n",
              "      const quickchartButtonEl =\n",
              "        document.querySelector('#' + key + ' button');\n",
              "      quickchartButtonEl.disabled = true;  // To prevent multiple clicks.\n",
              "      quickchartButtonEl.classList.add('colab-df-spinner');\n",
              "      try {\n",
              "        const charts = await google.colab.kernel.invokeFunction(\n",
              "            'suggestCharts', [key], {});\n",
              "      } catch (error) {\n",
              "        console.error('Error during call to suggestCharts:', error);\n",
              "      }\n",
              "      quickchartButtonEl.classList.remove('colab-df-spinner');\n",
              "      quickchartButtonEl.classList.add('colab-df-quickchart-complete');\n",
              "    }\n",
              "    (() => {\n",
              "      let quickchartButtonEl =\n",
              "        document.querySelector('#df-394cf77e-b6fa-48f7-8f83-a884b5999c39 button');\n",
              "      quickchartButtonEl.style.display =\n",
              "        google.colab.kernel.accessAllowed ? 'block' : 'none';\n",
              "    })();\n",
              "  </script>\n",
              "</div>\n",
              "\n",
              "    </div>\n",
              "  </div>\n"
            ],
            "application/vnd.google.colaboratory.intrinsic+json": {
              "type": "dataframe",
              "variable_name": "monthly_data",
              "summary": "{\n  \"name\": \"monthly_data\",\n  \"rows\": 12,\n  \"fields\": [\n    {\n      \"column\": \"Month_Year\",\n      \"properties\": {\n        \"dtype\": \"date\",\n        \"min\": \"2024-01-01 00:00:00\",\n        \"max\": \"2024-12-01 00:00:00\",\n        \"num_unique_values\": 12,\n        \"samples\": [\n          \"2024-11-01 00:00:00\",\n          \"2024-10-01 00:00:00\",\n          \"2024-01-01 00:00:00\"\n        ],\n        \"semantic_type\": \"\",\n        \"description\": \"\"\n      }\n    },\n    {\n      \"column\": \"VALUE\",\n      \"properties\": {\n        \"dtype\": \"number\",\n        \"std\": 26767680.687159218,\n        \"min\": 109568768.0,\n        \"max\": 185632440.74926254,\n        \"num_unique_values\": 12,\n        \"samples\": [\n          165933104.0,\n          183840551.0,\n          185632440.74926254\n        ],\n        \"semantic_type\": \"\",\n        \"description\": \"\"\n      }\n    }\n  ]\n}"
            }
          },
          "metadata": {},
          "execution_count": 83
        }
      ]
    },
    {
      "cell_type": "code",
      "source": [
        "#Fitting an ARIMA model\n",
        "#Importing the ARIMA library\n",
        "from statsmodels.tsa.arima.model import ARIMA\n",
        "\n",
        "# Fit ARIMA model on VALUE\n",
        "model = ARIMA(monthly_data['VALUE'], order=(2, 0, 0))\n",
        "model_fit = model.fit()"
      ],
      "metadata": {
        "id": "1YVHsjkX4U3h"
      },
      "execution_count": null,
      "outputs": []
    },
    {
      "cell_type": "code",
      "source": [
        "# Forecast the next 3 months\n",
        "forecast = model_fit.forecast(steps=3)\n",
        "print(\"Forecast for the next 3 months:\")\n",
        "print(forecast)"
      ],
      "metadata": {
        "colab": {
          "base_uri": "https://localhost:8080/"
        },
        "id": "KPlpwTN6u12w",
        "outputId": "127debc6-deee-499b-f9bd-5f078f6a1be3"
      },
      "execution_count": null,
      "outputs": [
        {
          "output_type": "stream",
          "name": "stdout",
          "text": [
            "Forecast for the next 3 months:\n",
            "12    1.436975e+08\n",
            "13    1.635732e+08\n",
            "14    1.472901e+08\n",
            "Name: predicted_mean, dtype: float64\n"
          ]
        }
      ]
    },
    {
      "cell_type": "code",
      "source": [
        "# Plotting VALUE in 2024 and forecasted 3 months\n",
        "plt.figure(figsize=(12, 6))\n",
        "#plotting monthly_data\n",
        "plt.plot(monthly_data['Month_Year'], monthly_data['VALUE'], label='Actual', color='blue')\n",
        "# Plot forecasted VALUE\n",
        "forecast_index = pd.date_range(start='2025-01-31', periods=3, freq='M')\n",
        "plt.plot(forecast_index, forecast, marker='o', color='red', label='Forecast')\n",
        "#labels\n",
        "plt.title('Monthly Sales Forecast')\n",
        "plt.xlabel('Date')\n",
        "plt.ylabel('Total Sales (Value)')\n",
        "plt.legend()\n",
        "plt.grid(True)\n",
        "plt.show()"
      ],
      "metadata": {
        "colab": {
          "base_uri": "https://localhost:8080/",
          "height": 599
        },
        "id": "G4eI6P151fHo",
        "outputId": "7ce751fb-e6bd-485f-a43e-1d96b82f230b"
      },
      "execution_count": null,
      "outputs": [
        {
          "output_type": "stream",
          "name": "stderr",
          "text": [
            "<ipython-input-86-b4e0c2d8d2f4>:6: FutureWarning: 'M' is deprecated and will be removed in a future version, please use 'ME' instead.\n",
            "  forecast_index = pd.date_range(start='2025-01-31', periods=3, freq='M')\n"
          ]
        },
        {
          "output_type": "display_data",
          "data": {
            "text/plain": [
              "<Figure size 1200x600 with 1 Axes>"
            ],
            "image/png": "[encoded data removed]"
          },
          "metadata": {}
        }
      ]
    },
    {
      "cell_type": "markdown",
      "source": [
        "##Correlation Analysis"
      ],
      "metadata": {
        "id": "gLuX2h7hELrT"
      }
    },
    {
      "cell_type": "code",
      "source": [
        "#plot Quantity and Value\n",
        "plot_data = data.groupby('ANONYMIZED PRODUCT').agg({'QUANTITY': 'sum', 'VALUE': 'sum'}).reset_index()\n",
        "plt.figure(figsize=(10, 6))\n",
        "plt.scatter(plot_data['QUANTITY'], plot_data['VALUE'], alpha=0.5)\n",
        "plt.title('Quantity vs Value')\n",
        "plt.xlabel('Quantity')\n",
        "plt.ylabel('Value')\n",
        "plt.show()"
      ],
      "metadata": {
        "colab": {
          "base_uri": "https://localhost:8080/",
          "height": 564
        },
        "id": "OqJ53SgcFBKf",
        "outputId": "7df8a963-6815-41da-ce83-019c7aec175c"
      },
      "execution_count": null,
      "outputs": [
        {
          "output_type": "display_data",
          "data": {
            "text/plain": [
              "<Figure size 1000x600 with 1 Axes>"
            ],
            "image/png": "[encoded data removed]"
          },
          "metadata": {}
        }
      ]
    },
    {
      "cell_type": "markdown",
      "source": [
        "Insights from the above visualization on Quantity vs Value\n",
        "1. Non-Linear Relationship: The relationship between Quantity and Value does not seem to be perfectly linear.\n",
        "2. Positive Correlation: There appears to be a positive correlation between Quantity and Value. As the Quantity increases, the Value generally tends to increase as well."
      ],
      "metadata": {
        "id": "7n6eeB3CH7vl"
      }
    },
    {
      "cell_type": "markdown",
      "source": [
        "##Anomaly Detection"
      ],
      "metadata": {
        "id": "rFK0MqQkIkdH"
      }
    },
    {
      "cell_type": "markdown",
      "source": [
        "###Anomaly Detection in Terms of Quantity"
      ],
      "metadata": {
        "id": "nVSTSKlgvDwA"
      }
    },
    {
      "cell_type": "markdown",
      "source": [
        "We can check quantity over time to see if there are any unusual spikes or drops in sales."
      ],
      "metadata": {
        "id": "a4psrOIiugPg"
      }
    },
    {
      "cell_type": "code",
      "source": [
        "# Plot sales trend for QUANTITY\n",
        "plt.figure(figsize=(12, 6))\n",
        "\n",
        "# Plot QUANTITY\n",
        "plt.plot(qty_trend.index, qty_trend, label='Quantity', color='red', marker='o')\n",
        "#labels\n",
        "plt.xlabel('Month Year')\n",
        "plt.ylabel('Total Quantity')\n",
        "plt.title('Sales Trend Over Time')"
      ],
      "metadata": {
        "colab": {
          "base_uri": "https://localhost:8080/",
          "height": 581
        },
        "id": "K6hSHaVhub2P",
        "outputId": "f05570e9-0179-4141-8969-b1c7ecfb8180"
      },
      "execution_count": null,
      "outputs": [
        {
          "output_type": "execute_result",
          "data": {
            "text/plain": [
              "Text(0.5, 1.0, 'Sales Trend Over Time')"
            ]
          },
          "metadata": {},
          "execution_count": 88
        },
        {
          "output_type": "display_data",
          "data": {
            "text/plain": [
              "<Figure size 1200x600 with 1 Axes>"
            ],
            "image/png": "[encoded data removed]"
          },
          "metadata": {}
        }
      ]
    },
    {
      "cell_type": "markdown",
      "source": [
        "**Volatility**: Sales quantity shows significant fluctuations throughout the year, indicating inconsistent performance.\n",
        "\n",
        "**Key Peaks:** Notable sales peaks occurred in October (highest), followed by smaller peaks in May and July.  \n",
        "\n",
        "**Significant Drop:** A sharp decline in sales is evident from January to February.\n",
        "\n",
        "**Need for Context:** To pinpoint the exact causes, additional context is crucial.\n",
        "\n",
        "**Possible Drivers:** The fluctuations likely stem from a combination of:\n",
        "* seasonal trends.\n",
        "* external factors.\n",
        "* internal factors.\n",
        "* market dynamics."
      ],
      "metadata": {
        "id": "PLTVrtNUvZxC"
      }
    },
    {
      "cell_type": "markdown",
      "source": [
        "###Anomaly Detection in Terms of Value"
      ],
      "metadata": {
        "id": "jxn5vS2DvLQL"
      }
    },
    {
      "cell_type": "markdown",
      "source": [
        "We can check value over time to see if there are any unusual spikes or drops in sales."
      ],
      "metadata": {
        "id": "FyGJc0LivWWO"
      }
    },
    {
      "cell_type": "code",
      "source": [
        "# Plot sales trend for  VALUE\n",
        "plt.figure(figsize=(12, 6))\n",
        "\n",
        "# Plot VALUE\n",
        "plt.plot(sales_trend.index, sales_trend, label='Value', color='blue', marker='o')\n",
        "#labels\n",
        "plt.xlabel('Month Year')\n",
        "plt.ylabel('Total Value')\n",
        "plt.title('Sales Trend Over Time')"
      ],
      "metadata": {
        "colab": {
          "base_uri": "https://localhost:8080/",
          "height": 581
        },
        "id": "lu-JH_a5uRBa",
        "outputId": "f1ebd78b-65ef-4e69-ebe3-a13bad9942b2"
      },
      "execution_count": null,
      "outputs": [
        {
          "output_type": "execute_result",
          "data": {
            "text/plain": [
              "Text(0.5, 1.0, 'Sales Trend Over Time')"
            ]
          },
          "metadata": {},
          "execution_count": 89
        },
        {
          "output_type": "display_data",
          "data": {
            "text/plain": [
              "<Figure size 1200x600 with 1 Axes>"
            ],
            "image/png": "[encoded data removed]"
          },
          "metadata": {}
        }
      ]
    },
    {
      "cell_type": "markdown",
      "source": [
        "**Volatility:** Total Value fluctuates significantly throughout the year, indicating inconsistent sales performance.\n",
        "\n",
        "**Key Peak:** A major peak occurs in October.\n",
        "\n",
        "**Moderate Peaks:** Smaller peaks are observed in May and July.\n",
        "\n",
        "**Dramatic Drop:** A sharp and significant decline in Total Value happens in December.\n",
        "\n",
        "**Need for Further Analysis:** Comparing with sales quantity data, gathering more context about the business and industry is needed for a more accurate understanding of these trends.\n",
        "\n",
        "**Possible Drivers:** The fluctuations likely stem from a combination of:\n",
        "* seasonal trends.\n",
        "* external factors.\n",
        "* internal factors.\n",
        "* market dynamics.\n",
        "\n"
      ],
      "metadata": {
        "id": "F6cO0L4xva7x"
      }
    },
    {
      "cell_type": "markdown",
      "source": [
        "# 4. Strategic Insights and Recommendations"
      ],
      "metadata": {
        "id": "1SwumA-rHt4k"
      }
    },
    {
      "cell_type": "markdown",
      "source": [
        "## Product Strategy"
      ],
      "metadata": {
        "id": "MVVJcA3SH8Zo"
      }
    },
    {
      "cell_type": "code",
      "source": [
        "#calculate Value grouped by Anonymized Category and sort by ascending\n",
        "value_by_category = data.groupby('ANONYMIZED CATEGORY')['VALUE'].sum().sort_values(ascending=True)\n",
        "print(value_by_category)\n"
      ],
      "metadata": {
        "colab": {
          "base_uri": "https://localhost:8080/"
        },
        "id": "QFCNyNjKH1ZK",
        "outputId": "0abe6af9-3b5b-48ac-82db-66ed0c5f4d0b"
      },
      "execution_count": null,
      "outputs": [
        {
          "output_type": "stream",
          "name": "stdout",
          "text": [
            "ANONYMIZED CATEGORY\n",
            "Category-117    1.550000e+03\n",
            "Category-86     3.320000e+03\n",
            "Category-118    7.560000e+03\n",
            "Category-114    8.600000e+03\n",
            "Category-124    1.006000e+04\n",
            "Category-90     1.575000e+04\n",
            "Category-81     7.206100e+04\n",
            "Category-89     1.368500e+05\n",
            "Category-125    2.970600e+05\n",
            "Category-116    4.227450e+05\n",
            "Category-115    4.253600e+05\n",
            "Category-102    4.644630e+05\n",
            "Category-123    7.307300e+05\n",
            "Category-79     1.184953e+06\n",
            "Category-113    1.260667e+06\n",
            "Category-109    1.263226e+06\n",
            "Category-104    1.557598e+06\n",
            "Category-99     1.589480e+06\n",
            "Category-74     1.929961e+06\n",
            "Category-96     2.249424e+06\n",
            "Category-98     2.519695e+06\n",
            "Category-97     2.628309e+06\n",
            "Category-105    2.718352e+06\n",
            "Category-122    3.500920e+06\n",
            "Category-82     3.930818e+06\n",
            "Category-83     4.039483e+06\n",
            "Category-107    4.173901e+06\n",
            "Category-111    4.387343e+06\n",
            "Category-108    5.101375e+06\n",
            "Category-110    5.484384e+06\n",
            "Category-106    5.932763e+06\n",
            "Category-84     6.798838e+06\n",
            "Category-95     7.466932e+06\n",
            "Category-78     9.794109e+06\n",
            "Category-92     1.047027e+07\n",
            "Category-94     1.675254e+07\n",
            "Category-121    2.233097e+07\n",
            "Category-85     3.377232e+07\n",
            "Category-101    3.561902e+07\n",
            "Category-91     4.415224e+07\n",
            "Category-77     7.674380e+07\n",
            "Category-119    1.034548e+08\n",
            "Category-100    1.349048e+08\n",
            "Category-120    3.191898e+08\n",
            "Category-76     3.449671e+08\n",
            "Category-75     5.446835e+08\n",
            "Name: VALUE, dtype: float64\n"
          ]
        }
      ]
    },
    {
      "cell_type": "markdown",
      "source": [
        "\n",
        "Category-117 has 1550.0 value, which is the lowest. Hence, it should be prioritized for marketing campaign.\n",
        "\n"
      ],
      "metadata": {
        "id": "OSaratrbIdtl"
      }
    },
    {
      "cell_type": "markdown",
      "source": [
        "## Customer Retention"
      ],
      "metadata": {
        "id": "hkKMkzxpIwD6"
      }
    },
    {
      "cell_type": "markdown",
      "source": [
        "## Operational Efficiency"
      ],
      "metadata": {
        "id": "i7iZ2Bbq1kgN"
      }
    },
    {
      "cell_type": "markdown",
      "source": [
        "*Referring to Anomaly Detection Section*\n",
        "\n",
        "**Suggested Improvements:**\n",
        "\n",
        "1. Optimized Inventory for Peak Season (October):\n",
        "\n",
        "**Strategic Stockpiling:** Gradually increase inventory levels of key products leading up to October to meet the anticipated surge in demand.\n",
        "\n",
        "**Supply Chain Collaboration:** Work closely with suppliers to ensure they can meet the increased order volumes in time.\n",
        "\n",
        "2. Inventory Reduction Strategy for Post-Peak (December):\n",
        "\n",
        "**Strategic Promotions**: strategic promotions in November will help clear out excess inventory before the sharp value drop.\n",
        "\n",
        "3. Addressing February Lows:\n",
        "\n",
        "**Targeted Promotions:** Develop targeted marketing campaigns or promotions for February to stimulate demand and mitigate the post-holiday slump.\n",
        "\n",
        "**Evaluate External Factors:** Analyze external factors to understand if the February dip is predictable. If so, adjust inventory and staffing levels accordingly.\n",
        "4. General Supply Chain Enhancements:\n",
        "\n",
        "**Supplier Relationship Management**: Strengthen relationships with key suppliers to improve communication, collaboration, and responsiveness to changes in demand.\n",
        "\n",
        "***Important Note:*** Above are just general suggestions. The most effective improvements will depend on the specific business context and products."
      ],
      "metadata": {
        "id": "4gtzBYGh3SrS"
      }
    },
    {
      "cell_type": "markdown",
      "source": [
        "#Exporting Data\n",
        "\n",
        "We export data for use in creating dashboards."
      ],
      "metadata": {
        "id": "2oWtakUa-p5A"
      }
    },
    {
      "cell_type": "code",
      "source": [
        "#export data\n",
        "data.to_csv('data.csv', index=False)"
      ],
      "metadata": {
        "id": "YaJJwXlt9Qxl"
      },
      "execution_count": null,
      "outputs": []
    },
    {
      "cell_type": "code",
      "source": [
        "#export segmentation_data\n",
        "segmentation_data.to_csv('segmentation_data.csv', index=False)"
      ],
      "metadata": {
        "id": "RJXR61N9BJ9P"
      },
      "execution_count": null,
      "outputs": []
    }
  ]
}
